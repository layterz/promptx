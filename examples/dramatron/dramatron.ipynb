{
 "cells": [
  {
   "cell_type": "markdown",
   "metadata": {},
   "source": [
    "## Dramatron\n",
    "\n",
    "<img src=\"./dramatron.png\" />\n",
    "\n",
    "Implementation of [Dramatron](https://arxiv.org/pdf/2209.14958.pdf), Deepmind's generative story prompt model, which starts with a logline and progressively builds elements of a story ending with dialogue for each scene."
   ]
  },
  {
   "cell_type": "code",
   "execution_count": 1,
   "metadata": {},
   "outputs": [
    {
     "name": "stderr",
     "output_type": "stream",
     "text": [
      "\u001b[32m2023-10-30 09:50:55.366\u001b[0m | \u001b[1mINFO    \u001b[0m | \u001b[36mpromptx\u001b[0m:\u001b[36mload\u001b[0m:\u001b[36m137\u001b[0m - \u001b[1mloading local app from /home/rjl/promptx/examples/dramatron\u001b[0m\n",
      "\u001b[32m2023-10-30 09:50:55.368\u001b[0m | \u001b[1mINFO    \u001b[0m | \u001b[36mpromptx\u001b[0m:\u001b[36mload\u001b[0m:\u001b[36m140\u001b[0m - \u001b[1mloaded environment variables from /home/rjl/promptx/examples/dramatron/.env\u001b[0m\n",
      "\u001b[32m2023-10-30 09:50:55.369\u001b[0m | \u001b[1mINFO    \u001b[0m | \u001b[36mpromptx\u001b[0m:\u001b[36mload\u001b[0m:\u001b[36m141\u001b[0m - \u001b[1mAPI KEY CQZm7\u001b[0m\n"
     ]
    },
    {
     "data": {
      "text/html": [
       "<pre style=\"white-space:pre;overflow-x:auto;line-height:normal;font-family:Menlo,'DejaVu Sans Mono',consolas,'Courier New',monospace\"></pre>\n"
      ],
      "text/plain": []
     },
     "metadata": {},
     "output_type": "display_data"
    },
    {
     "data": {
      "text/plain": [
       "\u001b[1m<\u001b[0m\u001b[1;95mApp\u001b[0m\u001b[39m local \u001b[0m\u001b[33mpath\u001b[0m\u001b[39m=\u001b[0m\u001b[35m/home/rjl/promptx/examples/\u001b[0m\u001b[95mdramatron\u001b[0m\u001b[1m>\u001b[0m"
      ]
     },
     "execution_count": 1,
     "metadata": {},
     "output_type": "execute_result"
    }
   ],
   "source": [
    "from promptx import load\n",
    "\n",
    "load()"
   ]
  },
  {
   "cell_type": "markdown",
   "metadata": {},
   "source": [
    "First define the pydantic types used to generate the story."
   ]
  },
  {
   "cell_type": "code",
   "execution_count": 2,
   "metadata": {},
   "outputs": [],
   "source": [
    "from typing import List\n",
    "from pydantic import Field\n",
    "\n",
    "from promptx import prompt, store, query\n",
    "from promptx.collection import Entity\n",
    "\n",
    "\n",
    "class Character(Entity):\n",
    "    name: str\n",
    "    description: str\n",
    "\n",
    "\n",
    "class Location(Entity):\n",
    "    name: str\n",
    "    description: str\n",
    "\n",
    "\n",
    "class SceneBeat(Entity):\n",
    "    location: str\n",
    "    plot_element: str\n",
    "    description: str\n",
    "\n",
    "\n",
    "class Story(Entity):\n",
    "    logline: str\n",
    "    title: str = None\n",
    "    outline: List[SceneBeat] = None\n",
    "    characters: List[Character] = None\n",
    "    locations: List[Location] = None"
   ]
  },
  {
   "cell_type": "markdown",
   "metadata": {},
   "source": [
    "Before generating a story lets define some examples to use as few shots in the prompts. We'll use the Star Wars examples defined in the paper."
   ]
  },
  {
   "cell_type": "code",
   "execution_count": 3,
   "metadata": {},
   "outputs": [],
   "source": [
    "star_wars = Story(\n",
    "    title=\"Star Wars\",\n",
    "    logline='''\n",
    "    A science - fiction fantasy about a naive but ambitious farm boy from a \n",
    "    backwater desert who discovers powers he never knew he had when he teams \n",
    "    up with a feisty princess, a mercenary space pilot and an old wizard warrior \n",
    "    to lead a ragtag rebellion against the sinister forces of the evil Galactic \n",
    "    Empire.\n",
    "    ''',\n",
    "    characters=[\n",
    "        Character(\n",
    "            name='Luke Skywalker',\n",
    "            description='''\n",
    "            Luke Skywalker is the hero. A naive farm boy, he will \n",
    "            discover special powers under the guidance of mentor \n",
    "            Ben Kenobi.\n",
    "            ''',\n",
    "        ),\n",
    "        Character(\n",
    "            name='Ben Kenobi',\n",
    "            description='''\n",
    "            Ben Kenobi is the mentor figure. A recluse Jedi warrior, \n",
    "            he will take Luke Skywalker as apprentice .\n",
    "            ''',\n",
    "        ),\n",
    "        Character(\n",
    "            name='Dartha Vader',\n",
    "            description='''\n",
    "            Darth Vader is the antagonist. As a commander of the \n",
    "            evil Galactic Empire, he controls space station The \n",
    "            Death Star.\n",
    "            ''',\n",
    "        ),\n",
    "        Character(\n",
    "            name='Princess Leia',\n",
    "            description='''\n",
    "            Princess Leia holds the plans of the Death Star. She is \n",
    "            feisty and brave. She will become Luke's friend.\n",
    "            ''',\n",
    "        ),\n",
    "        Character(\n",
    "            name='Han Solo',\n",
    "            description='''\n",
    "            Han Solo is a brash mercenary space pilot of the \n",
    "            Millenium Falcon and a friend of Chebacca. He will\n",
    "            take Luke on his spaceship.\n",
    "            ''',\n",
    "        ),\n",
    "        Character(\n",
    "            name='Chewbacca',\n",
    "            description='''\n",
    "            Chewbacca is a furry and trustful monster. He is a friend \n",
    "            of Han Solo and a copilot on the Millemium Falcon.\n",
    "            ''',\n",
    "        ),\n",
    "    ],\n",
    "    locations=[\n",
    "        Location(\n",
    "            name='Farm',\n",
    "            description='The farm is a desert planet where Luke Skywalker lives',\n",
    "        ),\n",
    "    ],\n",
    "    outline=[\n",
    "        SceneBeat(\n",
    "            location='A farm on planet Tatooine',\n",
    "            plot_element='The Ordinary World',\n",
    "            description='Luke Skywalker is living a normal and humble life as a farm boy on his home planet.',\n",
    "        ),\n",
    "        SceneBeat(\n",
    "            location='Desert of Tatooine',\n",
    "            plot_element='Call to Adventure',\n",
    "            description='''\n",
    "            Luke is called to his adventure by robot R2-D2 and Ben Kenobi. \n",
    "            Luke triggers R2-D2's message from Princess Leia and is intrigued \n",
    "            by her message. When R2-D2 escapes to find Ben Kenobi, Luke follows \n",
    "            and is later saved by Kenobi, who goes on to tell Luke about his Jedi \n",
    "            heritage. Kenobi suggests that he should come with him.\n",
    "            '''\n",
    "        ),\n",
    "        SceneBeat(\n",
    "            location=\"Ben Kenobi's farm\",\n",
    "            plot_element='Refusal of the Call',\n",
    "            description='''\n",
    "            Luke refuses Kenobi, telling him that he can take Kenobi and the \n",
    "            droids as far as Mos Eisley Spaceport - but he can't possibly leave \n",
    "            his Aunt and Uncle behind for some space adventure.\n",
    "            ''',\n",
    "        ),\n",
    "        SceneBeat(\n",
    "            location='A farm on planet Tatooine',\n",
    "            plot_element='Crossing the First Threshold',\n",
    "            description='''\n",
    "            When Luke discovers that the stormtroopers searching for the droids \n",
    "            would track them to his farm, he rushes to warn his Aunt and Uncle, \n",
    "            only to discover them dead by the hands of the Empire. When Luke \n",
    "            returns to Kenobi, he pledges to go with him to Alderaan and learn \n",
    "            the ways of the Force like his father before him.\n",
    "            ''',\n",
    "        ),\n",
    "        SceneBeat(\n",
    "            location='On spaceship The Millenium Falcon',\n",
    "            plot_element='Tests, Allies, Enemies',\n",
    "            description='''\n",
    "            After Luke, Kenobi, and the droids hire Han Solo and Chewbacca to \n",
    "            transport them onto Alderaan, Kenobi begins Luke's training in the \n",
    "            ways of the Force. Wielding his father's lightsaber, Kenobi \n",
    "            challenges Luke. At first, he can't do it. But then Kenobi tells \n",
    "            Luke to reach out and trust his feelings. Luke succeeds.\n",
    "            ''',\n",
    "        ),\n",
    "        SceneBeat(\n",
    "            location='On spaceship The Millenium Falcon',\n",
    "            plot_element='Approach to the Inmost Cave',\n",
    "            description='''\n",
    "            The plan to defeat the Galactic Empire is to bring the Death Star \n",
    "            plans to Alderaan so that Princess Leia's father can take them to \n",
    "            the Rebellion. However, when they arrive within the system, the \n",
    "            planet is destroyed. They come across the Death Star and are pulled \n",
    "            in by a tractor beam, now trapped within the Galactic Empire.\n",
    "            ''',\n",
    "        ),\n",
    "        SceneBeat(\n",
    "            location='On spacestation The Death Star',\n",
    "            plot_element='Ordeal',\n",
    "            description='''\n",
    "            As Kenobi goes off to deactivate the tractor beam so they can escape, \n",
    "            Luke, Han, and Chewbacca discover that Princess Leia is being held on \n",
    "            the Death Star with them. They rescue her and escape to the Millennium \n",
    "            Falcon, hoping that Kenobi has successfully deactivated the tractor \n",
    "            beam. Kenobi later sacrifices himself as Luke watches Darth Vader \n",
    "            strike him down. Luke must now avenge his fallen mentor and carry on \n",
    "            his teachings.\n",
    "            ''',\n",
    "        ),\n",
    "        SceneBeat(\n",
    "            location='On spacestation The Death Star',\n",
    "            plot_element='Reward',\n",
    "            description='''\n",
    "            Luke has saved the princess and retrieved the Death Star plans. \n",
    "            They now have the knowledge to destroy the Galactic Empire's \n",
    "            greatest weapon once and for all.\n",
    "            ''',\n",
    "        ),\n",
    "        SceneBeat(\n",
    "            location='On spaceship The Millenium Falcon',\n",
    "            plot_element='The Road Back',\n",
    "            description='''\n",
    "            Luke, Leia, Han, Chewbacca, and the droids are headed to the hidden \n",
    "            Rebellion base with the Death Star plans. They are suddenly pursued \n",
    "            by incoming TIE-Fighters, forcing Han and Luke to take action to \n",
    "            defend the ship and escape with their lives - and the plans. They \n",
    "            race to take the plans to the Rebellion and prepare for battle.\n",
    "            ''',\n",
    "        ),\n",
    "        SceneBeat(\n",
    "            location='On fighter ship X-Wing',\n",
    "            plot_element='The Resurrection',\n",
    "            description='''\n",
    "            The Rebels - along with Luke as an X-Wing pilot - take on the Death \n",
    "            Star. The Rebellion and the Galactic Empire wage war in an epic space \n",
    "            battle. Luke is the only X-Wing pilot that was able to get within the \n",
    "            trenches of the Death Star. But Darth Vader and his wingmen are in hot \n",
    "            pursuit. Just as Darth Vader is about to destroy Luke, Han returns and \n",
    "            clears the way for Luke. Luke uses the Force to guide his aiming as he \n",
    "            fires upon the sole weak point of the deadly Death Star, destroying it \n",
    "            for good.\n",
    "            ''',\n",
    "        ),\n",
    "        SceneBeat(\n",
    "            location='At the Rebellion base',\n",
    "            plot_element='The Return',\n",
    "            description='''\n",
    "            Luke and Han return to the Rebellion base, triumphant, as they receive \n",
    "            medals for the heroic journey. There is peace throughout the galaxy - at \n",
    "            least for now.\n",
    "            ''',\n",
    "        ),\n",
    "    ],\n",
    ") \n",
    "    "
   ]
  },
  {
   "cell_type": "markdown",
   "metadata": {},
   "source": [
    "The first step Dramatron defines in the generation process is writing a title based on a user defined logline. Instead of writing this manually, we can use a prompt to generate the logline from a title."
   ]
  },
  {
   "cell_type": "code",
   "execution_count": 4,
   "metadata": {},
   "outputs": [],
   "source": [
    "title = 'Uncut Gems'\n",
    "logline = prompt(f'write a logline for {title}')"
   ]
  },
  {
   "cell_type": "markdown",
   "metadata": {},
   "source": [
    "Next, we define a function that generate an alternative title based on the logline and then use it to add a title to a story instance."
   ]
  },
  {
   "cell_type": "code",
   "execution_count": 5,
   "metadata": {},
   "outputs": [
    {
     "data": {
      "text/html": [
       "<pre style=\"white-space:pre;overflow-x:auto;line-height:normal;font-family:Menlo,'DejaVu Sans Mono',consolas,'Courier New',monospace\"></pre>\n"
      ],
      "text/plain": []
     },
     "metadata": {},
     "output_type": "display_data"
    },
    {
     "data": {
      "text/plain": [
       "\n",
       "\u001b[1;35mStory\u001b[0m\u001b[1m(\u001b[0m\n",
       "    \u001b[33mid\u001b[0m=\u001b[32m'47641e10-9b72-4e1e-b988-1471cddb9433'\u001b[0m,\n",
       "    \u001b[33mtype\u001b[0m=\u001b[32m'story'\u001b[0m,\n",
       "    \u001b[33mlogline\u001b[0m=\u001b[32m'A charismatic and ambitious New York City jeweler, who is constantly on the lookout for the next big score, gets caught up in a high-stakes bet that could either be his ticket to success or his ultimate downfall.'\u001b[0m,\n",
       "    \u001b[33mtitle\u001b[0m=\u001b[32m'Diamonds and Danger: The Gamble of a Lifetime'\u001b[0m,\n",
       "    \u001b[33moutline\u001b[0m=\u001b[3;35mNone\u001b[0m,\n",
       "    \u001b[33mcharacters\u001b[0m=\u001b[3;35mNone\u001b[0m,\n",
       "    \u001b[33mlocations\u001b[0m=\u001b[3;35mNone\u001b[0m\n",
       "\u001b[1m)\u001b[0m"
      ]
     },
     "execution_count": 5,
     "metadata": {},
     "output_type": "execute_result"
    }
   ],
   "source": [
    "from promptx.template import Example\n",
    "\n",
    "examples = [\n",
    "    Example(\n",
    "        star_wars.logline,\n",
    "        \"The Death Star's Menace\"\n",
    "    ),\n",
    "    Example(\n",
    "        \"Residents of San Fernando Valley are under attack by flying saucers from outer space. The aliens are extraterrestrials who seek to stop humanity from creating a doomsday weapon that could destroy the universe and unleash the living dead to stalk humans who wander into the cemetery looking for evidence of the UFOs. The hero Jeff, an airline pilot, will face the aliens.\",\n",
    "        \"The Day The Earth Was Saved By Outer Space.\"\n",
    "    )\n",
    "]\n",
    "\n",
    "def write_title(story: Story) -> str:\n",
    "    return prompt(\n",
    "        'Suggest a alternative, original and descriptive title for a known story.',\n",
    "        story.logline,\n",
    "        examples=examples,\n",
    "    )\n",
    "\n",
    "story = Story(\n",
    "    logline=logline,\n",
    ")\n",
    "\n",
    "title = write_title(story)\n",
    "story.title = title\n",
    "story"
   ]
  },
  {
   "cell_type": "markdown",
   "metadata": {},
   "source": [
    "Next we create a list of character objects based on the story logline and title. We then store them as embeddings so we can query them in later steps."
   ]
  },
  {
   "cell_type": "code",
   "execution_count": 6,
   "metadata": {},
   "outputs": [
    {
     "data": {
      "text/html": [
       "<pre style=\"white-space:pre;overflow-x:auto;line-height:normal;font-family:Menlo,'DejaVu Sans Mono',consolas,'Courier New',monospace\"></pre>\n"
      ],
      "text/plain": []
     },
     "metadata": {},
     "output_type": "display_data"
    },
    {
     "data": {
      "text/plain": [
       "\n",
       "\u001b[1;35mStory\u001b[0m\u001b[1m(\u001b[0m\n",
       "    \u001b[33mid\u001b[0m=\u001b[32m'47641e10-9b72-4e1e-b988-1471cddb9433'\u001b[0m,\n",
       "    \u001b[33mtype\u001b[0m=\u001b[32m'story'\u001b[0m,\n",
       "    \u001b[33mlogline\u001b[0m=\u001b[32m'A charismatic and ambitious New York City jeweler, who is constantly on the lookout for the next big score, gets caught up in a high-stakes bet that could either be his ticket to success or his ultimate downfall.'\u001b[0m,\n",
       "    \u001b[33mtitle\u001b[0m=\u001b[32m'Diamonds and Danger: The Gamble of a Lifetime'\u001b[0m,\n",
       "    \u001b[33moutline\u001b[0m=\u001b[3;35mNone\u001b[0m,\n",
       "    \u001b[33mcharacters\u001b[0m=\u001b[1m[\u001b[0m\n",
       "        \u001b[1;35mCharacter\u001b[0m\u001b[1m(\u001b[0m\n",
       "            \u001b[33mid\u001b[0m=\u001b[32m'5b38f0f4-7cdb-4a06-9cad-d021de178c43'\u001b[0m,\n",
       "            \u001b[33mtype\u001b[0m=\u001b[32m'character'\u001b[0m,\n",
       "            \u001b[33mname\u001b[0m=\u001b[32m'Howard Ratner'\u001b[0m,\n",
       "            \u001b[33mdescription\u001b[0m=\u001b[32m'A charismatic and ambitious New York City jeweler, constantly on the lookout for the next big score.'\u001b[0m\n",
       "        \u001b[1m)\u001b[0m,\n",
       "        \u001b[1;35mCharacter\u001b[0m\u001b[1m(\u001b[0m\n",
       "            \u001b[33mid\u001b[0m=\u001b[32m'03eb96e5-1b52-4ef1-8f09-d30f2d880769'\u001b[0m,\n",
       "            \u001b[33mtype\u001b[0m=\u001b[32m'character'\u001b[0m,\n",
       "            \u001b[33mname\u001b[0m=\u001b[32m'Kevin Garnett'\u001b[0m,\n",
       "            \u001b[33mdescription\u001b[0m=\u001b[32m\"A\u001b[0m\u001b[32m professional basketball player who becomes involved in Howard Ratner's high-stakes bet.\"\u001b[0m\n",
       "        \u001b[1m)\u001b[0m,\n",
       "        \u001b[1;35mCharacter\u001b[0m\u001b[1m(\u001b[0m\n",
       "            \u001b[33mid\u001b[0m=\u001b[32m'a123bb43-c2f8-4494-938f-4babf5474b04'\u001b[0m,\n",
       "            \u001b[33mtype\u001b[0m=\u001b[32m'character'\u001b[0m,\n",
       "            \u001b[33mname\u001b[0m=\u001b[32m'Dinah Ratner'\u001b[0m,\n",
       "            \u001b[33mdescription\u001b[0m=\u001b[32m\"Howard\u001b[0m\u001b[32m Ratner's estranged wife who becomes entangled in his risky schemes.\"\u001b[0m\n",
       "        \u001b[1m)\u001b[0m,\n",
       "        \u001b[1;35mCharacter\u001b[0m\u001b[1m(\u001b[0m\n",
       "            \u001b[33mid\u001b[0m=\u001b[32m'db0af4cd-a17f-4a1d-b5be-2f5763dbefc4'\u001b[0m,\n",
       "            \u001b[33mtype\u001b[0m=\u001b[32m'character'\u001b[0m,\n",
       "            \u001b[33mname\u001b[0m=\u001b[32m'Demany'\u001b[0m,\n",
       "            \u001b[33mdescription\u001b[0m=\u001b[32m\"Howard\u001b[0m\u001b[32m Ratner's business associate and frequent collaborator.\"\u001b[0m\n",
       "        \u001b[1m)\u001b[0m,\n",
       "        \u001b[1;35mCharacter\u001b[0m\u001b[1m(\u001b[0m\n",
       "            \u001b[33mid\u001b[0m=\u001b[32m'd73f28c1-5c32-47b5-8cab-5e32951cf041'\u001b[0m,\n",
       "            \u001b[33mtype\u001b[0m=\u001b[32m'character'\u001b[0m,\n",
       "            \u001b[33mname\u001b[0m=\u001b[32m'Arno'\u001b[0m,\n",
       "            \u001b[33mdescription\u001b[0m=\u001b[32m\"A\u001b[0m\u001b[32m dangerous loan shark who becomes a major threat to Howard Ratner's success.\"\u001b[0m\n",
       "        \u001b[1m)\u001b[0m\n",
       "    \u001b[1m]\u001b[0m,\n",
       "    \u001b[33mlocations\u001b[0m=\u001b[3;35mNone\u001b[0m\n",
       "\u001b[1m)\u001b[0m"
      ]
     },
     "execution_count": 6,
     "metadata": {},
     "output_type": "execute_result"
    }
   ],
   "source": [
    "import json\n",
    "\n",
    "def create_characters(story: Story, n=5) -> List[Character]:\n",
    "    return prompt(\n",
    "        f'Create {n} characters for a story.',\n",
    "        input=story.logline,\n",
    "        output=[Character],\n",
    "        examples=[\n",
    "            Example(\n",
    "                star_wars.logline,\n",
    "                json.dumps([c.model_dump() for c in star_wars.characters])\n",
    "            ),\n",
    "        ],\n",
    "    ).objects\n",
    "\n",
    "characters = create_characters(story)\n",
    "story.characters = characters\n",
    "story"
   ]
  },
  {
   "cell_type": "markdown",
   "metadata": {},
   "source": [
    "Now we can generate a plot outline from the story logline, title, and characters."
   ]
  },
  {
   "cell_type": "code",
   "execution_count": 7,
   "metadata": {},
   "outputs": [
    {
     "data": {
      "text/html": [
       "<pre style=\"white-space:pre;overflow-x:auto;line-height:normal;font-family:Menlo,'DejaVu Sans Mono',consolas,'Courier New',monospace\"></pre>\n"
      ],
      "text/plain": []
     },
     "metadata": {},
     "output_type": "display_data"
    },
    {
     "data": {
      "text/plain": [
       "\n",
       "\u001b[1;35mStory\u001b[0m\u001b[1m(\u001b[0m\n",
       "    \u001b[33mid\u001b[0m=\u001b[32m'47641e10-9b72-4e1e-b988-1471cddb9433'\u001b[0m,\n",
       "    \u001b[33mtype\u001b[0m=\u001b[32m'story'\u001b[0m,\n",
       "    \u001b[33mlogline\u001b[0m=\u001b[32m'A charismatic and ambitious New York City jeweler, who is constantly on the lookout for the next big score, gets caught up in a high-stakes bet that could either be his ticket to success or his ultimate downfall.'\u001b[0m,\n",
       "    \u001b[33mtitle\u001b[0m=\u001b[32m'Diamonds and Danger: The Gamble of a Lifetime'\u001b[0m,\n",
       "    \u001b[33moutline\u001b[0m=\u001b[1m[\u001b[0m\n",
       "        \u001b[1;35mScenebeat\u001b[0m\u001b[1m(\u001b[0m\n",
       "            \u001b[33mid\u001b[0m=\u001b[32m'33e7fb7a-3e0f-4760-956d-d8b7670b91b8'\u001b[0m,\n",
       "            \u001b[33mtype\u001b[0m=\u001b[32m'scenebeat'\u001b[0m,\n",
       "            \u001b[33mlocation\u001b[0m=\u001b[32m'A jewelry store in New York City'\u001b[0m,\n",
       "            \u001b[33mplot_element\u001b[0m=\u001b[32m'The Ordinary World'\u001b[0m,\n",
       "            \u001b[33mdescription\u001b[0m=\u001b[32m'Howard Ratner is seen working in his jewelry store, constantly on the lookout for the next big score.'\u001b[0m\n",
       "        \u001b[1m)\u001b[0m,\n",
       "        \u001b[1;35mScenebeat\u001b[0m\u001b[1m(\u001b[0m\n",
       "            \u001b[33mid\u001b[0m=\u001b[32m'f53e6cec-0e91-4096-854a-94ab56e9f8d4'\u001b[0m,\n",
       "            \u001b[33mtype\u001b[0m=\u001b[32m'scenebeat'\u001b[0m,\n",
       "            \u001b[33mlocation\u001b[0m=\u001b[32m'A basketball game in New York'\u001b[0m,\n",
       "            \u001b[33mplot_element\u001b[0m=\u001b[32m'Call to Adventure'\u001b[0m,\n",
       "            \u001b[33mdescription\u001b[0m=\u001b[32m'\\n            Howard Ratner gets caught up in a high-stakes bet when he meets professional basketball player Kevin Garnett. Kevin becomes interested in a rare gemstone that Howard possesses, leading to a series of risky schemes and deals.\\n            '\u001b[0m\n",
       "        \u001b[1m)\u001b[0m,\n",
       "        \u001b[1;35mScenebeat\u001b[0m\u001b[1m(\u001b[0m\n",
       "            \u001b[33mid\u001b[0m=\u001b[32m'bdead6a0-7fd3-49a7-8ccb-dfb480f48ece'\u001b[0m,\n",
       "            \u001b[33mtype\u001b[0m=\u001b[32m'scenebeat'\u001b[0m,\n",
       "            \u001b[33mlocation\u001b[0m=\u001b[32m\"Howard\u001b[0m\u001b[32m Ratner's apartment\"\u001b[0m,\n",
       "            \u001b[33mplot_element\u001b[0m=\u001b[32m'Refusal of the Call'\u001b[0m,\n",
       "            \u001b[33mdescription\u001b[0m=\u001b[32m\"\\n            Howard's estranged wife, Dinah, warns him against getting involved in the high-stakes bet and urges him to focus on their failing marriage. However, Howard is determined to pursue the potentially lucrative opportunity.\\n            \"\u001b[0m\n",
       "        \u001b[1m)\u001b[0m,\n",
       "        \u001b[1;35mScenebeat\u001b[0m\u001b[1m(\u001b[0m\n",
       "            \u001b[33mid\u001b[0m=\u001b[32m'83062cbb-93e0-4e46-ab04-eb320e42b0f0'\u001b[0m,\n",
       "            \u001b[33mtype\u001b[0m=\u001b[32m'scenebeat'\u001b[0m,\n",
       "            \u001b[33mlocation\u001b[0m=\u001b[32m'A high-end jewelry auction'\u001b[0m,\n",
       "            \u001b[33mplot_element\u001b[0m=\u001b[32m'Crossing the First Threshold'\u001b[0m,\n",
       "            \u001b[33mdescription\u001b[0m=\u001b[32m'\\n            Howard attends a high-end jewelry auction to secure a valuable gemstone for the bet. He successfully acquires the gemstone but encounters dangerous loan shark Arno, who warns him of the consequences if he fails to repay his debts.\\n            '\u001b[0m\n",
       "        \u001b[1m)\u001b[0m,\n",
       "        \u001b[1;35mScenebeat\u001b[0m\u001b[1m(\u001b[0m\n",
       "            \u001b[33mid\u001b[0m=\u001b[32m'0cb9ac1e-cc02-4b5f-9d97-3e8c95a33fae'\u001b[0m,\n",
       "            \u001b[33mtype\u001b[0m=\u001b[32m'scenebeat'\u001b[0m,\n",
       "            \u001b[33mlocation\u001b[0m=\u001b[32m\"Howard\u001b[0m\u001b[32m Ratner's jewelry store\"\u001b[0m,\n",
       "            \u001b[33mplot_element\u001b[0m=\u001b[32m'Tests, Allies, Enemies'\u001b[0m,\n",
       "            \u001b[33mdescription\u001b[0m=\u001b[32m\"\\n            Howard's business associate Demany helps him in connecting with potential buyers for the gemstone. However, Arno becomes a major threat to Howard's success as the pressure to repay his debts intensifies.\\n            \"\u001b[0m\n",
       "        \u001b[1m)\u001b[0m,\n",
       "        \u001b[1;35mScenebeat\u001b[0m\u001b[1m(\u001b[0m\n",
       "            \u001b[33mid\u001b[0m=\u001b[32m'e48a8d0d-67b2-4315-840c-8e8c30275f4e'\u001b[0m,\n",
       "            \u001b[33mtype\u001b[0m=\u001b[32m'scenebeat'\u001b[0m,\n",
       "            \u001b[33mlocation\u001b[0m=\u001b[32m'A high-stakes gathering'\u001b[0m,\n",
       "            \u001b[33mplot_element\u001b[0m=\u001b[32m'Approach to the Inmost Cave'\u001b[0m,\n",
       "            \u001b[33mdescription\u001b[0m=\u001b[32m'\\n            Howard gathers with his allies and enemies at a high-stakes gathering where the bet will take place. Tensions rise as the stakes get higher and the pressure mounts.\\n            '\u001b[0m\n",
       "        \u001b[1m)\u001b[0m,\n",
       "        \u001b[1;35mScenebeat\u001b[0m\u001b[1m(\u001b[0m\n",
       "            \u001b[33mid\u001b[0m=\u001b[32m'597126d6-8f68-4dcb-b7e5-97dbf0ec2811'\u001b[0m,\n",
       "            \u001b[33mtype\u001b[0m=\u001b[32m'scenebeat'\u001b[0m,\n",
       "            \u001b[33mlocation\u001b[0m=\u001b[32m'A hidden gambling den'\u001b[0m,\n",
       "            \u001b[33mplot_element\u001b[0m=\u001b[32m'Ordeal'\u001b[0m,\n",
       "            \u001b[33mdescription\u001b[0m=\u001b[32m'\\n            Howard faces a series of obstacles and challenges in the hidden gambling den where the bet takes place. As the situation becomes dire, he must make some difficult choices to save himself and his reputation.\\n            '\u001b[0m\n",
       "        \u001b[1m)\u001b[0m,\n",
       "        \u001b[1;35mScenebeat\u001b[0m\u001b[1m(\u001b[0m\n",
       "            \u001b[33mid\u001b[0m=\u001b[32m'd6521393-cac2-409f-9735-632fb9727d9f'\u001b[0m,\n",
       "            \u001b[33mtype\u001b[0m=\u001b[32m'scenebeat'\u001b[0m,\n",
       "            \u001b[33mlocation\u001b[0m=\u001b[32m'A jewelry store in New York City'\u001b[0m,\n",
       "            \u001b[33mplot_element\u001b[0m=\u001b[32m'Reward'\u001b[0m,\n",
       "            \u001b[33mdescription\u001b[0m=\u001b[32m'\\n            Despite the risks and challenges, Howard emerges victorious in the bet. He experiences a temporary moment of success and reward as he celebrates his victory.\\n            '\u001b[0m\n",
       "        \u001b[1m)\u001b[0m,\n",
       "        \u001b[1;35mScenebeat\u001b[0m\u001b[1m(\u001b[0m\n",
       "            \u001b[33mid\u001b[0m=\u001b[32m'27057f02-8c8b-4a9b-b564-134ad9a0c8f4'\u001b[0m,\n",
       "            \u001b[33mtype\u001b[0m=\u001b[32m'scenebeat'\u001b[0m,\n",
       "            \u001b[33mlocation\u001b[0m=\u001b[32m'New York City'\u001b[0m,\n",
       "            \u001b[33mplot_element\u001b[0m=\u001b[32m'The Road Back'\u001b[0m,\n",
       "            \u001b[33mdescription\u001b[0m=\u001b[32m'\\n            After his triumph, Howard faces the consequences of his actions as Arno and other enemies come after him to collect their debts. He must find a way to escape their grasp and return to a normal life.\\n            '\u001b[0m\n",
       "        \u001b[1m)\u001b[0m,\n",
       "        \u001b[1;35mScenebeat\u001b[0m\u001b[1m(\u001b[0m\n",
       "            \u001b[33mid\u001b[0m=\u001b[32m'e69c3fc9-11bc-4d8f-94a8-952c5d579c27'\u001b[0m,\n",
       "            \u001b[33mtype\u001b[0m=\u001b[32m'scenebeat'\u001b[0m,\n",
       "            \u001b[33mlocation\u001b[0m=\u001b[32m'A jewelry store in New York City'\u001b[0m,\n",
       "            \u001b[33mplot_element\u001b[0m=\u001b[32m'The Resurrection'\u001b[0m,\n",
       "            \u001b[33mdescription\u001b[0m=\u001b[32m'\\n            Howard confronts his enemies and makes a risky move to regain control of his life. He must gather his courage and use his wit to outsmart his adversaries.\\n            '\u001b[0m\n",
       "        \u001b[1m)\u001b[0m,\n",
       "        \u001b[1;35mScenebeat\u001b[0m\u001b[1m(\u001b[0m\n",
       "            \u001b[33mid\u001b[0m=\u001b[32m'b1052b33-8672-4c4f-be3f-8514357a85c9'\u001b[0m,\n",
       "            \u001b[33mtype\u001b[0m=\u001b[32m'scenebeat'\u001b[0m,\n",
       "            \u001b[33mlocation\u001b[0m=\u001b[32m'A jewelry auction in New York City'\u001b[0m,\n",
       "            \u001b[33mplot_element\u001b[0m=\u001b[32m'The Return'\u001b[0m,\n",
       "            \u001b[33mdescription\u001b[0m=\u001b[32m'\\n            Howard returns to the jewelry auction where his journey started. He reflects on his experiences and learns valuable lessons about the consequences of his actions and the importance of personal relationships.\\n            '\u001b[0m\n",
       "        \u001b[1m)\u001b[0m\n",
       "    \u001b[1m]\u001b[0m,\n",
       "    \u001b[33mcharacters\u001b[0m=\u001b[1m[\u001b[0m\n",
       "        \u001b[1;35mCharacter\u001b[0m\u001b[1m(\u001b[0m\n",
       "            \u001b[33mid\u001b[0m=\u001b[32m'5b38f0f4-7cdb-4a06-9cad-d021de178c43'\u001b[0m,\n",
       "            \u001b[33mtype\u001b[0m=\u001b[32m'character'\u001b[0m,\n",
       "            \u001b[33mname\u001b[0m=\u001b[32m'Howard Ratner'\u001b[0m,\n",
       "            \u001b[33mdescription\u001b[0m=\u001b[32m'A charismatic and ambitious New York City jeweler, constantly on the lookout for the next big score.'\u001b[0m\n",
       "        \u001b[1m)\u001b[0m,\n",
       "        \u001b[1;35mCharacter\u001b[0m\u001b[1m(\u001b[0m\n",
       "            \u001b[33mid\u001b[0m=\u001b[32m'03eb96e5-1b52-4ef1-8f09-d30f2d880769'\u001b[0m,\n",
       "            \u001b[33mtype\u001b[0m=\u001b[32m'character'\u001b[0m,\n",
       "            \u001b[33mname\u001b[0m=\u001b[32m'Kevin Garnett'\u001b[0m,\n",
       "            \u001b[33mdescription\u001b[0m=\u001b[32m\"A\u001b[0m\u001b[32m professional basketball player who becomes involved in Howard Ratner's high-stakes bet.\"\u001b[0m\n",
       "        \u001b[1m)\u001b[0m,\n",
       "        \u001b[1;35mCharacter\u001b[0m\u001b[1m(\u001b[0m\n",
       "            \u001b[33mid\u001b[0m=\u001b[32m'a123bb43-c2f8-4494-938f-4babf5474b04'\u001b[0m,\n",
       "            \u001b[33mtype\u001b[0m=\u001b[32m'character'\u001b[0m,\n",
       "            \u001b[33mname\u001b[0m=\u001b[32m'Dinah Ratner'\u001b[0m,\n",
       "            \u001b[33mdescription\u001b[0m=\u001b[32m\"Howard\u001b[0m\u001b[32m Ratner's estranged wife who becomes entangled in his risky schemes.\"\u001b[0m\n",
       "        \u001b[1m)\u001b[0m,\n",
       "        \u001b[1;35mCharacter\u001b[0m\u001b[1m(\u001b[0m\n",
       "            \u001b[33mid\u001b[0m=\u001b[32m'db0af4cd-a17f-4a1d-b5be-2f5763dbefc4'\u001b[0m,\n",
       "            \u001b[33mtype\u001b[0m=\u001b[32m'character'\u001b[0m,\n",
       "            \u001b[33mname\u001b[0m=\u001b[32m'Demany'\u001b[0m,\n",
       "            \u001b[33mdescription\u001b[0m=\u001b[32m\"Howard\u001b[0m\u001b[32m Ratner's business associate and frequent collaborator.\"\u001b[0m\n",
       "        \u001b[1m)\u001b[0m,\n",
       "        \u001b[1;35mCharacter\u001b[0m\u001b[1m(\u001b[0m\n",
       "            \u001b[33mid\u001b[0m=\u001b[32m'd73f28c1-5c32-47b5-8cab-5e32951cf041'\u001b[0m,\n",
       "            \u001b[33mtype\u001b[0m=\u001b[32m'character'\u001b[0m,\n",
       "            \u001b[33mname\u001b[0m=\u001b[32m'Arno'\u001b[0m,\n",
       "            \u001b[33mdescription\u001b[0m=\u001b[32m\"A\u001b[0m\u001b[32m dangerous loan shark who becomes a major threat to Howard Ratner's success.\"\u001b[0m\n",
       "        \u001b[1m)\u001b[0m\n",
       "    \u001b[1m]\u001b[0m,\n",
       "    \u001b[33mlocations\u001b[0m=\u001b[3;35mNone\u001b[0m\n",
       "\u001b[1m)\u001b[0m"
      ]
     },
     "execution_count": 7,
     "metadata": {},
     "output_type": "execute_result"
    }
   ],
   "source": [
    "def write_beats(story: Story, n=10) -> List[SceneBeat]:\n",
    "    return prompt(\n",
    "        f'''\n",
    "        Write a sequence of {n} scene beats for a story a hero's journey structure.\n",
    "        ''',\n",
    "        input=dict(logline=story.logline, characters=story.characters),\n",
    "        output=[SceneBeat],\n",
    "        examples=[\n",
    "            Example(\n",
    "                json.dumps(dict(logline=star_wars.logline, characters=[c.model_dump() for c in star_wars.characters])),\n",
    "                json.dumps([b.model_dump() for b in star_wars.outline]),\n",
    "            ),\n",
    "        ],\n",
    "    ).objects\n",
    "\n",
    "beats = write_beats(story)\n",
    "story.outline = beats\n",
    "story"
   ]
  },
  {
   "cell_type": "markdown",
   "metadata": {},
   "source": [
    "Next we extract the scene 'beats' from the plot outline generated in the previous step. These are the main events that happen in the story."
   ]
  },
  {
   "cell_type": "markdown",
   "metadata": {},
   "source": [
    "Each scene beat has a location name so we can use this to extract location objects. These are stored like characters. For some reason the examples in the paper don't use locations from Star Wars. They also use the story logline and just the name of the location from the scene beat instead of the description of the scene. It's unclear why these decisions were made, but for consistency we'll do the same."
   ]
  },
  {
   "cell_type": "code",
   "execution_count": 8,
   "metadata": {},
   "outputs": [
    {
     "ename": "AttributeError",
     "evalue": "'list' object has no attribute 'objects'",
     "output_type": "error",
     "traceback": [
      "\u001b[0;31m---------------------------------------------------------------------------\u001b[0m",
      "\u001b[0;31mAttributeError\u001b[0m                            Traceback (most recent call last)",
      "\u001b[1;32m/home/rjl/promptx/examples/dramatron/dramatron.ipynb Cell 17\u001b[0m line \u001b[0;36m7\n\u001b[1;32m     <a href='vscode-notebook-cell://wsl%2Bubuntu/home/rjl/promptx/examples/dramatron/dramatron.ipynb#X22sdnNjb2RlLXJlbW90ZQ%3D%3D?line=65'>66</a>\u001b[0m             locations\u001b[39m.\u001b[39mappend(response)\n\u001b[1;32m     <a href='vscode-notebook-cell://wsl%2Bubuntu/home/rjl/promptx/examples/dramatron/dramatron.ipynb#X22sdnNjb2RlLXJlbW90ZQ%3D%3D?line=66'>67</a>\u001b[0m     \u001b[39mreturn\u001b[39;00m locations\n\u001b[0;32m---> <a href='vscode-notebook-cell://wsl%2Bubuntu/home/rjl/promptx/examples/dramatron/dramatron.ipynb#X22sdnNjb2RlLXJlbW90ZQ%3D%3D?line=69'>70</a>\u001b[0m locations \u001b[39m=\u001b[39m extract_locations(story)\n\u001b[1;32m     <a href='vscode-notebook-cell://wsl%2Bubuntu/home/rjl/promptx/examples/dramatron/dramatron.ipynb#X22sdnNjb2RlLXJlbW90ZQ%3D%3D?line=70'>71</a>\u001b[0m story\u001b[39m.\u001b[39mlocations \u001b[39m=\u001b[39m locations\n\u001b[1;32m     <a href='vscode-notebook-cell://wsl%2Bubuntu/home/rjl/promptx/examples/dramatron/dramatron.ipynb#X22sdnNjb2RlLXJlbW90ZQ%3D%3D?line=71'>72</a>\u001b[0m story\n",
      "\u001b[1;32m/home/rjl/promptx/examples/dramatron/dramatron.ipynb Cell 17\u001b[0m line \u001b[0;36m3\n\u001b[1;32m      <a href='vscode-notebook-cell://wsl%2Bubuntu/home/rjl/promptx/examples/dramatron/dramatron.ipynb#X22sdnNjb2RlLXJlbW90ZQ%3D%3D?line=0'>1</a>\u001b[0m \u001b[39mdef\u001b[39;00m \u001b[39mextract_locations\u001b[39m(story: Story) \u001b[39m-\u001b[39m\u001b[39m>\u001b[39m List[Location]:\n\u001b[1;32m      <a href='vscode-notebook-cell://wsl%2Bubuntu/home/rjl/promptx/examples/dramatron/dramatron.ipynb#X22sdnNjb2RlLXJlbW90ZQ%3D%3D?line=1'>2</a>\u001b[0m     locations \u001b[39m=\u001b[39m []\n\u001b[0;32m----> <a href='vscode-notebook-cell://wsl%2Bubuntu/home/rjl/promptx/examples/dramatron/dramatron.ipynb#X22sdnNjb2RlLXJlbW90ZQ%3D%3D?line=2'>3</a>\u001b[0m     \u001b[39mfor\u001b[39;00m beat \u001b[39min\u001b[39;00m story\u001b[39m.\u001b[39;49moutline\u001b[39m.\u001b[39;49mobjects:\n\u001b[1;32m      <a href='vscode-notebook-cell://wsl%2Bubuntu/home/rjl/promptx/examples/dramatron/dramatron.ipynb#X22sdnNjb2RlLXJlbW90ZQ%3D%3D?line=3'>4</a>\u001b[0m         response \u001b[39m=\u001b[39m prompt(\n\u001b[1;32m      <a href='vscode-notebook-cell://wsl%2Bubuntu/home/rjl/promptx/examples/dramatron/dramatron.ipynb#X22sdnNjb2RlLXJlbW90ZQ%3D%3D?line=4'>5</a>\u001b[0m \u001b[39m            \u001b[39m\u001b[39m'''\u001b[39;00m\n\u001b[1;32m      <a href='vscode-notebook-cell://wsl%2Bubuntu/home/rjl/promptx/examples/dramatron/dramatron.ipynb#X22sdnNjb2RlLXJlbW90ZQ%3D%3D?line=5'>6</a>\u001b[0m \u001b[39m            Generate a location based on the story logline and location name. \u001b[39;00m\n\u001b[0;32m   (...)\u001b[0m\n\u001b[1;32m     <a href='vscode-notebook-cell://wsl%2Bubuntu/home/rjl/promptx/examples/dramatron/dramatron.ipynb#X22sdnNjb2RlLXJlbW90ZQ%3D%3D?line=62'>63</a>\u001b[0m             ],\n\u001b[1;32m     <a href='vscode-notebook-cell://wsl%2Bubuntu/home/rjl/promptx/examples/dramatron/dramatron.ipynb#X22sdnNjb2RlLXJlbW90ZQ%3D%3D?line=63'>64</a>\u001b[0m         )\n\u001b[1;32m     <a href='vscode-notebook-cell://wsl%2Bubuntu/home/rjl/promptx/examples/dramatron/dramatron.ipynb#X22sdnNjb2RlLXJlbW90ZQ%3D%3D?line=64'>65</a>\u001b[0m         \u001b[39mif\u001b[39;00m response \u001b[39mis\u001b[39;00m \u001b[39mnot\u001b[39;00m \u001b[39mNone\u001b[39;00m:\n",
      "\u001b[0;31mAttributeError\u001b[0m: 'list' object has no attribute 'objects'"
     ]
    }
   ],
   "source": [
    "def extract_locations(story: Story) -> List[Location]:\n",
    "    locations = []\n",
    "    for beat in story.outline:\n",
    "        response = prompt(\n",
    "            '''\n",
    "            Generate a location based on the story logline and location name. \n",
    "            ''',\n",
    "            input=dict(logline=story.logline, name=beat.location, known_locations=[l.name for l in locations]),\n",
    "            output=Location,\n",
    "            allow_none=True,\n",
    "            examples=[\n",
    "                Example(\n",
    "                    json.dumps(\n",
    "                        dict(\n",
    "                            logline=\"Morgan adopts a new cat, Misterio, who sets a curse on anyone that pets them.\",\n",
    "                            name=\"The Adoption Center\",\n",
    "                        )\n",
    "                    ),\n",
    "                    Location(\n",
    "                        name=\"The Adoption Center\",\n",
    "                        description='''\n",
    "                        The Adoption Center is a sad place, especially for an unadopted \n",
    "                        pet. It is full of walls and walls of cages and cages. Inside of \n",
    "                        each is an abandoned animal, longing for a home. The lighting is \n",
    "                        dim, gray, buzzing fluorescent.\n",
    "                        ''',\n",
    "                    ).model_dump_json()\n",
    "                ),\n",
    "                Example(\n",
    "                    json.dumps(\n",
    "                        dict(\n",
    "                            logline=\"James finds a well in his backyard that is haunted by the ghost of Sam.\",\n",
    "                            name=\"The Well\",\n",
    "                        ),\n",
    "                    ),\n",
    "                    Location(\n",
    "                        name=\"The Well\",\n",
    "                        description='''\n",
    "                        The well is buried under grass and hedges. It is at least \n",
    "                        twenty feet deep, if not more and it is masoned with stones. \n",
    "                        It is 150 years old at least. It stinks of stale, standing \n",
    "                        water, and has vines growing up the sides. It is narrow enough \n",
    "                        to not be able to fit down if you are a grown adult human.\n",
    "                        ''',\n",
    "                    ).model_dump_json()\n",
    "                ),\n",
    "                Example(\n",
    "                    json.dumps(\n",
    "                        dict(\n",
    "                            logline=\"Mr. Dorbenson finds a book at a garage sale that tells the story of his own life. And it ends in a murder! \",\n",
    "                            name=\"The Garage Sale\",\n",
    "                        )\n",
    "                    ),\n",
    "                    Location(\n",
    "                        name=\"The Garage Sale\",\n",
    "                        description='''\n",
    "                        It is a garage packed with dusty household goods and antiques. \n",
    "                        There is a box at the back that says FREE and is full of paper \n",
    "                        back books.\n",
    "                        ''',\n",
    "                    ).model_dump_json()\n",
    "                ),\n",
    "            ],\n",
    "        )\n",
    "        if response is not None:\n",
    "            locations.append(response)\n",
    "    return locations\n",
    "    \n",
    "\n",
    "locations = extract_locations(story)\n",
    "story.locations = locations\n",
    "story"
   ]
  },
  {
   "cell_type": "markdown",
   "metadata": {},
   "source": [
    "Finally, we can write a script for each scene using the generated scene beats and the characters and locations we generated earlier. Characters and locations are queried using the scene beat data so that the most relevant entries are found using the stored embeddings. Again, the example follows the paper."
   ]
  },
  {
   "cell_type": "markdown",
   "metadata": {},
   "source": [
    "Now we have defined all the functions, lets put it together in a single cell and generate a new story."
   ]
  },
  {
   "cell_type": "code",
   "execution_count": null,
   "metadata": {},
   "outputs": [],
   "source": [
    "def create_story(logline: str) -> Story:\n",
    "    story = Story(logline=logline)\n",
    "    story.title = write_title(story)\n",
    "    story.characters = create_characters(story)\n",
    "    story.outline = write_beats(story)\n",
    "    story.locations = extract_locations(story)\n",
    "    return story"
   ]
  },
  {
   "cell_type": "code",
   "execution_count": null,
   "metadata": {},
   "outputs": [],
   "source": [
    "the_matrix = create_story(\n",
    "    '''\n",
    "    A computer hacker learns from mysterious rebels about the true nature of his reality \n",
    "    and his role in the war against its controllers.\n",
    "    '''\n",
    ")\n",
    "\n",
    "the_matrix"
   ]
  },
  {
   "cell_type": "markdown",
   "metadata": {},
   "source": [
    "The data we've generated only exists in memory."
   ]
  },
  {
   "cell_type": "code",
   "execution_count": null,
   "metadata": {},
   "outputs": [],
   "source": [
    "from promptx import store, query\n",
    "\n",
    "store(story, collection='uncut_gems')\n",
    "store(the_matrix, collection='the_matrix')\n",
    "query(collection='the_matrix')"
   ]
  }
 ],
 "metadata": {
  "kernelspec": {
   "display_name": "Python 3",
   "language": "python",
   "name": "python3"
  },
  "language_info": {
   "codemirror_mode": {
    "name": "ipython",
    "version": 3
   },
   "file_extension": ".py",
   "mimetype": "text/x-python",
   "name": "python",
   "nbconvert_exporter": "python",
   "pygments_lexer": "ipython3",
   "version": "3.10.12"
  },
  "orig_nbformat": 4
 },
 "nbformat": 4,
 "nbformat_minor": 2
}
