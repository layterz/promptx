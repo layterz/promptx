{
 "cells": [
  {
   "cell_type": "markdown",
   "metadata": {},
   "source": [
    "## Dramatron\n",
    "\n",
    "<img src=\"./dramatron.png\" />\n",
    "\n",
    "Implementation of [Dramatron](https://arxiv.org/pdf/2209.14958.pdf), Deepmind's generative story prompt model, which starts with a logline and progressively builds elements of a story ending with dialogue for each scene."
   ]
  },
  {
   "cell_type": "code",
   "execution_count": 1,
   "metadata": {},
   "outputs": [
    {
     "name": "stderr",
     "output_type": "stream",
     "text": [
      "\u001b[32m2023-10-31 03:09:18.006\u001b[0m | \u001b[1mINFO    \u001b[0m | \u001b[36mpromptx\u001b[0m:\u001b[36mload\u001b[0m:\u001b[36m137\u001b[0m - \u001b[1mloading local app from /home/rjl/promptx/examples/dramatron\u001b[0m\n",
      "\u001b[32m2023-10-31 03:09:18.008\u001b[0m | \u001b[1mINFO    \u001b[0m | \u001b[36mpromptx\u001b[0m:\u001b[36mload\u001b[0m:\u001b[36m140\u001b[0m - \u001b[1mloaded environment variables from /home/rjl/promptx/examples/dramatron/.env\u001b[0m\n",
      "\u001b[32m2023-10-31 03:09:18.009\u001b[0m | \u001b[1mINFO    \u001b[0m | \u001b[36mpromptx\u001b[0m:\u001b[36mload\u001b[0m:\u001b[36m141\u001b[0m - \u001b[1mAPI KEY wMeGC\u001b[0m\n"
     ]
    },
    {
     "data": {
      "text/html": [
       "<pre style=\"white-space:pre;overflow-x:auto;line-height:normal;font-family:Menlo,'DejaVu Sans Mono',consolas,'Courier New',monospace\"></pre>\n"
      ],
      "text/plain": []
     },
     "metadata": {},
     "output_type": "display_data"
    },
    {
     "data": {
      "text/plain": [
       "\u001b[1m<\u001b[0m\u001b[1;95mApp\u001b[0m\u001b[39m local \u001b[0m\u001b[33mpath\u001b[0m\u001b[39m=\u001b[0m\u001b[35m/home/rjl/promptx/examples/\u001b[0m\u001b[95mdramatron\u001b[0m\u001b[1m>\u001b[0m"
      ]
     },
     "execution_count": 1,
     "metadata": {},
     "output_type": "execute_result"
    }
   ],
   "source": [
    "from promptx import load\n",
    "\n",
    "load()"
   ]
  },
  {
   "cell_type": "markdown",
   "metadata": {},
   "source": [
    "First define the pydantic types used to generate the story."
   ]
  },
  {
   "cell_type": "code",
   "execution_count": 2,
   "metadata": {},
   "outputs": [],
   "source": [
    "from typing import List\n",
    "from pydantic import Field\n",
    "\n",
    "from promptx import prompt, store, query\n",
    "from promptx.collection import Entity\n",
    "\n",
    "\n",
    "class Character(Entity):\n",
    "    name: str\n",
    "    description: str\n",
    "\n",
    "\n",
    "class Location(Entity):\n",
    "    name: str\n",
    "    description: str\n",
    "\n",
    "\n",
    "class SceneBeat(Entity):\n",
    "    location: str\n",
    "    plot_element: str\n",
    "    description: str\n",
    "\n",
    "\n",
    "class Story(Entity):\n",
    "    logline: str\n",
    "    title: str = None\n",
    "    outline: List[SceneBeat] = None\n",
    "    characters: List[Character] = None\n",
    "    locations: List[Location] = None\n",
    "\n",
    "    def __init__(self, logline, **kwargs):\n",
    "        super().__init__(logline=logline, **kwargs)"
   ]
  },
  {
   "cell_type": "markdown",
   "metadata": {},
   "source": [
    "Before generating a story lets define some examples to use as few shots in the prompts. We'll use the Star Wars examples defined in the paper."
   ]
  },
  {
   "cell_type": "code",
   "execution_count": 3,
   "metadata": {},
   "outputs": [],
   "source": [
    "star_wars = Story(\n",
    "    title=\"Star Wars\",\n",
    "    logline='''\n",
    "    A science - fiction fantasy about a naive but ambitious farm boy from a \n",
    "    backwater desert who discovers powers he never knew he had when he teams \n",
    "    up with a feisty princess, a mercenary space pilot and an old wizard warrior \n",
    "    to lead a ragtag rebellion against the sinister forces of the evil Galactic \n",
    "    Empire.\n",
    "    ''',\n",
    "    characters=[\n",
    "        Character(\n",
    "            name='Luke Skywalker',\n",
    "            description='''\n",
    "            Luke Skywalker is the hero. A naive farm boy, he will \n",
    "            discover special powers under the guidance of mentor \n",
    "            Ben Kenobi.\n",
    "            ''',\n",
    "        ),\n",
    "        Character(\n",
    "            name='Ben Kenobi',\n",
    "            description='''\n",
    "            Ben Kenobi is the mentor figure. A recluse Jedi warrior, \n",
    "            he will take Luke Skywalker as apprentice .\n",
    "            ''',\n",
    "        ),\n",
    "        Character(\n",
    "            name='Dartha Vader',\n",
    "            description='''\n",
    "            Darth Vader is the antagonist. As a commander of the \n",
    "            evil Galactic Empire, he controls space station The \n",
    "            Death Star.\n",
    "            ''',\n",
    "        ),\n",
    "        Character(\n",
    "            name='Princess Leia',\n",
    "            description='''\n",
    "            Princess Leia holds the plans of the Death Star. She is \n",
    "            feisty and brave. She will become Luke's friend.\n",
    "            ''',\n",
    "        ),\n",
    "        Character(\n",
    "            name='Han Solo',\n",
    "            description='''\n",
    "            Han Solo is a brash mercenary space pilot of the \n",
    "            Millenium Falcon and a friend of Chebacca. He will\n",
    "            take Luke on his spaceship.\n",
    "            ''',\n",
    "        ),\n",
    "        Character(\n",
    "            name='Chewbacca',\n",
    "            description='''\n",
    "            Chewbacca is a furry and trustful monster. He is a friend \n",
    "            of Han Solo and a copilot on the Millemium Falcon.\n",
    "            ''',\n",
    "        ),\n",
    "    ],\n",
    "    locations=[\n",
    "        Location(\n",
    "            name='Farm',\n",
    "            description='The farm is a desert planet where Luke Skywalker lives',\n",
    "        ),\n",
    "    ],\n",
    "    outline=[\n",
    "        SceneBeat(\n",
    "            location='A farm on planet Tatooine',\n",
    "            plot_element='The Ordinary World',\n",
    "            description='Luke Skywalker is living a normal and humble life as a farm boy on his home planet.',\n",
    "        ),\n",
    "        SceneBeat(\n",
    "            location='Desert of Tatooine',\n",
    "            plot_element='Call to Adventure',\n",
    "            description='''\n",
    "            Luke is called to his adventure by robot R2-D2 and Ben Kenobi. \n",
    "            Luke triggers R2-D2's message from Princess Leia and is intrigued \n",
    "            by her message. When R2-D2 escapes to find Ben Kenobi, Luke follows \n",
    "            and is later saved by Kenobi, who goes on to tell Luke about his Jedi \n",
    "            heritage. Kenobi suggests that he should come with him.\n",
    "            '''\n",
    "        ),\n",
    "        SceneBeat(\n",
    "            location=\"Ben Kenobi's farm\",\n",
    "            plot_element='Refusal of the Call',\n",
    "            description='''\n",
    "            Luke refuses Kenobi, telling him that he can take Kenobi and the \n",
    "            droids as far as Mos Eisley Spaceport - but he can't possibly leave \n",
    "            his Aunt and Uncle behind for some space adventure.\n",
    "            ''',\n",
    "        ),\n",
    "        SceneBeat(\n",
    "            location='A farm on planet Tatooine',\n",
    "            plot_element='Crossing the First Threshold',\n",
    "            description='''\n",
    "            When Luke discovers that the stormtroopers searching for the droids \n",
    "            would track them to his farm, he rushes to warn his Aunt and Uncle, \n",
    "            only to discover them dead by the hands of the Empire. When Luke \n",
    "            returns to Kenobi, he pledges to go with him to Alderaan and learn \n",
    "            the ways of the Force like his father before him.\n",
    "            ''',\n",
    "        ),\n",
    "        SceneBeat(\n",
    "            location='On spaceship The Millenium Falcon',\n",
    "            plot_element='Tests, Allies, Enemies',\n",
    "            description='''\n",
    "            After Luke, Kenobi, and the droids hire Han Solo and Chewbacca to \n",
    "            transport them onto Alderaan, Kenobi begins Luke's training in the \n",
    "            ways of the Force. Wielding his father's lightsaber, Kenobi \n",
    "            challenges Luke. At first, he can't do it. But then Kenobi tells \n",
    "            Luke to reach out and trust his feelings. Luke succeeds.\n",
    "            ''',\n",
    "        ),\n",
    "        SceneBeat(\n",
    "            location='On spaceship The Millenium Falcon',\n",
    "            plot_element='Approach to the Inmost Cave',\n",
    "            description='''\n",
    "            The plan to defeat the Galactic Empire is to bring the Death Star \n",
    "            plans to Alderaan so that Princess Leia's father can take them to \n",
    "            the Rebellion. However, when they arrive within the system, the \n",
    "            planet is destroyed. They come across the Death Star and are pulled \n",
    "            in by a tractor beam, now trapped within the Galactic Empire.\n",
    "            ''',\n",
    "        ),\n",
    "        SceneBeat(\n",
    "            location='On spacestation The Death Star',\n",
    "            plot_element='Ordeal',\n",
    "            description='''\n",
    "            As Kenobi goes off to deactivate the tractor beam so they can escape, \n",
    "            Luke, Han, and Chewbacca discover that Princess Leia is being held on \n",
    "            the Death Star with them. They rescue her and escape to the Millennium \n",
    "            Falcon, hoping that Kenobi has successfully deactivated the tractor \n",
    "            beam. Kenobi later sacrifices himself as Luke watches Darth Vader \n",
    "            strike him down. Luke must now avenge his fallen mentor and carry on \n",
    "            his teachings.\n",
    "            ''',\n",
    "        ),\n",
    "        SceneBeat(\n",
    "            location='On spacestation The Death Star',\n",
    "            plot_element='Reward',\n",
    "            description='''\n",
    "            Luke has saved the princess and retrieved the Death Star plans. \n",
    "            They now have the knowledge to destroy the Galactic Empire's \n",
    "            greatest weapon once and for all.\n",
    "            ''',\n",
    "        ),\n",
    "        SceneBeat(\n",
    "            location='On spaceship The Millenium Falcon',\n",
    "            plot_element='The Road Back',\n",
    "            description='''\n",
    "            Luke, Leia, Han, Chewbacca, and the droids are headed to the hidden \n",
    "            Rebellion base with the Death Star plans. They are suddenly pursued \n",
    "            by incoming TIE-Fighters, forcing Han and Luke to take action to \n",
    "            defend the ship and escape with their lives - and the plans. They \n",
    "            race to take the plans to the Rebellion and prepare for battle.\n",
    "            ''',\n",
    "        ),\n",
    "        SceneBeat(\n",
    "            location='On fighter ship X-Wing',\n",
    "            plot_element='The Resurrection',\n",
    "            description='''\n",
    "            The Rebels - along with Luke as an X-Wing pilot - take on the Death \n",
    "            Star. The Rebellion and the Galactic Empire wage war in an epic space \n",
    "            battle. Luke is the only X-Wing pilot that was able to get within the \n",
    "            trenches of the Death Star. But Darth Vader and his wingmen are in hot \n",
    "            pursuit. Just as Darth Vader is about to destroy Luke, Han returns and \n",
    "            clears the way for Luke. Luke uses the Force to guide his aiming as he \n",
    "            fires upon the sole weak point of the deadly Death Star, destroying it \n",
    "            for good.\n",
    "            ''',\n",
    "        ),\n",
    "        SceneBeat(\n",
    "            location='At the Rebellion base',\n",
    "            plot_element='The Return',\n",
    "            description='''\n",
    "            Luke and Han return to the Rebellion base, triumphant, as they receive \n",
    "            medals for the heroic journey. There is peace throughout the galaxy - at \n",
    "            least for now.\n",
    "            ''',\n",
    "        ),\n",
    "    ],\n",
    ") \n",
    "    "
   ]
  },
  {
   "cell_type": "markdown",
   "metadata": {},
   "source": [
    "The first step Dramatron defines in the generation process is writing a title based on a user defined logline. Instead of writing this manually, we can use a prompt to generate the logline from a title."
   ]
  },
  {
   "cell_type": "markdown",
   "metadata": {},
   "source": [
    "Next, we define a function that generate an alternative title based on the logline and then use it to add a title to a story instance."
   ]
  },
  {
   "cell_type": "code",
   "execution_count": 4,
   "metadata": {},
   "outputs": [
    {
     "data": {
      "text/html": [
       "<pre style=\"white-space:pre;overflow-x:auto;line-height:normal;font-family:Menlo,'DejaVu Sans Mono',consolas,'Courier New',monospace\"></pre>\n"
      ],
      "text/plain": []
     },
     "metadata": {},
     "output_type": "display_data"
    },
    {
     "data": {
      "text/plain": [
       "\n",
       "\u001b[1;35mStory\u001b[0m\u001b[1m(\u001b[0m\n",
       "    \u001b[33mid\u001b[0m=\u001b[32m'549b2a91-4033-4702-bc6b-3374521d63da'\u001b[0m,\n",
       "    \u001b[33mtype\u001b[0m=\u001b[32m'story'\u001b[0m,\n",
       "    \u001b[33mlogline\u001b[0m=\u001b[32m'\\n    A computer hacker learns from mysterious rebels about the true nature of his reality and his role in the war against its controllers.\\n    '\u001b[0m,\n",
       "    \u001b[33mtitle\u001b[0m=\u001b[32m'The Matrix: Unplugged'\u001b[0m,\n",
       "    \u001b[33moutline\u001b[0m=\u001b[3;35mNone\u001b[0m,\n",
       "    \u001b[33mcharacters\u001b[0m=\u001b[3;35mNone\u001b[0m,\n",
       "    \u001b[33mlocations\u001b[0m=\u001b[3;35mNone\u001b[0m\n",
       "\u001b[1m)\u001b[0m"
      ]
     },
     "execution_count": 4,
     "metadata": {},
     "output_type": "execute_result"
    }
   ],
   "source": [
    "from promptx.template import Example\n",
    "\n",
    "\n",
    "def write_title(story: Story) -> str:\n",
    "    return prompt(\n",
    "        'Suggest a alternative, original and descriptive title for a known story.',\n",
    "        story.logline,\n",
    "        examples = [\n",
    "            Example(\n",
    "                star_wars.logline,\n",
    "                \"The Death Star's Menace\"\n",
    "            ),\n",
    "            Example(\n",
    "                \"Residents of San Fernando Valley are under attack by flying saucers from outer space. The aliens are extraterrestrials who seek to stop humanity from creating a doomsday weapon that could destroy the universe and unleash the living dead to stalk humans who wander into the cemetery looking for evidence of the UFOs. The hero Jeff, an airline pilot, will face the aliens.\",\n",
    "                \"The Day The Earth Was Saved By Outer Space.\"\n",
    "            )\n",
    "        ]\n",
    "    )\n",
    "\n",
    "story = Story(\n",
    "    '''\n",
    "    A computer hacker learns from mysterious rebels about the true nature of his reality and his role in the war against its controllers.\n",
    "    '''\n",
    ")\n",
    "\n",
    "title = write_title(story)\n",
    "story.title = title\n",
    "story"
   ]
  },
  {
   "cell_type": "markdown",
   "metadata": {},
   "source": [
    "Next we create a list of character objects based on the story logline and title. We then store them as embeddings so we can query them in later steps."
   ]
  },
  {
   "cell_type": "code",
   "execution_count": 5,
   "metadata": {},
   "outputs": [
    {
     "data": {
      "text/html": [
       "<pre style=\"white-space:pre;overflow-x:auto;line-height:normal;font-family:Menlo,'DejaVu Sans Mono',consolas,'Courier New',monospace\"></pre>\n"
      ],
      "text/plain": []
     },
     "metadata": {},
     "output_type": "display_data"
    },
    {
     "data": {
      "text/plain": [
       "\n",
       "\u001b[1;35mStory\u001b[0m\u001b[1m(\u001b[0m\n",
       "    \u001b[33mid\u001b[0m=\u001b[32m'549b2a91-4033-4702-bc6b-3374521d63da'\u001b[0m,\n",
       "    \u001b[33mtype\u001b[0m=\u001b[32m'story'\u001b[0m,\n",
       "    \u001b[33mlogline\u001b[0m=\u001b[32m'\\n    A computer hacker learns from mysterious rebels about the true nature of his reality and his role in the war against its controllers.\\n    '\u001b[0m,\n",
       "    \u001b[33mtitle\u001b[0m=\u001b[32m'The Matrix: Unplugged'\u001b[0m,\n",
       "    \u001b[33moutline\u001b[0m=\u001b[3;35mNone\u001b[0m,\n",
       "    \u001b[33mcharacters\u001b[0m=\u001b[1m[\u001b[0m\n",
       "        \u001b[1;35mCharacter\u001b[0m\u001b[1m(\u001b[0m\n",
       "            \u001b[33mid\u001b[0m=\u001b[32m'e8c45d10-4bde-4f17-92da-def1c129879a'\u001b[0m,\n",
       "            \u001b[33mtype\u001b[0m=\u001b[32m'character'\u001b[0m,\n",
       "            \u001b[33mname\u001b[0m=\u001b[32m'Neo'\u001b[0m,\n",
       "            \u001b[33mdescription\u001b[0m=\u001b[32m'Neo is the protagonist. A computer hacker who discovers the truth about the Matrix and his role in the war against the controllers.'\u001b[0m\n",
       "        \u001b[1m)\u001b[0m,\n",
       "        \u001b[1;35mCharacter\u001b[0m\u001b[1m(\u001b[0m\n",
       "            \u001b[33mid\u001b[0m=\u001b[32m'0adeb40e-98f1-4cc0-a8c3-340d53dc56d2'\u001b[0m,\n",
       "            \u001b[33mtype\u001b[0m=\u001b[32m'character'\u001b[0m,\n",
       "            \u001b[33mname\u001b[0m=\u001b[32m'Morpheus'\u001b[0m,\n",
       "            \u001b[33mdescription\u001b[0m=\u001b[32m'Morpheus is a leader of the rebel group. He helps Neo understand his true nature and guides him in his fight against the machines.'\u001b[0m\n",
       "        \u001b[1m)\u001b[0m,\n",
       "        \u001b[1;35mCharacter\u001b[0m\u001b[1m(\u001b[0m\n",
       "            \u001b[33mid\u001b[0m=\u001b[32m'7bfa7e14-c111-428d-ab36-7f0bfcf47276'\u001b[0m,\n",
       "            \u001b[33mtype\u001b[0m=\u001b[32m'character'\u001b[0m,\n",
       "            \u001b[33mname\u001b[0m=\u001b[32m'Trinity'\u001b[0m,\n",
       "            \u001b[33mdescription\u001b[0m=\u001b[32m\"Trinity\u001b[0m\u001b[32m is a skilled hacker and fighter. She is a member of the rebel group and becomes Neo's love interest.\"\u001b[0m\n",
       "        \u001b[1m)\u001b[0m,\n",
       "        \u001b[1;35mCharacter\u001b[0m\u001b[1m(\u001b[0m\n",
       "            \u001b[33mid\u001b[0m=\u001b[32m'b4a672a5-2457-43dc-a7cc-a4c6cf28912f'\u001b[0m,\n",
       "            \u001b[33mtype\u001b[0m=\u001b[32m'character'\u001b[0m,\n",
       "            \u001b[33mname\u001b[0m=\u001b[32m'Agent Smith'\u001b[0m,\n",
       "            \u001b[33mdescription\u001b[0m=\u001b[32m'Agent Smith is the main antagonist. He is an advanced program within the Matrix and is determined to eliminate Neo and the rebels.'\u001b[0m\n",
       "        \u001b[1m)\u001b[0m,\n",
       "        \u001b[1;35mCharacter\u001b[0m\u001b[1m(\u001b[0m\n",
       "            \u001b[33mid\u001b[0m=\u001b[32m'0b64047b-de3e-4c68-9190-e03714d68e4d'\u001b[0m,\n",
       "            \u001b[33mtype\u001b[0m=\u001b[32m'character'\u001b[0m,\n",
       "            \u001b[33mname\u001b[0m=\u001b[32m'Cypher'\u001b[0m,\n",
       "            \u001b[33mdescription\u001b[0m=\u001b[32m'Cypher is a member of the rebel group who betrays his comrades in order to return to the blissful ignorance of the Matrix.'\u001b[0m\n",
       "        \u001b[1m)\u001b[0m\n",
       "    \u001b[1m]\u001b[0m,\n",
       "    \u001b[33mlocations\u001b[0m=\u001b[3;35mNone\u001b[0m\n",
       "\u001b[1m)\u001b[0m"
      ]
     },
     "execution_count": 5,
     "metadata": {},
     "output_type": "execute_result"
    }
   ],
   "source": [
    "import json\n",
    "\n",
    "def create_characters(story: Story, n=5) -> List[Character]:\n",
    "    return prompt(\n",
    "        f'Create {n} characters for a story.',\n",
    "        input=story.logline,\n",
    "        output=[Character],\n",
    "        examples=[\n",
    "            Example(\n",
    "                star_wars.logline,\n",
    "                star_wars.characters,\n",
    "            ),\n",
    "        ],\n",
    "    ).objects\n",
    "\n",
    "characters = create_characters(story)\n",
    "story.characters = characters\n",
    "story"
   ]
  },
  {
   "cell_type": "markdown",
   "metadata": {},
   "source": [
    "Now we can generate a plot outline from the story logline, title, and characters."
   ]
  },
  {
   "cell_type": "code",
   "execution_count": 7,
   "metadata": {},
   "outputs": [
    {
     "data": {
      "text/html": [
       "<pre style=\"white-space:pre;overflow-x:auto;line-height:normal;font-family:Menlo,'DejaVu Sans Mono',consolas,'Courier New',monospace\"></pre>\n"
      ],
      "text/plain": []
     },
     "metadata": {},
     "output_type": "display_data"
    },
    {
     "data": {
      "text/plain": [
       "\n",
       "\u001b[1;35mStory\u001b[0m\u001b[1m(\u001b[0m\n",
       "    \u001b[33mid\u001b[0m=\u001b[32m'549b2a91-4033-4702-bc6b-3374521d63da'\u001b[0m,\n",
       "    \u001b[33mtype\u001b[0m=\u001b[32m'story'\u001b[0m,\n",
       "    \u001b[33mlogline\u001b[0m=\u001b[32m'\\n    A computer hacker learns from mysterious rebels about the true nature of his reality and his role in the war against its controllers.\\n    '\u001b[0m,\n",
       "    \u001b[33mtitle\u001b[0m=\u001b[32m'The Matrix: Unplugged'\u001b[0m,\n",
       "    \u001b[33moutline\u001b[0m=\u001b[1m[\u001b[0m\n",
       "        \u001b[1;35mScenebeat\u001b[0m\u001b[1m(\u001b[0m\n",
       "            \u001b[33mid\u001b[0m=\u001b[32m'fb9db2d8-6ae4-43de-aa1f-1c6df8b4dd72'\u001b[0m,\n",
       "            \u001b[33mtype\u001b[0m=\u001b[32m'scenebeat'\u001b[0m,\n",
       "            \u001b[33mlocation\u001b[0m=\u001b[32m\"Neo\u001b[0m\u001b[32m's apartment\"\u001b[0m,\n",
       "            \u001b[33mplot_element\u001b[0m=\u001b[32m'The Ordinary World'\u001b[0m,\n",
       "            \u001b[33mdescription\u001b[0m=\u001b[32m'Neo is living a mundane life as a computer hacker and is unaware of the true nature of the world.'\u001b[0m\n",
       "        \u001b[1m)\u001b[0m,\n",
       "        \u001b[1;35mScenebeat\u001b[0m\u001b[1m(\u001b[0m\n",
       "            \u001b[33mid\u001b[0m=\u001b[32m'3d7c5261-293d-4a9c-af58-f6f53b6f06d2'\u001b[0m,\n",
       "            \u001b[33mtype\u001b[0m=\u001b[32m'scenebeat'\u001b[0m,\n",
       "            \u001b[33mlocation\u001b[0m=\u001b[32m'Seedy nightclub'\u001b[0m,\n",
       "            \u001b[33mplot_element\u001b[0m=\u001b[32m'Call to Adventure'\u001b[0m,\n",
       "            \u001b[33mdescription\u001b[0m=\u001b[32m'Neo is approached by Trinity, a member of the rebel group, who tells him that he has been living in a simulation called the Matrix.'\u001b[0m\n",
       "        \u001b[1m)\u001b[0m,\n",
       "        \u001b[1;35mScenebeat\u001b[0m\u001b[1m(\u001b[0m\n",
       "            \u001b[33mid\u001b[0m=\u001b[32m'813f94f3-09fa-4c75-a9ce-13863dbee8f5'\u001b[0m,\n",
       "            \u001b[33mtype\u001b[0m=\u001b[32m'scenebeat'\u001b[0m,\n",
       "            \u001b[33mlocation\u001b[0m=\u001b[32m\"Morpheus\u001b[0m\u001b[32m' hideout\"\u001b[0m,\n",
       "            \u001b[33mplot_element\u001b[0m=\u001b[32m'Refusal of the Call'\u001b[0m,\n",
       "            \u001b[33mdescription\u001b[0m=\u001b[32m\"Neo\u001b[0m\u001b[32m initially rejects Morpheus' offer to join the rebel group and learn the truth about the Matrix, feeling overwhelmed and skeptical.\"\u001b[0m\n",
       "        \u001b[1m)\u001b[0m,\n",
       "        \u001b[1;35mScenebeat\u001b[0m\u001b[1m(\u001b[0m\n",
       "            \u001b[33mid\u001b[0m=\u001b[32m'84f7edd2-9a3d-4b9e-99c2-8f02ad355aa8'\u001b[0m,\n",
       "            \u001b[33mtype\u001b[0m=\u001b[32m'scenebeat'\u001b[0m,\n",
       "            \u001b[33mlocation\u001b[0m=\u001b[32m\"Morpheus\u001b[0m\u001b[32m' hideout\"\u001b[0m,\n",
       "            \u001b[33mplot_element\u001b[0m=\u001b[32m'Meeting the Mentor'\u001b[0m,\n",
       "            \u001b[33mdescription\u001b[0m=\u001b[32m'Morpheus explains to Neo the nature of the Matrix and his role as the chosen one who can free humanity from its control.'\u001b[0m\n",
       "        \u001b[1m)\u001b[0m,\n",
       "        \u001b[1;35mScenebeat\u001b[0m\u001b[1m(\u001b[0m\n",
       "            \u001b[33mid\u001b[0m=\u001b[32m'cb20d949-cf8b-4f96-98f4-ae06212a8251'\u001b[0m,\n",
       "            \u001b[33mtype\u001b[0m=\u001b[32m'scenebeat'\u001b[0m,\n",
       "            \u001b[33mlocation\u001b[0m=\u001b[32m'Construct simulation'\u001b[0m,\n",
       "            \u001b[33mplot_element\u001b[0m=\u001b[32m'Crossing the First Threshold'\u001b[0m,\n",
       "            \u001b[33mdescription\u001b[0m=\u001b[32m'Neo enters a simulated reality called the Construct, where he learns to manipulate the laws of the Matrix.'\u001b[0m\n",
       "        \u001b[1m)\u001b[0m,\n",
       "        \u001b[1;35mScenebeat\u001b[0m\u001b[1m(\u001b[0m\n",
       "            \u001b[33mid\u001b[0m=\u001b[32m'f1960448-b647-41e7-8f5e-59d32fe62698'\u001b[0m,\n",
       "            \u001b[33mtype\u001b[0m=\u001b[32m'scenebeat'\u001b[0m,\n",
       "            \u001b[33mlocation\u001b[0m=\u001b[32m'The Matrix'\u001b[0m,\n",
       "            \u001b[33mplot_element\u001b[0m=\u001b[32m'Tests, Allies, Enemies'\u001b[0m,\n",
       "            \u001b[33mdescription\u001b[0m=\u001b[32m'Neo undergoes intense training and encounters both friendly rebels and dangerous agents within the Matrix.'\u001b[0m\n",
       "        \u001b[1m)\u001b[0m,\n",
       "        \u001b[1;35mScenebeat\u001b[0m\u001b[1m(\u001b[0m\n",
       "            \u001b[33mid\u001b[0m=\u001b[32m'32bec950-abdb-4c33-9a6f-28bdbc5c0499'\u001b[0m,\n",
       "            \u001b[33mtype\u001b[0m=\u001b[32m'scenebeat'\u001b[0m,\n",
       "            \u001b[33mlocation\u001b[0m=\u001b[32m'Office building'\u001b[0m,\n",
       "            \u001b[33mplot_element\u001b[0m=\u001b[32m'Approach to the Inmost Cave'\u001b[0m,\n",
       "            \u001b[33mdescription\u001b[0m=\u001b[32m'Neo infiltrates a heavily guarded office building to rescue Morpheus, who has been captured by the agents.'\u001b[0m\n",
       "        \u001b[1m)\u001b[0m,\n",
       "        \u001b[1;35mScenebeat\u001b[0m\u001b[1m(\u001b[0m\n",
       "            \u001b[33mid\u001b[0m=\u001b[32m'baaf156c-1389-4d2f-ab6f-4fb318b366d7'\u001b[0m,\n",
       "            \u001b[33mtype\u001b[0m=\u001b[32m'scenebeat'\u001b[0m,\n",
       "            \u001b[33mlocation\u001b[0m=\u001b[32m\"Agent\u001b[0m\u001b[32m Smith's interrogation room\"\u001b[0m,\n",
       "            \u001b[33mplot_element\u001b[0m=\u001b[32m'Ordeal'\u001b[0m,\n",
       "            \u001b[33mdescription\u001b[0m=\u001b[32m'Neo is captured by Agent Smith and faces a life-or-death confrontation, but he manages to escape with the help of Trinity.'\u001b[0m\n",
       "        \u001b[1m)\u001b[0m,\n",
       "        \u001b[1;35mScenebeat\u001b[0m\u001b[1m(\u001b[0m\n",
       "            \u001b[33mid\u001b[0m=\u001b[32m'302dcfe1-d128-42a0-8f89-53d7b561c6d8'\u001b[0m,\n",
       "            \u001b[33mtype\u001b[0m=\u001b[32m'scenebeat'\u001b[0m,\n",
       "            \u001b[33mlocation\u001b[0m=\u001b[32m'The Matrix'\u001b[0m,\n",
       "            \u001b[33mplot_element\u001b[0m=\u001b[32m'Reward'\u001b[0m,\n",
       "            \u001b[33mdescription\u001b[0m=\u001b[32m'Neo realizes his true potential as the One and gains the ability to manipulate the Matrix, giving him an advantage in the fight against the agents.'\u001b[0m\n",
       "        \u001b[1m)\u001b[0m,\n",
       "        \u001b[1;35mScenebeat\u001b[0m\u001b[1m(\u001b[0m\n",
       "            \u001b[33mid\u001b[0m=\u001b[32m'703e3bea-8fd4-451a-a494-3b65bc747166'\u001b[0m,\n",
       "            \u001b[33mtype\u001b[0m=\u001b[32m'scenebeat'\u001b[0m,\n",
       "            \u001b[33mlocation\u001b[0m=\u001b[32m'Office building rooftop'\u001b[0m,\n",
       "            \u001b[33mplot_element\u001b[0m=\u001b[32m'The Road Back'\u001b[0m,\n",
       "            \u001b[33mdescription\u001b[0m=\u001b[32m'Neo and Trinity race against time to escape the Matrix before its defenses overcome them.'\u001b[0m\n",
       "        \u001b[1m)\u001b[0m,\n",
       "        \u001b[1;35mScenebeat\u001b[0m\u001b[1m(\u001b[0m\n",
       "            \u001b[33mid\u001b[0m=\u001b[32m'65d428a7-f3f3-43e2-bdef-653c83dee904'\u001b[0m,\n",
       "            \u001b[33mtype\u001b[0m=\u001b[32m'scenebeat'\u001b[0m,\n",
       "            \u001b[33mlocation\u001b[0m=\u001b[32m'The real world'\u001b[0m,\n",
       "            \u001b[33mplot_element\u001b[0m=\u001b[32m'The Resurrection'\u001b[0m,\n",
       "            \u001b[33mdescription\u001b[0m=\u001b[32m'Neo is revived after being physically killed within the Matrix, symbolizing his transformation into the One.'\u001b[0m\n",
       "        \u001b[1m)\u001b[0m\n",
       "    \u001b[1m]\u001b[0m,\n",
       "    \u001b[33mcharacters\u001b[0m=\u001b[1m[\u001b[0m\n",
       "        \u001b[1;35mCharacter\u001b[0m\u001b[1m(\u001b[0m\n",
       "            \u001b[33mid\u001b[0m=\u001b[32m'e8c45d10-4bde-4f17-92da-def1c129879a'\u001b[0m,\n",
       "            \u001b[33mtype\u001b[0m=\u001b[32m'character'\u001b[0m,\n",
       "            \u001b[33mname\u001b[0m=\u001b[32m'Neo'\u001b[0m,\n",
       "            \u001b[33mdescription\u001b[0m=\u001b[32m'Neo is the protagonist. A computer hacker who discovers the truth about the Matrix and his role in the war against the controllers.'\u001b[0m\n",
       "        \u001b[1m)\u001b[0m,\n",
       "        \u001b[1;35mCharacter\u001b[0m\u001b[1m(\u001b[0m\n",
       "            \u001b[33mid\u001b[0m=\u001b[32m'0adeb40e-98f1-4cc0-a8c3-340d53dc56d2'\u001b[0m,\n",
       "            \u001b[33mtype\u001b[0m=\u001b[32m'character'\u001b[0m,\n",
       "            \u001b[33mname\u001b[0m=\u001b[32m'Morpheus'\u001b[0m,\n",
       "            \u001b[33mdescription\u001b[0m=\u001b[32m'Morpheus is a leader of the rebel group. He helps Neo understand his true nature and guides him in his fight against the machines.'\u001b[0m\n",
       "        \u001b[1m)\u001b[0m,\n",
       "        \u001b[1;35mCharacter\u001b[0m\u001b[1m(\u001b[0m\n",
       "            \u001b[33mid\u001b[0m=\u001b[32m'7bfa7e14-c111-428d-ab36-7f0bfcf47276'\u001b[0m,\n",
       "            \u001b[33mtype\u001b[0m=\u001b[32m'character'\u001b[0m,\n",
       "            \u001b[33mname\u001b[0m=\u001b[32m'Trinity'\u001b[0m,\n",
       "            \u001b[33mdescription\u001b[0m=\u001b[32m\"Trinity\u001b[0m\u001b[32m is a skilled hacker and fighter. She is a member of the rebel group and becomes Neo's love interest.\"\u001b[0m\n",
       "        \u001b[1m)\u001b[0m,\n",
       "        \u001b[1;35mCharacter\u001b[0m\u001b[1m(\u001b[0m\n",
       "            \u001b[33mid\u001b[0m=\u001b[32m'b4a672a5-2457-43dc-a7cc-a4c6cf28912f'\u001b[0m,\n",
       "            \u001b[33mtype\u001b[0m=\u001b[32m'character'\u001b[0m,\n",
       "            \u001b[33mname\u001b[0m=\u001b[32m'Agent Smith'\u001b[0m,\n",
       "            \u001b[33mdescription\u001b[0m=\u001b[32m'Agent Smith is the main antagonist. He is an advanced program within the Matrix and is determined to eliminate Neo and the rebels.'\u001b[0m\n",
       "        \u001b[1m)\u001b[0m,\n",
       "        \u001b[1;35mCharacter\u001b[0m\u001b[1m(\u001b[0m\n",
       "            \u001b[33mid\u001b[0m=\u001b[32m'0b64047b-de3e-4c68-9190-e03714d68e4d'\u001b[0m,\n",
       "            \u001b[33mtype\u001b[0m=\u001b[32m'character'\u001b[0m,\n",
       "            \u001b[33mname\u001b[0m=\u001b[32m'Cypher'\u001b[0m,\n",
       "            \u001b[33mdescription\u001b[0m=\u001b[32m'Cypher is a member of the rebel group who betrays his comrades in order to return to the blissful ignorance of the Matrix.'\u001b[0m\n",
       "        \u001b[1m)\u001b[0m\n",
       "    \u001b[1m]\u001b[0m,\n",
       "    \u001b[33mlocations\u001b[0m=\u001b[3;35mNone\u001b[0m\n",
       "\u001b[1m)\u001b[0m"
      ]
     },
     "execution_count": 7,
     "metadata": {},
     "output_type": "execute_result"
    }
   ],
   "source": [
    "def write_beats(story: Story, n=10) -> List[SceneBeat]:\n",
    "    return prompt(\n",
    "        f'''\n",
    "        Write a sequence of {n} scene beats for a story a hero's journey structure.\n",
    "        ''',\n",
    "        input=dict(logline=story.logline, characters=story.characters),\n",
    "        output=[SceneBeat],\n",
    "        examples=[\n",
    "            Example(\n",
    "                dict(\n",
    "                    logline=star_wars.logline,\n",
    "                    characters=star_wars.characters,\n",
    "                ),\n",
    "                star_wars.outline,\n",
    "            ),\n",
    "        ],\n",
    "    ).objects\n",
    "\n",
    "beats = write_beats(story)\n",
    "story.outline = beats\n",
    "story"
   ]
  },
  {
   "cell_type": "markdown",
   "metadata": {},
   "source": [
    "Next we extract the scene 'beats' from the plot outline generated in the previous step. These are the main events that happen in the story."
   ]
  },
  {
   "cell_type": "markdown",
   "metadata": {},
   "source": [
    "Each scene beat has a location name so we can use this to extract location objects. These are stored like characters. For some reason the examples in the paper don't use locations from Star Wars. They also use the story logline and just the name of the location from the scene beat instead of the description of the scene. It's unclear why these decisions were made, but for consistency we'll do the same."
   ]
  },
  {
   "cell_type": "code",
   "execution_count": 16,
   "metadata": {},
   "outputs": [
    {
     "ename": "AttributeError",
     "evalue": "'str' object has no attribute 'name'",
     "output_type": "error",
     "traceback": [
      "\u001b[0;31m---------------------------------------------------------------------------\u001b[0m",
      "\u001b[0;31mAttributeError\u001b[0m                            Traceback (most recent call last)",
      "\u001b[1;32m/home/rjl/promptx/examples/dramatron/dramatron.ipynb Cell 16\u001b[0m line \u001b[0;36m7\n\u001b[1;32m     <a href='vscode-notebook-cell://wsl%2Bubuntu/home/rjl/promptx/examples/dramatron/dramatron.ipynb#X22sdnNjb2RlLXJlbW90ZQ%3D%3D?line=71'>72</a>\u001b[0m             locations\u001b[39m.\u001b[39mappend(response)\n\u001b[1;32m     <a href='vscode-notebook-cell://wsl%2Bubuntu/home/rjl/promptx/examples/dramatron/dramatron.ipynb#X22sdnNjb2RlLXJlbW90ZQ%3D%3D?line=72'>73</a>\u001b[0m     \u001b[39mreturn\u001b[39;00m locations\n\u001b[0;32m---> <a href='vscode-notebook-cell://wsl%2Bubuntu/home/rjl/promptx/examples/dramatron/dramatron.ipynb#X22sdnNjb2RlLXJlbW90ZQ%3D%3D?line=75'>76</a>\u001b[0m locations \u001b[39m=\u001b[39m extract_locations(story)\n\u001b[1;32m     <a href='vscode-notebook-cell://wsl%2Bubuntu/home/rjl/promptx/examples/dramatron/dramatron.ipynb#X22sdnNjb2RlLXJlbW90ZQ%3D%3D?line=76'>77</a>\u001b[0m story\u001b[39m.\u001b[39mlocations \u001b[39m=\u001b[39m locations\n\u001b[1;32m     <a href='vscode-notebook-cell://wsl%2Bubuntu/home/rjl/promptx/examples/dramatron/dramatron.ipynb#X22sdnNjb2RlLXJlbW90ZQ%3D%3D?line=77'>78</a>\u001b[0m story\n",
      "\u001b[1;32m/home/rjl/promptx/examples/dramatron/dramatron.ipynb Cell 16\u001b[0m line \u001b[0;36m1\n\u001b[1;32m      <a href='vscode-notebook-cell://wsl%2Bubuntu/home/rjl/promptx/examples/dramatron/dramatron.ipynb#X22sdnNjb2RlLXJlbW90ZQ%3D%3D?line=4'>5</a>\u001b[0m locations \u001b[39m=\u001b[39m []\n\u001b[1;32m      <a href='vscode-notebook-cell://wsl%2Bubuntu/home/rjl/promptx/examples/dramatron/dramatron.ipynb#X22sdnNjb2RlLXJlbW90ZQ%3D%3D?line=5'>6</a>\u001b[0m \u001b[39mfor\u001b[39;00m beat \u001b[39min\u001b[39;00m story\u001b[39m.\u001b[39moutline:\n\u001b[1;32m      <a href='vscode-notebook-cell://wsl%2Bubuntu/home/rjl/promptx/examples/dramatron/dramatron.ipynb#X22sdnNjb2RlLXJlbW90ZQ%3D%3D?line=6'>7</a>\u001b[0m     response \u001b[39m=\u001b[39m prompt(\n\u001b[1;32m      <a href='vscode-notebook-cell://wsl%2Bubuntu/home/rjl/promptx/examples/dramatron/dramatron.ipynb#X22sdnNjb2RlLXJlbW90ZQ%3D%3D?line=7'>8</a>\u001b[0m \u001b[39m        \u001b[39m\u001b[39m'''\u001b[39;00m\n\u001b[1;32m      <a href='vscode-notebook-cell://wsl%2Bubuntu/home/rjl/promptx/examples/dramatron/dramatron.ipynb#X22sdnNjb2RlLXJlbW90ZQ%3D%3D?line=8'>9</a>\u001b[0m \u001b[39m        Generate a location based on the story logline and location name. \u001b[39;00m\n\u001b[1;32m     <a href='vscode-notebook-cell://wsl%2Bubuntu/home/rjl/promptx/examples/dramatron/dramatron.ipynb#X22sdnNjb2RlLXJlbW90ZQ%3D%3D?line=9'>10</a>\u001b[0m \u001b[39m        If the location is already known, return None\u001b[39;00m\n\u001b[1;32m     <a href='vscode-notebook-cell://wsl%2Bubuntu/home/rjl/promptx/examples/dramatron/dramatron.ipynb#X22sdnNjb2RlLXJlbW90ZQ%3D%3D?line=10'>11</a>\u001b[0m \u001b[39m        '''\u001b[39;00m,\n\u001b[0;32m---> <a href='vscode-notebook-cell://wsl%2Bubuntu/home/rjl/promptx/examples/dramatron/dramatron.ipynb#X22sdnNjb2RlLXJlbW90ZQ%3D%3D?line=11'>12</a>\u001b[0m         \u001b[39minput\u001b[39m\u001b[39m=\u001b[39m\u001b[39mdict\u001b[39m(logline\u001b[39m=\u001b[39mstory\u001b[39m.\u001b[39mlogline, name\u001b[39m=\u001b[39mbeat\u001b[39m.\u001b[39mlocation, known_locations\u001b[39m=\u001b[39m[l\u001b[39m.\u001b[39mname \u001b[39mfor\u001b[39;00m l \u001b[39min\u001b[39;00m locations]),\n\u001b[1;32m     <a href='vscode-notebook-cell://wsl%2Bubuntu/home/rjl/promptx/examples/dramatron/dramatron.ipynb#X22sdnNjb2RlLXJlbW90ZQ%3D%3D?line=12'>13</a>\u001b[0m         output\u001b[39m=\u001b[39mOptional[Location],\n\u001b[1;32m     <a href='vscode-notebook-cell://wsl%2Bubuntu/home/rjl/promptx/examples/dramatron/dramatron.ipynb#X22sdnNjb2RlLXJlbW90ZQ%3D%3D?line=13'>14</a>\u001b[0m         examples\u001b[39m=\u001b[39m[\n\u001b[1;32m     <a href='vscode-notebook-cell://wsl%2Bubuntu/home/rjl/promptx/examples/dramatron/dramatron.ipynb#X22sdnNjb2RlLXJlbW90ZQ%3D%3D?line=14'>15</a>\u001b[0m             Example(\n\u001b[1;32m     <a href='vscode-notebook-cell://wsl%2Bubuntu/home/rjl/promptx/examples/dramatron/dramatron.ipynb#X22sdnNjb2RlLXJlbW90ZQ%3D%3D?line=15'>16</a>\u001b[0m                 \u001b[39mdict\u001b[39m(\n\u001b[1;32m     <a href='vscode-notebook-cell://wsl%2Bubuntu/home/rjl/promptx/examples/dramatron/dramatron.ipynb#X22sdnNjb2RlLXJlbW90ZQ%3D%3D?line=16'>17</a>\u001b[0m                     logline\u001b[39m=\u001b[39m\u001b[39m\"\u001b[39m\u001b[39mMorgan adopts a new cat, Misterio, who sets a curse on anyone that pets them.\u001b[39m\u001b[39m\"\u001b[39m,\n\u001b[1;32m     <a href='vscode-notebook-cell://wsl%2Bubuntu/home/rjl/promptx/examples/dramatron/dramatron.ipynb#X22sdnNjb2RlLXJlbW90ZQ%3D%3D?line=17'>18</a>\u001b[0m                     name\u001b[39m=\u001b[39m\u001b[39m\"\u001b[39m\u001b[39mThe Adoption Center\u001b[39m\u001b[39m\"\u001b[39m,\n\u001b[1;32m     <a href='vscode-notebook-cell://wsl%2Bubuntu/home/rjl/promptx/examples/dramatron/dramatron.ipynb#X22sdnNjb2RlLXJlbW90ZQ%3D%3D?line=18'>19</a>\u001b[0m                     known_locations\u001b[39m=\u001b[39m[\u001b[39m\"\u001b[39m\u001b[39mHarukiya\u001b[39m\u001b[39m\"\u001b[39m],\n\u001b[1;32m     <a href='vscode-notebook-cell://wsl%2Bubuntu/home/rjl/promptx/examples/dramatron/dramatron.ipynb#X22sdnNjb2RlLXJlbW90ZQ%3D%3D?line=19'>20</a>\u001b[0m                 ),\n\u001b[1;32m     <a href='vscode-notebook-cell://wsl%2Bubuntu/home/rjl/promptx/examples/dramatron/dramatron.ipynb#X22sdnNjb2RlLXJlbW90ZQ%3D%3D?line=20'>21</a>\u001b[0m                 Location(\n\u001b[1;32m     <a href='vscode-notebook-cell://wsl%2Bubuntu/home/rjl/promptx/examples/dramatron/dramatron.ipynb#X22sdnNjb2RlLXJlbW90ZQ%3D%3D?line=21'>22</a>\u001b[0m                     name\u001b[39m=\u001b[39m\u001b[39m\"\u001b[39m\u001b[39mThe Adoption Center\u001b[39m\u001b[39m\"\u001b[39m,\n\u001b[1;32m     <a href='vscode-notebook-cell://wsl%2Bubuntu/home/rjl/promptx/examples/dramatron/dramatron.ipynb#X22sdnNjb2RlLXJlbW90ZQ%3D%3D?line=22'>23</a>\u001b[0m                     description\u001b[39m=\u001b[39m\u001b[39m'''\u001b[39m\n\u001b[1;32m     <a href='vscode-notebook-cell://wsl%2Bubuntu/home/rjl/promptx/examples/dramatron/dramatron.ipynb#X22sdnNjb2RlLXJlbW90ZQ%3D%3D?line=23'>24</a>\u001b[0m \u001b[39m                    The Adoption Center is a sad place, especially for an unadopted \u001b[39m\n\u001b[1;32m     <a href='vscode-notebook-cell://wsl%2Bubuntu/home/rjl/promptx/examples/dramatron/dramatron.ipynb#X22sdnNjb2RlLXJlbW90ZQ%3D%3D?line=24'>25</a>\u001b[0m \u001b[39m                    pet. It is full of walls and walls of cages and cages. Inside of \u001b[39m\n\u001b[1;32m     <a href='vscode-notebook-cell://wsl%2Bubuntu/home/rjl/promptx/examples/dramatron/dramatron.ipynb#X22sdnNjb2RlLXJlbW90ZQ%3D%3D?line=25'>26</a>\u001b[0m \u001b[39m                    each is an abandoned animal, longing for a home. The lighting is \u001b[39m\n\u001b[1;32m     <a href='vscode-notebook-cell://wsl%2Bubuntu/home/rjl/promptx/examples/dramatron/dramatron.ipynb#X22sdnNjb2RlLXJlbW90ZQ%3D%3D?line=26'>27</a>\u001b[0m \u001b[39m                    dim, gray, buzzing fluorescent.\u001b[39m\n\u001b[1;32m     <a href='vscode-notebook-cell://wsl%2Bubuntu/home/rjl/promptx/examples/dramatron/dramatron.ipynb#X22sdnNjb2RlLXJlbW90ZQ%3D%3D?line=27'>28</a>\u001b[0m \u001b[39m                    \u001b[39m\u001b[39m'''\u001b[39m,\n\u001b[1;32m     <a href='vscode-notebook-cell://wsl%2Bubuntu/home/rjl/promptx/examples/dramatron/dramatron.ipynb#X22sdnNjb2RlLXJlbW90ZQ%3D%3D?line=28'>29</a>\u001b[0m                 )\n\u001b[1;32m     <a href='vscode-notebook-cell://wsl%2Bubuntu/home/rjl/promptx/examples/dramatron/dramatron.ipynb#X22sdnNjb2RlLXJlbW90ZQ%3D%3D?line=29'>30</a>\u001b[0m             ),\n\u001b[1;32m     <a href='vscode-notebook-cell://wsl%2Bubuntu/home/rjl/promptx/examples/dramatron/dramatron.ipynb#X22sdnNjb2RlLXJlbW90ZQ%3D%3D?line=30'>31</a>\u001b[0m             Example(\n\u001b[1;32m     <a href='vscode-notebook-cell://wsl%2Bubuntu/home/rjl/promptx/examples/dramatron/dramatron.ipynb#X22sdnNjb2RlLXJlbW90ZQ%3D%3D?line=31'>32</a>\u001b[0m                 \u001b[39mdict\u001b[39m(\n\u001b[1;32m     <a href='vscode-notebook-cell://wsl%2Bubuntu/home/rjl/promptx/examples/dramatron/dramatron.ipynb#X22sdnNjb2RlLXJlbW90ZQ%3D%3D?line=32'>33</a>\u001b[0m                     logline\u001b[39m=\u001b[39m\u001b[39m\"\u001b[39m\u001b[39mMorgan adopts a new cat, Misterio, who sets a curse on anyone that pets them.\u001b[39m\u001b[39m\"\u001b[39m,\n\u001b[1;32m     <a href='vscode-notebook-cell://wsl%2Bubuntu/home/rjl/promptx/examples/dramatron/dramatron.ipynb#X22sdnNjb2RlLXJlbW90ZQ%3D%3D?line=33'>34</a>\u001b[0m                     name\u001b[39m=\u001b[39m\u001b[39m\"\u001b[39m\u001b[39mThe Adoption Center\u001b[39m\u001b[39m\"\u001b[39m,\n\u001b[1;32m     <a href='vscode-notebook-cell://wsl%2Bubuntu/home/rjl/promptx/examples/dramatron/dramatron.ipynb#X22sdnNjb2RlLXJlbW90ZQ%3D%3D?line=34'>35</a>\u001b[0m                     known_locations\u001b[39m=\u001b[39m[\u001b[39m\"\u001b[39m\u001b[39mHarukiya\u001b[39m\u001b[39m\"\u001b[39m, \u001b[39m\"\u001b[39m\u001b[39mThe Adoption Center\u001b[39m\u001b[39m\"\u001b[39m],\n\u001b[1;32m     <a href='vscode-notebook-cell://wsl%2Bubuntu/home/rjl/promptx/examples/dramatron/dramatron.ipynb#X22sdnNjb2RlLXJlbW90ZQ%3D%3D?line=35'>36</a>\u001b[0m                 ),\n\u001b[1;32m     <a href='vscode-notebook-cell://wsl%2Bubuntu/home/rjl/promptx/examples/dramatron/dramatron.ipynb#X22sdnNjb2RlLXJlbW90ZQ%3D%3D?line=36'>37</a>\u001b[0m                 \u001b[39mNone\u001b[39;00m,\n\u001b[1;32m     <a href='vscode-notebook-cell://wsl%2Bubuntu/home/rjl/promptx/examples/dramatron/dramatron.ipynb#X22sdnNjb2RlLXJlbW90ZQ%3D%3D?line=37'>38</a>\u001b[0m             ),\n\u001b[1;32m     <a href='vscode-notebook-cell://wsl%2Bubuntu/home/rjl/promptx/examples/dramatron/dramatron.ipynb#X22sdnNjb2RlLXJlbW90ZQ%3D%3D?line=38'>39</a>\u001b[0m             Example(\n\u001b[1;32m     <a href='vscode-notebook-cell://wsl%2Bubuntu/home/rjl/promptx/examples/dramatron/dramatron.ipynb#X22sdnNjb2RlLXJlbW90ZQ%3D%3D?line=39'>40</a>\u001b[0m                 \u001b[39mdict\u001b[39m(\n\u001b[1;32m     <a href='vscode-notebook-cell://wsl%2Bubuntu/home/rjl/promptx/examples/dramatron/dramatron.ipynb#X22sdnNjb2RlLXJlbW90ZQ%3D%3D?line=40'>41</a>\u001b[0m                     logline\u001b[39m=\u001b[39m\u001b[39m\"\u001b[39m\u001b[39mJames finds a well in his backyard that is haunted by the ghost of Sam.\u001b[39m\u001b[39m\"\u001b[39m,\n\u001b[1;32m     <a href='vscode-notebook-cell://wsl%2Bubuntu/home/rjl/promptx/examples/dramatron/dramatron.ipynb#X22sdnNjb2RlLXJlbW90ZQ%3D%3D?line=41'>42</a>\u001b[0m                     name\u001b[39m=\u001b[39m\u001b[39m\"\u001b[39m\u001b[39mThe Well\u001b[39m\u001b[39m\"\u001b[39m,\n\u001b[1;32m     <a href='vscode-notebook-cell://wsl%2Bubuntu/home/rjl/promptx/examples/dramatron/dramatron.ipynb#X22sdnNjb2RlLXJlbW90ZQ%3D%3D?line=42'>43</a>\u001b[0m                 ),\n\u001b[1;32m     <a href='vscode-notebook-cell://wsl%2Bubuntu/home/rjl/promptx/examples/dramatron/dramatron.ipynb#X22sdnNjb2RlLXJlbW90ZQ%3D%3D?line=43'>44</a>\u001b[0m                 Location(\n\u001b[1;32m     <a href='vscode-notebook-cell://wsl%2Bubuntu/home/rjl/promptx/examples/dramatron/dramatron.ipynb#X22sdnNjb2RlLXJlbW90ZQ%3D%3D?line=44'>45</a>\u001b[0m                     name\u001b[39m=\u001b[39m\u001b[39m\"\u001b[39m\u001b[39mThe Well\u001b[39m\u001b[39m\"\u001b[39m,\n\u001b[1;32m     <a href='vscode-notebook-cell://wsl%2Bubuntu/home/rjl/promptx/examples/dramatron/dramatron.ipynb#X22sdnNjb2RlLXJlbW90ZQ%3D%3D?line=45'>46</a>\u001b[0m                     description\u001b[39m=\u001b[39m\u001b[39m'''\u001b[39m\n\u001b[1;32m     <a href='vscode-notebook-cell://wsl%2Bubuntu/home/rjl/promptx/examples/dramatron/dramatron.ipynb#X22sdnNjb2RlLXJlbW90ZQ%3D%3D?line=46'>47</a>\u001b[0m \u001b[39m                    The well is buried under grass and hedges. It is at least \u001b[39m\n\u001b[1;32m     <a href='vscode-notebook-cell://wsl%2Bubuntu/home/rjl/promptx/examples/dramatron/dramatron.ipynb#X22sdnNjb2RlLXJlbW90ZQ%3D%3D?line=47'>48</a>\u001b[0m \u001b[39m                    twenty feet deep, if not more and it is masoned with stones. \u001b[39m\n\u001b[1;32m     <a href='vscode-notebook-cell://wsl%2Bubuntu/home/rjl/promptx/examples/dramatron/dramatron.ipynb#X22sdnNjb2RlLXJlbW90ZQ%3D%3D?line=48'>49</a>\u001b[0m \u001b[39m                    It is 150 years old at least. It stinks of stale, standing \u001b[39m\n\u001b[1;32m     <a href='vscode-notebook-cell://wsl%2Bubuntu/home/rjl/promptx/examples/dramatron/dramatron.ipynb#X22sdnNjb2RlLXJlbW90ZQ%3D%3D?line=49'>50</a>\u001b[0m \u001b[39m                    water, and has vines growing up the sides. It is narrow enough \u001b[39m\n\u001b[1;32m     <a href='vscode-notebook-cell://wsl%2Bubuntu/home/rjl/promptx/examples/dramatron/dramatron.ipynb#X22sdnNjb2RlLXJlbW90ZQ%3D%3D?line=50'>51</a>\u001b[0m \u001b[39m                    to not be able to fit down if you are a grown adult human.\u001b[39m\n\u001b[1;32m     <a href='vscode-notebook-cell://wsl%2Bubuntu/home/rjl/promptx/examples/dramatron/dramatron.ipynb#X22sdnNjb2RlLXJlbW90ZQ%3D%3D?line=51'>52</a>\u001b[0m \u001b[39m                    \u001b[39m\u001b[39m'''\u001b[39m,\n\u001b[1;32m     <a href='vscode-notebook-cell://wsl%2Bubuntu/home/rjl/promptx/examples/dramatron/dramatron.ipynb#X22sdnNjb2RlLXJlbW90ZQ%3D%3D?line=52'>53</a>\u001b[0m                 )\n\u001b[1;32m     <a href='vscode-notebook-cell://wsl%2Bubuntu/home/rjl/promptx/examples/dramatron/dramatron.ipynb#X22sdnNjb2RlLXJlbW90ZQ%3D%3D?line=53'>54</a>\u001b[0m             ),\n\u001b[1;32m     <a href='vscode-notebook-cell://wsl%2Bubuntu/home/rjl/promptx/examples/dramatron/dramatron.ipynb#X22sdnNjb2RlLXJlbW90ZQ%3D%3D?line=54'>55</a>\u001b[0m             Example(\n\u001b[1;32m     <a href='vscode-notebook-cell://wsl%2Bubuntu/home/rjl/promptx/examples/dramatron/dramatron.ipynb#X22sdnNjb2RlLXJlbW90ZQ%3D%3D?line=55'>56</a>\u001b[0m                 \u001b[39mdict\u001b[39m(\n\u001b[1;32m     <a href='vscode-notebook-cell://wsl%2Bubuntu/home/rjl/promptx/examples/dramatron/dramatron.ipynb#X22sdnNjb2RlLXJlbW90ZQ%3D%3D?line=56'>57</a>\u001b[0m                     logline\u001b[39m=\u001b[39m\u001b[39m\"\u001b[39m\u001b[39mMr. Dorbenson finds a book at a garage sale that tells the story of his own life. And it ends in a murder! \u001b[39m\u001b[39m\"\u001b[39m,\n\u001b[1;32m     <a href='vscode-notebook-cell://wsl%2Bubuntu/home/rjl/promptx/examples/dramatron/dramatron.ipynb#X22sdnNjb2RlLXJlbW90ZQ%3D%3D?line=57'>58</a>\u001b[0m                     name\u001b[39m=\u001b[39m\u001b[39m\"\u001b[39m\u001b[39mThe Garage Sale\u001b[39m\u001b[39m\"\u001b[39m,\n\u001b[1;32m     <a href='vscode-notebook-cell://wsl%2Bubuntu/home/rjl/promptx/examples/dramatron/dramatron.ipynb#X22sdnNjb2RlLXJlbW90ZQ%3D%3D?line=58'>59</a>\u001b[0m                 ),\n\u001b[1;32m     <a href='vscode-notebook-cell://wsl%2Bubuntu/home/rjl/promptx/examples/dramatron/dramatron.ipynb#X22sdnNjb2RlLXJlbW90ZQ%3D%3D?line=59'>60</a>\u001b[0m                 Location(\n\u001b[1;32m     <a href='vscode-notebook-cell://wsl%2Bubuntu/home/rjl/promptx/examples/dramatron/dramatron.ipynb#X22sdnNjb2RlLXJlbW90ZQ%3D%3D?line=60'>61</a>\u001b[0m                     name\u001b[39m=\u001b[39m\u001b[39m\"\u001b[39m\u001b[39mThe Garage Sale\u001b[39m\u001b[39m\"\u001b[39m,\n\u001b[1;32m     <a href='vscode-notebook-cell://wsl%2Bubuntu/home/rjl/promptx/examples/dramatron/dramatron.ipynb#X22sdnNjb2RlLXJlbW90ZQ%3D%3D?line=61'>62</a>\u001b[0m                     description\u001b[39m=\u001b[39m\u001b[39m'''\u001b[39m\n\u001b[1;32m     <a href='vscode-notebook-cell://wsl%2Bubuntu/home/rjl/promptx/examples/dramatron/dramatron.ipynb#X22sdnNjb2RlLXJlbW90ZQ%3D%3D?line=62'>63</a>\u001b[0m \u001b[39m                    It is a garage packed with dusty household goods and antiques. \u001b[39m\n\u001b[1;32m     <a href='vscode-notebook-cell://wsl%2Bubuntu/home/rjl/promptx/examples/dramatron/dramatron.ipynb#X22sdnNjb2RlLXJlbW90ZQ%3D%3D?line=63'>64</a>\u001b[0m \u001b[39m                    There is a box at the back that says FREE and is full of paper \u001b[39m\n\u001b[1;32m     <a href='vscode-notebook-cell://wsl%2Bubuntu/home/rjl/promptx/examples/dramatron/dramatron.ipynb#X22sdnNjb2RlLXJlbW90ZQ%3D%3D?line=64'>65</a>\u001b[0m \u001b[39m                    back books.\u001b[39m\n\u001b[1;32m     <a href='vscode-notebook-cell://wsl%2Bubuntu/home/rjl/promptx/examples/dramatron/dramatron.ipynb#X22sdnNjb2RlLXJlbW90ZQ%3D%3D?line=65'>66</a>\u001b[0m \u001b[39m                    \u001b[39m\u001b[39m'''\u001b[39m,\n\u001b[1;32m     <a href='vscode-notebook-cell://wsl%2Bubuntu/home/rjl/promptx/examples/dramatron/dramatron.ipynb#X22sdnNjb2RlLXJlbW90ZQ%3D%3D?line=66'>67</a>\u001b[0m                 )\n\u001b[1;32m     <a href='vscode-notebook-cell://wsl%2Bubuntu/home/rjl/promptx/examples/dramatron/dramatron.ipynb#X22sdnNjb2RlLXJlbW90ZQ%3D%3D?line=67'>68</a>\u001b[0m             ),\n\u001b[1;32m     <a href='vscode-notebook-cell://wsl%2Bubuntu/home/rjl/promptx/examples/dramatron/dramatron.ipynb#X22sdnNjb2RlLXJlbW90ZQ%3D%3D?line=68'>69</a>\u001b[0m         ],\n\u001b[1;32m     <a href='vscode-notebook-cell://wsl%2Bubuntu/home/rjl/promptx/examples/dramatron/dramatron.ipynb#X22sdnNjb2RlLXJlbW90ZQ%3D%3D?line=69'>70</a>\u001b[0m     )\n\u001b[1;32m     <a href='vscode-notebook-cell://wsl%2Bubuntu/home/rjl/promptx/examples/dramatron/dramatron.ipynb#X22sdnNjb2RlLXJlbW90ZQ%3D%3D?line=70'>71</a>\u001b[0m     \u001b[39mif\u001b[39;00m response \u001b[39mis\u001b[39;00m \u001b[39mnot\u001b[39;00m \u001b[39mNone\u001b[39;00m:\n\u001b[1;32m     <a href='vscode-notebook-cell://wsl%2Bubuntu/home/rjl/promptx/examples/dramatron/dramatron.ipynb#X22sdnNjb2RlLXJlbW90ZQ%3D%3D?line=71'>72</a>\u001b[0m         locations\u001b[39m.\u001b[39mappend(response)\n",
      "\u001b[1;32m/home/rjl/promptx/examples/dramatron/dramatron.ipynb Cell 16\u001b[0m line \u001b[0;36m1\n\u001b[1;32m      <a href='vscode-notebook-cell://wsl%2Bubuntu/home/rjl/promptx/examples/dramatron/dramatron.ipynb#X22sdnNjb2RlLXJlbW90ZQ%3D%3D?line=4'>5</a>\u001b[0m locations \u001b[39m=\u001b[39m []\n\u001b[1;32m      <a href='vscode-notebook-cell://wsl%2Bubuntu/home/rjl/promptx/examples/dramatron/dramatron.ipynb#X22sdnNjb2RlLXJlbW90ZQ%3D%3D?line=5'>6</a>\u001b[0m \u001b[39mfor\u001b[39;00m beat \u001b[39min\u001b[39;00m story\u001b[39m.\u001b[39moutline:\n\u001b[1;32m      <a href='vscode-notebook-cell://wsl%2Bubuntu/home/rjl/promptx/examples/dramatron/dramatron.ipynb#X22sdnNjb2RlLXJlbW90ZQ%3D%3D?line=6'>7</a>\u001b[0m     response \u001b[39m=\u001b[39m prompt(\n\u001b[1;32m      <a href='vscode-notebook-cell://wsl%2Bubuntu/home/rjl/promptx/examples/dramatron/dramatron.ipynb#X22sdnNjb2RlLXJlbW90ZQ%3D%3D?line=7'>8</a>\u001b[0m \u001b[39m        \u001b[39m\u001b[39m'''\u001b[39;00m\n\u001b[1;32m      <a href='vscode-notebook-cell://wsl%2Bubuntu/home/rjl/promptx/examples/dramatron/dramatron.ipynb#X22sdnNjb2RlLXJlbW90ZQ%3D%3D?line=8'>9</a>\u001b[0m \u001b[39m        Generate a location based on the story logline and location name. \u001b[39;00m\n\u001b[1;32m     <a href='vscode-notebook-cell://wsl%2Bubuntu/home/rjl/promptx/examples/dramatron/dramatron.ipynb#X22sdnNjb2RlLXJlbW90ZQ%3D%3D?line=9'>10</a>\u001b[0m \u001b[39m        If the location is already known, return None\u001b[39;00m\n\u001b[1;32m     <a href='vscode-notebook-cell://wsl%2Bubuntu/home/rjl/promptx/examples/dramatron/dramatron.ipynb#X22sdnNjb2RlLXJlbW90ZQ%3D%3D?line=10'>11</a>\u001b[0m \u001b[39m        '''\u001b[39;00m,\n\u001b[0;32m---> <a href='vscode-notebook-cell://wsl%2Bubuntu/home/rjl/promptx/examples/dramatron/dramatron.ipynb#X22sdnNjb2RlLXJlbW90ZQ%3D%3D?line=11'>12</a>\u001b[0m         \u001b[39minput\u001b[39m\u001b[39m=\u001b[39m\u001b[39mdict\u001b[39m(logline\u001b[39m=\u001b[39mstory\u001b[39m.\u001b[39mlogline, name\u001b[39m=\u001b[39mbeat\u001b[39m.\u001b[39mlocation, known_locations\u001b[39m=\u001b[39m[l\u001b[39m.\u001b[39;49mname \u001b[39mfor\u001b[39;00m l \u001b[39min\u001b[39;00m locations]),\n\u001b[1;32m     <a href='vscode-notebook-cell://wsl%2Bubuntu/home/rjl/promptx/examples/dramatron/dramatron.ipynb#X22sdnNjb2RlLXJlbW90ZQ%3D%3D?line=12'>13</a>\u001b[0m         output\u001b[39m=\u001b[39mOptional[Location],\n\u001b[1;32m     <a href='vscode-notebook-cell://wsl%2Bubuntu/home/rjl/promptx/examples/dramatron/dramatron.ipynb#X22sdnNjb2RlLXJlbW90ZQ%3D%3D?line=13'>14</a>\u001b[0m         examples\u001b[39m=\u001b[39m[\n\u001b[1;32m     <a href='vscode-notebook-cell://wsl%2Bubuntu/home/rjl/promptx/examples/dramatron/dramatron.ipynb#X22sdnNjb2RlLXJlbW90ZQ%3D%3D?line=14'>15</a>\u001b[0m             Example(\n\u001b[1;32m     <a href='vscode-notebook-cell://wsl%2Bubuntu/home/rjl/promptx/examples/dramatron/dramatron.ipynb#X22sdnNjb2RlLXJlbW90ZQ%3D%3D?line=15'>16</a>\u001b[0m                 \u001b[39mdict\u001b[39m(\n\u001b[1;32m     <a href='vscode-notebook-cell://wsl%2Bubuntu/home/rjl/promptx/examples/dramatron/dramatron.ipynb#X22sdnNjb2RlLXJlbW90ZQ%3D%3D?line=16'>17</a>\u001b[0m                     logline\u001b[39m=\u001b[39m\u001b[39m\"\u001b[39m\u001b[39mMorgan adopts a new cat, Misterio, who sets a curse on anyone that pets them.\u001b[39m\u001b[39m\"\u001b[39m,\n\u001b[1;32m     <a href='vscode-notebook-cell://wsl%2Bubuntu/home/rjl/promptx/examples/dramatron/dramatron.ipynb#X22sdnNjb2RlLXJlbW90ZQ%3D%3D?line=17'>18</a>\u001b[0m                     name\u001b[39m=\u001b[39m\u001b[39m\"\u001b[39m\u001b[39mThe Adoption Center\u001b[39m\u001b[39m\"\u001b[39m,\n\u001b[1;32m     <a href='vscode-notebook-cell://wsl%2Bubuntu/home/rjl/promptx/examples/dramatron/dramatron.ipynb#X22sdnNjb2RlLXJlbW90ZQ%3D%3D?line=18'>19</a>\u001b[0m                     known_locations\u001b[39m=\u001b[39m[\u001b[39m\"\u001b[39m\u001b[39mHarukiya\u001b[39m\u001b[39m\"\u001b[39m],\n\u001b[1;32m     <a href='vscode-notebook-cell://wsl%2Bubuntu/home/rjl/promptx/examples/dramatron/dramatron.ipynb#X22sdnNjb2RlLXJlbW90ZQ%3D%3D?line=19'>20</a>\u001b[0m                 ),\n\u001b[1;32m     <a href='vscode-notebook-cell://wsl%2Bubuntu/home/rjl/promptx/examples/dramatron/dramatron.ipynb#X22sdnNjb2RlLXJlbW90ZQ%3D%3D?line=20'>21</a>\u001b[0m                 Location(\n\u001b[1;32m     <a href='vscode-notebook-cell://wsl%2Bubuntu/home/rjl/promptx/examples/dramatron/dramatron.ipynb#X22sdnNjb2RlLXJlbW90ZQ%3D%3D?line=21'>22</a>\u001b[0m                     name\u001b[39m=\u001b[39m\u001b[39m\"\u001b[39m\u001b[39mThe Adoption Center\u001b[39m\u001b[39m\"\u001b[39m,\n\u001b[1;32m     <a href='vscode-notebook-cell://wsl%2Bubuntu/home/rjl/promptx/examples/dramatron/dramatron.ipynb#X22sdnNjb2RlLXJlbW90ZQ%3D%3D?line=22'>23</a>\u001b[0m                     description\u001b[39m=\u001b[39m\u001b[39m'''\u001b[39m\n\u001b[1;32m     <a href='vscode-notebook-cell://wsl%2Bubuntu/home/rjl/promptx/examples/dramatron/dramatron.ipynb#X22sdnNjb2RlLXJlbW90ZQ%3D%3D?line=23'>24</a>\u001b[0m \u001b[39m                    The Adoption Center is a sad place, especially for an unadopted \u001b[39m\n\u001b[1;32m     <a href='vscode-notebook-cell://wsl%2Bubuntu/home/rjl/promptx/examples/dramatron/dramatron.ipynb#X22sdnNjb2RlLXJlbW90ZQ%3D%3D?line=24'>25</a>\u001b[0m \u001b[39m                    pet. It is full of walls and walls of cages and cages. Inside of \u001b[39m\n\u001b[1;32m     <a href='vscode-notebook-cell://wsl%2Bubuntu/home/rjl/promptx/examples/dramatron/dramatron.ipynb#X22sdnNjb2RlLXJlbW90ZQ%3D%3D?line=25'>26</a>\u001b[0m \u001b[39m                    each is an abandoned animal, longing for a home. The lighting is \u001b[39m\n\u001b[1;32m     <a href='vscode-notebook-cell://wsl%2Bubuntu/home/rjl/promptx/examples/dramatron/dramatron.ipynb#X22sdnNjb2RlLXJlbW90ZQ%3D%3D?line=26'>27</a>\u001b[0m \u001b[39m                    dim, gray, buzzing fluorescent.\u001b[39m\n\u001b[1;32m     <a href='vscode-notebook-cell://wsl%2Bubuntu/home/rjl/promptx/examples/dramatron/dramatron.ipynb#X22sdnNjb2RlLXJlbW90ZQ%3D%3D?line=27'>28</a>\u001b[0m \u001b[39m                    \u001b[39m\u001b[39m'''\u001b[39m,\n\u001b[1;32m     <a href='vscode-notebook-cell://wsl%2Bubuntu/home/rjl/promptx/examples/dramatron/dramatron.ipynb#X22sdnNjb2RlLXJlbW90ZQ%3D%3D?line=28'>29</a>\u001b[0m                 )\n\u001b[1;32m     <a href='vscode-notebook-cell://wsl%2Bubuntu/home/rjl/promptx/examples/dramatron/dramatron.ipynb#X22sdnNjb2RlLXJlbW90ZQ%3D%3D?line=29'>30</a>\u001b[0m             ),\n\u001b[1;32m     <a href='vscode-notebook-cell://wsl%2Bubuntu/home/rjl/promptx/examples/dramatron/dramatron.ipynb#X22sdnNjb2RlLXJlbW90ZQ%3D%3D?line=30'>31</a>\u001b[0m             Example(\n\u001b[1;32m     <a href='vscode-notebook-cell://wsl%2Bubuntu/home/rjl/promptx/examples/dramatron/dramatron.ipynb#X22sdnNjb2RlLXJlbW90ZQ%3D%3D?line=31'>32</a>\u001b[0m                 \u001b[39mdict\u001b[39m(\n\u001b[1;32m     <a href='vscode-notebook-cell://wsl%2Bubuntu/home/rjl/promptx/examples/dramatron/dramatron.ipynb#X22sdnNjb2RlLXJlbW90ZQ%3D%3D?line=32'>33</a>\u001b[0m                     logline\u001b[39m=\u001b[39m\u001b[39m\"\u001b[39m\u001b[39mMorgan adopts a new cat, Misterio, who sets a curse on anyone that pets them.\u001b[39m\u001b[39m\"\u001b[39m,\n\u001b[1;32m     <a href='vscode-notebook-cell://wsl%2Bubuntu/home/rjl/promptx/examples/dramatron/dramatron.ipynb#X22sdnNjb2RlLXJlbW90ZQ%3D%3D?line=33'>34</a>\u001b[0m                     name\u001b[39m=\u001b[39m\u001b[39m\"\u001b[39m\u001b[39mThe Adoption Center\u001b[39m\u001b[39m\"\u001b[39m,\n\u001b[1;32m     <a href='vscode-notebook-cell://wsl%2Bubuntu/home/rjl/promptx/examples/dramatron/dramatron.ipynb#X22sdnNjb2RlLXJlbW90ZQ%3D%3D?line=34'>35</a>\u001b[0m                     known_locations\u001b[39m=\u001b[39m[\u001b[39m\"\u001b[39m\u001b[39mHarukiya\u001b[39m\u001b[39m\"\u001b[39m, \u001b[39m\"\u001b[39m\u001b[39mThe Adoption Center\u001b[39m\u001b[39m\"\u001b[39m],\n\u001b[1;32m     <a href='vscode-notebook-cell://wsl%2Bubuntu/home/rjl/promptx/examples/dramatron/dramatron.ipynb#X22sdnNjb2RlLXJlbW90ZQ%3D%3D?line=35'>36</a>\u001b[0m                 ),\n\u001b[1;32m     <a href='vscode-notebook-cell://wsl%2Bubuntu/home/rjl/promptx/examples/dramatron/dramatron.ipynb#X22sdnNjb2RlLXJlbW90ZQ%3D%3D?line=36'>37</a>\u001b[0m                 \u001b[39mNone\u001b[39;00m,\n\u001b[1;32m     <a href='vscode-notebook-cell://wsl%2Bubuntu/home/rjl/promptx/examples/dramatron/dramatron.ipynb#X22sdnNjb2RlLXJlbW90ZQ%3D%3D?line=37'>38</a>\u001b[0m             ),\n\u001b[1;32m     <a href='vscode-notebook-cell://wsl%2Bubuntu/home/rjl/promptx/examples/dramatron/dramatron.ipynb#X22sdnNjb2RlLXJlbW90ZQ%3D%3D?line=38'>39</a>\u001b[0m             Example(\n\u001b[1;32m     <a href='vscode-notebook-cell://wsl%2Bubuntu/home/rjl/promptx/examples/dramatron/dramatron.ipynb#X22sdnNjb2RlLXJlbW90ZQ%3D%3D?line=39'>40</a>\u001b[0m                 \u001b[39mdict\u001b[39m(\n\u001b[1;32m     <a href='vscode-notebook-cell://wsl%2Bubuntu/home/rjl/promptx/examples/dramatron/dramatron.ipynb#X22sdnNjb2RlLXJlbW90ZQ%3D%3D?line=40'>41</a>\u001b[0m                     logline\u001b[39m=\u001b[39m\u001b[39m\"\u001b[39m\u001b[39mJames finds a well in his backyard that is haunted by the ghost of Sam.\u001b[39m\u001b[39m\"\u001b[39m,\n\u001b[1;32m     <a href='vscode-notebook-cell://wsl%2Bubuntu/home/rjl/promptx/examples/dramatron/dramatron.ipynb#X22sdnNjb2RlLXJlbW90ZQ%3D%3D?line=41'>42</a>\u001b[0m                     name\u001b[39m=\u001b[39m\u001b[39m\"\u001b[39m\u001b[39mThe Well\u001b[39m\u001b[39m\"\u001b[39m,\n\u001b[1;32m     <a href='vscode-notebook-cell://wsl%2Bubuntu/home/rjl/promptx/examples/dramatron/dramatron.ipynb#X22sdnNjb2RlLXJlbW90ZQ%3D%3D?line=42'>43</a>\u001b[0m                 ),\n\u001b[1;32m     <a href='vscode-notebook-cell://wsl%2Bubuntu/home/rjl/promptx/examples/dramatron/dramatron.ipynb#X22sdnNjb2RlLXJlbW90ZQ%3D%3D?line=43'>44</a>\u001b[0m                 Location(\n\u001b[1;32m     <a href='vscode-notebook-cell://wsl%2Bubuntu/home/rjl/promptx/examples/dramatron/dramatron.ipynb#X22sdnNjb2RlLXJlbW90ZQ%3D%3D?line=44'>45</a>\u001b[0m                     name\u001b[39m=\u001b[39m\u001b[39m\"\u001b[39m\u001b[39mThe Well\u001b[39m\u001b[39m\"\u001b[39m,\n\u001b[1;32m     <a href='vscode-notebook-cell://wsl%2Bubuntu/home/rjl/promptx/examples/dramatron/dramatron.ipynb#X22sdnNjb2RlLXJlbW90ZQ%3D%3D?line=45'>46</a>\u001b[0m                     description\u001b[39m=\u001b[39m\u001b[39m'''\u001b[39m\n\u001b[1;32m     <a href='vscode-notebook-cell://wsl%2Bubuntu/home/rjl/promptx/examples/dramatron/dramatron.ipynb#X22sdnNjb2RlLXJlbW90ZQ%3D%3D?line=46'>47</a>\u001b[0m \u001b[39m                    The well is buried under grass and hedges. It is at least \u001b[39m\n\u001b[1;32m     <a href='vscode-notebook-cell://wsl%2Bubuntu/home/rjl/promptx/examples/dramatron/dramatron.ipynb#X22sdnNjb2RlLXJlbW90ZQ%3D%3D?line=47'>48</a>\u001b[0m \u001b[39m                    twenty feet deep, if not more and it is masoned with stones. \u001b[39m\n\u001b[1;32m     <a href='vscode-notebook-cell://wsl%2Bubuntu/home/rjl/promptx/examples/dramatron/dramatron.ipynb#X22sdnNjb2RlLXJlbW90ZQ%3D%3D?line=48'>49</a>\u001b[0m \u001b[39m                    It is 150 years old at least. It stinks of stale, standing \u001b[39m\n\u001b[1;32m     <a href='vscode-notebook-cell://wsl%2Bubuntu/home/rjl/promptx/examples/dramatron/dramatron.ipynb#X22sdnNjb2RlLXJlbW90ZQ%3D%3D?line=49'>50</a>\u001b[0m \u001b[39m                    water, and has vines growing up the sides. It is narrow enough \u001b[39m\n\u001b[1;32m     <a href='vscode-notebook-cell://wsl%2Bubuntu/home/rjl/promptx/examples/dramatron/dramatron.ipynb#X22sdnNjb2RlLXJlbW90ZQ%3D%3D?line=50'>51</a>\u001b[0m \u001b[39m                    to not be able to fit down if you are a grown adult human.\u001b[39m\n\u001b[1;32m     <a href='vscode-notebook-cell://wsl%2Bubuntu/home/rjl/promptx/examples/dramatron/dramatron.ipynb#X22sdnNjb2RlLXJlbW90ZQ%3D%3D?line=51'>52</a>\u001b[0m \u001b[39m                    \u001b[39m\u001b[39m'''\u001b[39m,\n\u001b[1;32m     <a href='vscode-notebook-cell://wsl%2Bubuntu/home/rjl/promptx/examples/dramatron/dramatron.ipynb#X22sdnNjb2RlLXJlbW90ZQ%3D%3D?line=52'>53</a>\u001b[0m                 )\n\u001b[1;32m     <a href='vscode-notebook-cell://wsl%2Bubuntu/home/rjl/promptx/examples/dramatron/dramatron.ipynb#X22sdnNjb2RlLXJlbW90ZQ%3D%3D?line=53'>54</a>\u001b[0m             ),\n\u001b[1;32m     <a href='vscode-notebook-cell://wsl%2Bubuntu/home/rjl/promptx/examples/dramatron/dramatron.ipynb#X22sdnNjb2RlLXJlbW90ZQ%3D%3D?line=54'>55</a>\u001b[0m             Example(\n\u001b[1;32m     <a href='vscode-notebook-cell://wsl%2Bubuntu/home/rjl/promptx/examples/dramatron/dramatron.ipynb#X22sdnNjb2RlLXJlbW90ZQ%3D%3D?line=55'>56</a>\u001b[0m                 \u001b[39mdict\u001b[39m(\n\u001b[1;32m     <a href='vscode-notebook-cell://wsl%2Bubuntu/home/rjl/promptx/examples/dramatron/dramatron.ipynb#X22sdnNjb2RlLXJlbW90ZQ%3D%3D?line=56'>57</a>\u001b[0m                     logline\u001b[39m=\u001b[39m\u001b[39m\"\u001b[39m\u001b[39mMr. Dorbenson finds a book at a garage sale that tells the story of his own life. And it ends in a murder! \u001b[39m\u001b[39m\"\u001b[39m,\n\u001b[1;32m     <a href='vscode-notebook-cell://wsl%2Bubuntu/home/rjl/promptx/examples/dramatron/dramatron.ipynb#X22sdnNjb2RlLXJlbW90ZQ%3D%3D?line=57'>58</a>\u001b[0m                     name\u001b[39m=\u001b[39m\u001b[39m\"\u001b[39m\u001b[39mThe Garage Sale\u001b[39m\u001b[39m\"\u001b[39m,\n\u001b[1;32m     <a href='vscode-notebook-cell://wsl%2Bubuntu/home/rjl/promptx/examples/dramatron/dramatron.ipynb#X22sdnNjb2RlLXJlbW90ZQ%3D%3D?line=58'>59</a>\u001b[0m                 ),\n\u001b[1;32m     <a href='vscode-notebook-cell://wsl%2Bubuntu/home/rjl/promptx/examples/dramatron/dramatron.ipynb#X22sdnNjb2RlLXJlbW90ZQ%3D%3D?line=59'>60</a>\u001b[0m                 Location(\n\u001b[1;32m     <a href='vscode-notebook-cell://wsl%2Bubuntu/home/rjl/promptx/examples/dramatron/dramatron.ipynb#X22sdnNjb2RlLXJlbW90ZQ%3D%3D?line=60'>61</a>\u001b[0m                     name\u001b[39m=\u001b[39m\u001b[39m\"\u001b[39m\u001b[39mThe Garage Sale\u001b[39m\u001b[39m\"\u001b[39m,\n\u001b[1;32m     <a href='vscode-notebook-cell://wsl%2Bubuntu/home/rjl/promptx/examples/dramatron/dramatron.ipynb#X22sdnNjb2RlLXJlbW90ZQ%3D%3D?line=61'>62</a>\u001b[0m                     description\u001b[39m=\u001b[39m\u001b[39m'''\u001b[39m\n\u001b[1;32m     <a href='vscode-notebook-cell://wsl%2Bubuntu/home/rjl/promptx/examples/dramatron/dramatron.ipynb#X22sdnNjb2RlLXJlbW90ZQ%3D%3D?line=62'>63</a>\u001b[0m \u001b[39m                    It is a garage packed with dusty household goods and antiques. \u001b[39m\n\u001b[1;32m     <a href='vscode-notebook-cell://wsl%2Bubuntu/home/rjl/promptx/examples/dramatron/dramatron.ipynb#X22sdnNjb2RlLXJlbW90ZQ%3D%3D?line=63'>64</a>\u001b[0m \u001b[39m                    There is a box at the back that says FREE and is full of paper \u001b[39m\n\u001b[1;32m     <a href='vscode-notebook-cell://wsl%2Bubuntu/home/rjl/promptx/examples/dramatron/dramatron.ipynb#X22sdnNjb2RlLXJlbW90ZQ%3D%3D?line=64'>65</a>\u001b[0m \u001b[39m                    back books.\u001b[39m\n\u001b[1;32m     <a href='vscode-notebook-cell://wsl%2Bubuntu/home/rjl/promptx/examples/dramatron/dramatron.ipynb#X22sdnNjb2RlLXJlbW90ZQ%3D%3D?line=65'>66</a>\u001b[0m \u001b[39m                    \u001b[39m\u001b[39m'''\u001b[39m,\n\u001b[1;32m     <a href='vscode-notebook-cell://wsl%2Bubuntu/home/rjl/promptx/examples/dramatron/dramatron.ipynb#X22sdnNjb2RlLXJlbW90ZQ%3D%3D?line=66'>67</a>\u001b[0m                 )\n\u001b[1;32m     <a href='vscode-notebook-cell://wsl%2Bubuntu/home/rjl/promptx/examples/dramatron/dramatron.ipynb#X22sdnNjb2RlLXJlbW90ZQ%3D%3D?line=67'>68</a>\u001b[0m             ),\n\u001b[1;32m     <a href='vscode-notebook-cell://wsl%2Bubuntu/home/rjl/promptx/examples/dramatron/dramatron.ipynb#X22sdnNjb2RlLXJlbW90ZQ%3D%3D?line=68'>69</a>\u001b[0m         ],\n\u001b[1;32m     <a href='vscode-notebook-cell://wsl%2Bubuntu/home/rjl/promptx/examples/dramatron/dramatron.ipynb#X22sdnNjb2RlLXJlbW90ZQ%3D%3D?line=69'>70</a>\u001b[0m     )\n\u001b[1;32m     <a href='vscode-notebook-cell://wsl%2Bubuntu/home/rjl/promptx/examples/dramatron/dramatron.ipynb#X22sdnNjb2RlLXJlbW90ZQ%3D%3D?line=70'>71</a>\u001b[0m     \u001b[39mif\u001b[39;00m response \u001b[39mis\u001b[39;00m \u001b[39mnot\u001b[39;00m \u001b[39mNone\u001b[39;00m:\n\u001b[1;32m     <a href='vscode-notebook-cell://wsl%2Bubuntu/home/rjl/promptx/examples/dramatron/dramatron.ipynb#X22sdnNjb2RlLXJlbW90ZQ%3D%3D?line=71'>72</a>\u001b[0m         locations\u001b[39m.\u001b[39mappend(response)\n",
      "\u001b[0;31mAttributeError\u001b[0m: 'str' object has no attribute 'name'"
     ]
    }
   ],
   "source": [
    "from typing import Optional\n",
    "\n",
    "\n",
    "def extract_locations(story: Story) -> List[Location]:\n",
    "    locations = []\n",
    "    for beat in story.outline:\n",
    "        response = prompt(\n",
    "            '''\n",
    "            Generate a location based on the story logline and location name. \n",
    "            If the location is already known, return None\n",
    "            ''',\n",
    "            input=dict(logline=story.logline, name=beat.location, known_locations=[l.name for l in locations]),\n",
    "            output=Location,\n",
    "            examples=[\n",
    "                Example(\n",
    "                    dict(\n",
    "                        logline=\"Morgan adopts a new cat, Misterio, who sets a curse on anyone that pets them.\",\n",
    "                        name=\"The Adoption Center\",\n",
    "                        known_locations=[\"Harukiya\"],\n",
    "                    ),\n",
    "                    Location(\n",
    "                        name=\"The Adoption Center\",\n",
    "                        description='''\n",
    "                        The Adoption Center is a sad place, especially for an unadopted \n",
    "                        pet. It is full of walls and walls of cages and cages. Inside of \n",
    "                        each is an abandoned animal, longing for a home. The lighting is \n",
    "                        dim, gray, buzzing fluorescent.\n",
    "                        ''',\n",
    "                    )\n",
    "                ),\n",
    "                Example(\n",
    "                    dict(\n",
    "                        logline=\"Morgan adopts a new cat, Misterio, who sets a curse on anyone that pets them.\",\n",
    "                        name=\"The Adoption Center\",\n",
    "                        known_locations=[\"Harukiya\", \"The Adoption Center\"],\n",
    "                    ),\n",
    "                    None,\n",
    "                ),\n",
    "                Example(\n",
    "                    dict(\n",
    "                        logline=\"James finds a well in his backyard that is haunted by the ghost of Sam.\",\n",
    "                        name=\"The Well\",\n",
    "                    ),\n",
    "                    Location(\n",
    "                        name=\"The Well\",\n",
    "                        description='''\n",
    "                        The well is buried under grass and hedges. It is at least \n",
    "                        twenty feet deep, if not more and it is masoned with stones. \n",
    "                        It is 150 years old at least. It stinks of stale, standing \n",
    "                        water, and has vines growing up the sides. It is narrow enough \n",
    "                        to not be able to fit down if you are a grown adult human.\n",
    "                        ''',\n",
    "                    )\n",
    "                ),\n",
    "                Example(\n",
    "                    dict(\n",
    "                        logline=\"Mr. Dorbenson finds a book at a garage sale that tells the story of his own life. And it ends in a murder! \",\n",
    "                        name=\"The Garage Sale\",\n",
    "                    ),\n",
    "                    Location(\n",
    "                        name=\"The Garage Sale\",\n",
    "                        description='''\n",
    "                        It is a garage packed with dusty household goods and antiques. \n",
    "                        There is a box at the back that says FREE and is full of paper \n",
    "                        back books.\n",
    "                        ''',\n",
    "                    )\n",
    "                ),\n",
    "            ],\n",
    "        )\n",
    "        if response is not None:\n",
    "            locations.append(response)\n",
    "    return locations\n",
    "    \n",
    "\n",
    "locations = extract_locations(story)\n",
    "story.locations = locations\n",
    "story"
   ]
  },
  {
   "cell_type": "markdown",
   "metadata": {},
   "source": [
    "Finally, we can write a script for each scene using the generated scene beats and the characters and locations we generated earlier. Characters and locations are queried using the scene beat data so that the most relevant entries are found using the stored embeddings. Again, the example follows the paper."
   ]
  },
  {
   "cell_type": "markdown",
   "metadata": {},
   "source": [
    "Now we have defined all the functions, lets put it together in a single cell and generate a new story."
   ]
  },
  {
   "cell_type": "code",
   "execution_count": 13,
   "metadata": {},
   "outputs": [],
   "source": [
    "def write_scene(story: Story, beat: SceneBeat) -> str:\n",
    "    try:\n",
    "        location = next(filter(lambda x: x.name.lower() == beat.location.lower(), story.locations))\n",
    "    except StopIteration:\n",
    "        print(f'No location found for {beat.location}')\n",
    "        return None\n",
    "    \n",
    "    return prompt(\n",
    "        f'''\n",
    "        Write a scene for a story based on the scene beat and location.\n",
    "        ''',\n",
    "        input=dict(\n",
    "            plot_element=beat.plot_element,\n",
    "            beat_description=beat.description,\n",
    "            location=location.name,\n",
    "            characters=story.characters,\n",
    "            logline=story.logline,\n",
    "            title=story.title,\n",
    "        ),\n",
    "    )\n",
    "\n",
    "\n",
    "def write_script(story: Story) -> list[str]:\n",
    "    return [write_scene(story, beat) for beat in story.outline]"
   ]
  },
  {
   "cell_type": "code",
   "execution_count": 11,
   "metadata": {},
   "outputs": [
    {
     "data": {
      "text/html": [
       "<pre style=\"white-space:pre;overflow-x:auto;line-height:normal;font-family:Menlo,'DejaVu Sans Mono',consolas,'Courier New',monospace\"></pre>\n"
      ],
      "text/plain": []
     },
     "metadata": {},
     "output_type": "display_data"
    },
    {
     "data": {
      "text/plain": [
       "\u001b[32m\"INT. NEO'S APARTMENT - LIVING ROOM - NIGHT\\n\\nNeo sits hunched over his computer, surrounded by stacks of electronic equipment and dimly lit by the glow of multiple monitors. The room is cluttered with cables and hard drives, a reflection of his obsession with hacking.\\n\\nNEO, early 30s, is an average-looking guy with an intense gaze. He is completely absorbed in his work, typing furiously as lines of code appear on the screens.\\n\\nSuddenly, the door to the apartment bursts open, and MORPHEUS, a charismatic man in his 40s, storms in. He is dressed all in black, a stark contrast to Neo's casual attire.\\n\\nMORPHEUS\\nNeo! You've been searching for answers, haven't you?\\n\\nNeo looks up, bewilderment apparent on his face.\\n\\nNEO\\nWho are you?\\n\\nMorpheus walks towards Neo, his gaze never wavering.\\n\\nMORPHEUS\\nI am Morpheus. And I've come to offer you a choice. The red pill, or the blue pill.\\n\\nNeo's curiosity gets the better of him as he stares at the pills in Morpheus' outstretched hand.\\n\\nNEO\\nWhat's the difference?\\n\\nMorpheus smiles knowingly.\\n\\nMORPHEUS\\nThe red pill will show you the truth. The truth about the Matrix, about your existence, and your place in the war against the controllers. The blue pill...will let you continue living the life you have always known. The choice is yours, Neo.\\n\\nNeo hesitates, his eyes darting between the pills and Morpheus.\\n\\nNEO\\nHow do I know this is real?\\n\\nMorpheus reaches out and touches Neo's shoulder, his voice filled with conviction.\\n\\nMORPHEUS\\nYou will have to trust me. The Matrix is everywhere, all around us. It is the world that has been pulled over your eyes to blind you from the truth.\\n\\nAs Morpheus speaks, Neo glances at his computer screen, which displays a puzzling image - a black cat walking by, repeating the exact same movements.\\n\\nNEO\\nThe Matrix...\\n\\nMorpheus nods, a glimmer of excitement in his eyes.\\n\\nMORPHEUS\\nYes, Neo. It's all around you. But I can show you how to unplug from it.\\n\\nJust then, TRINITY, a beautiful woman in her late 20s, appears in the doorway, a look of determination on her face.\\n\\nTRINITY\\nWe don't have much time. The Agents are coming.\\n\\nAgent SMITH's shadow looms in the hallway behind Trinity, his presence felt even before he enters the room.\\n\\nAGENT SMITH\\nYou can't hide from us, Mr. Anderson.\\n\\nNeo's heart races as he realizes the danger he is in. He looks at Morpheus, then at the pills in his hand.\\n\\nNEO\\nI...I choose the red pill.\\n\\nMorpheus smiles, triumphantly.\\n\\nMORPHEUS\\nWelcome to the real world, Neo.\\n\\nNeo takes the red pill from Morpheus' hand and swallows it, his face filled with a mix of fear and anticipation.\\n\\nAs the pill takes effect, the room starts to fade away, revealing the true nature of the world.\\n\\nFADE OUT.\"\u001b[0m"
      ]
     },
     "execution_count": 11,
     "metadata": {},
     "output_type": "execute_result"
    }
   ],
   "source": [
    "scene = write_scene(story, story.outline[0])\n",
    "scene"
   ]
  },
  {
   "cell_type": "code",
   "execution_count": 14,
   "metadata": {},
   "outputs": [
    {
     "name": "stdout",
     "output_type": "stream",
     "text": [
      "No location found for Seedy nightclub\n"
     ]
    },
    {
     "data": {
      "text/html": [
       "<pre style=\"white-space:pre;overflow-x:auto;line-height:normal;font-family:Menlo,'DejaVu Sans Mono',consolas,'Courier New',monospace\"></pre>\n"
      ],
      "text/plain": []
     },
     "metadata": {},
     "output_type": "display_data"
    },
    {
     "data": {
      "text/plain": [
       "\n",
       "\u001b[1m[\u001b[0m\n",
       "    \u001b[32m\"INT. NEO'S APARTMENT - LIVING ROOM - NIGHT\\n\\nThe room is dimly lit, with the glow of computer monitors reflecting off Neo's face. He sits hunched over his desk, a cup of lukewarm coffee next to him. Code scrolls rapidly on the screens as he types with lightning speed.\\n\\nNEO, a young man in his late twenties, wears a disheveled appearance. His eyes flicker with a mix of determination and boredom. Unknown to him, he is on the brink of a life-altering discovery.\\n\\nThe camera zooms in on Neo's face as he realizes he's stumbled upon something significant. He furrows his brow, his fingers dancing across the keyboard, trying to unravel the mysterious code.\\n\\nNEO\\n\u001b[0m\u001b[32m(\u001b[0m\u001b[32mwhispering to himself\u001b[0m\u001b[32m)\u001b[0m\u001b[32m\\nWhat is this? It's like nothing I've ever seen before... It's almost... sentient.\\n\\nSuddenly, his screens flicker, and the code begins to change, forming words and images that seem to communicate with Neo directly. He leans closer, unable to tear his gaze away.\\n\\nNEO\\n\u001b[0m\u001b[32m(\u001b[0m\u001b[32min awe\u001b[0m\u001b[32m)\u001b[0m\u001b[32m\\nThis can't be real. There's something more to the world... I can sense it.\\n\\nJust then, MORPHEUS, a tall and imposing figure, suddenly appears on one of the screens. His presence demands attention, and his voice echoes throughout the room.\\n\\nMORPHEUS\\n\u001b[0m\u001b[32m(\u001b[0m\u001b[32mV.O.\u001b[0m\u001b[32m)\u001b[0m\u001b[32m\\nNeo, I've been watching you.\\n\\nNeo jolts back in surprise, his heart pounding in his chest. He cautiously looks around the room, trying to find the source of Morpheus' voice.\\n\\nNEO\\n\u001b[0m\u001b[32m(\u001b[0m\u001b[32mwhispering\u001b[0m\u001b[32m)\u001b[0m\u001b[32m\\nWho... Who are you? How did you get into my system?\\n\\nMorpheus' image flickers on another screen. He looks directly at Neo, his eyes filled with a hidden knowledge.\\n\\nMORPHEUS\\n\u001b[0m\u001b[32m(\u001b[0m\u001b[32mV.O.\u001b[0m\u001b[32m)\u001b[0m\u001b[32m\\nI know what you've been searching for, Neo. The truth about the world.\\n\\nNeo's eyes widen in disbelief. He didn't even realize how much he yearned for the truth.\\n\\nNEO\\n\u001b[0m\u001b[32m(\u001b[0m\u001b[32mstammering\u001b[0m\u001b[32m)\u001b[0m\u001b[32m\\nThe truth? About what?\\n\\nMorpheus' image becomes clearer, as if he's stepping out of the screen and into the room.\\n\\nMORPHEUS\\n\u001b[0m\u001b[32m(\u001b[0m\u001b[32mV.O.\u001b[0m\u001b[32m)\u001b[0m\u001b[32m\\nAbout the Matrix, Neo. About your true nature and your role in the war against the controllers.\\n\\nNeo's mind races with the implications of Morpheus' words. He stands up, knocking over his coffee, but doesn't even notice the mess.\\n\\nNEO\\n\u001b[0m\u001b[32m(\u001b[0m\u001b[32mwhispering\u001b[0m\u001b[32m)\u001b[0m\u001b[32m\\nThe Matrix... What does it all mean?\\n\\nJust then, TRINITY, a confident and enigmatic figure, appears on another screen. She locks eyes with Neo, her presence exuding strength and determination.\\n\\nTRINITY\\n\u001b[0m\u001b[32m(\u001b[0m\u001b[32mV.O.\u001b[0m\u001b[32m)\u001b[0m\u001b[32m\\nYou've been living in a dream world, Neo. It's time to wake up and face reality.\\n\\nAs Trinity speaks, Neo's fear morphs into curiosity and a newfound determination.\\n\\nNEO\\n\u001b[0m\u001b[32m(\u001b[0m\u001b[32mresolute\u001b[0m\u001b[32m)\u001b[0m\u001b[32m\\nShow me. Show me the truth.\\n\\nThe room suddenly darkens, and a feeling of anticipation fills the air. Neo braces himself for the unknown, ready to embark on a journey that will challenge everything he thought he knew.\\n\\nUnbeknownst to Neo, his journey will have major consequences, as he must face the relentless pursuit of AGENT SMITH, an advanced program within the Matrix, and the betrayal of CYPHER, a member of the rebel group.\\n\\nFADE OUT.\"\u001b[0m,\n",
       "    \u001b[3;35mNone\u001b[0m,\n",
       "    \u001b[32m\"INT. MORPHEUS' HIDEOUT - NIGHT\\n\\nThe room is dimly lit, with computer screens and wires scattered around. Neo sits on an old, worn-out couch, looking bewildered. Morpheus, a tall, imposing figure with intense eyes, stands in front of him. Trinity, a strong and mysterious woman, watches from the side.\\n\\nMORPHEUS\\n\u001b[0m\u001b[32m(\u001b[0m\u001b[32mearnestly\u001b[0m\u001b[32m)\u001b[0m\u001b[32m\\nNeo, I know this may seem overwhelming to you. But what I'm offering is the truth. The truth about the Matrix. The truth about who you really are.\\n\\nNeo shakes his head, unable to fully comprehend what Morpheus is telling him.\\n\\nNEO\\n\u001b[0m\u001b[32m(\u001b[0m\u001b[32mskeptically\u001b[0m\u001b[32m)\u001b[0m\u001b[32m\\nAre you saying that everything I know, everything I believe, is a lie?\\n\\nMorpheus nods, his eyes unwavering.\\n\\nMORPHEUS\\nYes, Neo. The world you perceive is an illusion created by the machines. They have enslaved humanity and use us as their energy source. But there is a way out. We are fighting to free ourselves and expose the truth.\\n\\nNeo's skepticism turns into frustration as he struggles to process the information.\\n\\nNEO\\n\u001b[0m\u001b[32m(\u001b[0m\u001b[32mangry\u001b[0m\u001b[32m)\u001b[0m\u001b[32m\\nWhy me? Why should I believe you?\\n\\nMorpheus walks closer to Neo, his voice calm and confident.\\n\\nMORPHEUS\\nBecause, Neo, you've always felt that there's something not quite right with the world. Deep down, you know that there is more to life than what is shown to you. You have the potential to be so much more than just a cog in their machine.\\n\\nNeo looks away, lost in his own thoughts. Trinity steps forward, her voice gentle but filled with conviction.\\n\\nTRINITY\\nNeo, we believe in you. We've seen what you're capable of. You have a unique ability to influence the Matrix, to change its rules. With our help, you can unlock your true potential and become the savior of humanity.\\n\\nNeo's eyes meet Trinity's, and for a moment, he sees the truth reflected in her gaze. He takes a deep breath, his mind racing with uncertainty and fear.\\n\\nNEO\\n\u001b[0m\u001b[32m(\u001b[0m\u001b[32mstuttering\u001b[0m\u001b[32m)\u001b[0m\u001b[32m\\nI... I need some time to think.\\n\\nMorpheus nods understandingly, giving Neo the space he needs.\\n\\nMORPHEUS\\nTake your time, Neo. But remember, the Matrix has you. We can show you the way out, but you have to walk the path yourself.\\n\\nNeo gets up from the couch, his determination slowly beginning to overshadow his skepticism.\\n\\nNEO\\n\u001b[0m\u001b[32m(\u001b[0m\u001b[32mresolute\u001b[0m\u001b[32m)\u001b[0m\u001b[32m\\nI want to learn. I want to know the truth.\\n\\nMorpheus smiles, a glimmer of hope in his eyes.\\n\\nMORPHEUS\\nThen welcome, Neo, to the real world.\\n\\nAs Neo makes his decision, little does he know that Agent Smith, a figure lurking in the shadows, is already hot on his trail, determined to stop him at any cost.\\n\\nFADE OUT.\"\u001b[0m,\n",
       "    \u001b[32m\"INT. MORPHEUS' HIDEOUT - NIGHT\\n\\nThe hideout is dimly lit, filled with computer screens and technology. Neo sits at a table, surrounded by Morpheus, Trinity, and several other rebel members. Agent Smith's face appears on one of the screens, a constant reminder of their enemy.\\n\\nMorpheus leans forward, his eyes intense as he addresses Neo.\\n\\nMORPHEUS\\n\u001b[0m\u001b[32m(\u001b[0m\u001b[32mgravely\u001b[0m\u001b[32m)\u001b[0m\u001b[32m\\nNeo, the Matrix is all around us. It is the world that has been pulled over your eyes to blind you from the truth.\\n\\nNeo listens intently, his eyes wide with curiosity.\\n\\nNEO\\n\u001b[0m\u001b[32m(\u001b[0m\u001b[32mhesitant\u001b[0m\u001b[32m)\u001b[0m\u001b[32m\\nWhat truth?\\n\\nMorpheus walks over to a nearby computer screen, which displays a diagram of the Matrix.\\n\\nMORPHEUS\\n\u001b[0m\u001b[32m(\u001b[0m\u001b[32mrevealingly\u001b[0m\u001b[32m)\u001b[0m\u001b[32m\\nThat you are a slave, Neo. Like everyone else, you were born into bondage, born into a prison that you cannot smell, taste, or touch. A prison for your mind.\\n\\nThe rebel members exchange uneasy glances, aware of the weight of Morpheus' words.\\n\\nMorpheus turns to face Neo, his voice firm.\\n\\nMORPHEUS\\nBut I'm here to offer you a choice. A choice to see the truth and free your mind.\\n\\nNeo's eyes widen, his curiosity turning to determination.\\n\\nNEO\\n\u001b[0m\u001b[32m(\u001b[0m\u001b[32mhopeful\u001b[0m\u001b[32m)\u001b[0m\u001b[32m\\nHow?\\n\\nMorpheus gestures to the computer screens around them, showcasing the virtual world of the Matrix.\\n\\nMORPHEUS\\nYou have been living inside a computer program, Neo. The Matrix is a simulated reality, designed to keep humanity under control. But you, Neo, you are the one - the chosen one who can free humanity from its hold.\\n\\nNeo's mind races, his disbelief slowly fading away.\\n\\nNEO\\n\u001b[0m\u001b[32m(\u001b[0m\u001b[32mtentative\u001b[0m\u001b[32m)\u001b[0m\u001b[32m\\nBut what do I have to do?\\n\\nMorpheus smiles, a glimmer of hope in his eyes.\\n\\nMORPHEUS\\nYou must learn to bend the rules of the Matrix, to break free from its hold. Only then can you truly become The One.\\n\\nTrinity steps forward, her voice filled with determination.\\n\\nTRINITY\\nWe believe in you, Neo. We've seen what you're capable of, and we know you can bring down the Matrix.\\n\\nNeo takes a deep breath, steeling himself for the challenges ahead.\\n\\nNEO\\n\u001b[0m\u001b[32m(\u001b[0m\u001b[32mdetermined\u001b[0m\u001b[32m)\u001b[0m\u001b[32m\\nAlright, Morpheus. Show me the truth. Show me how to free my mind.\\n\\nMorpheus nods, his expression filled with confidence.\\n\\nMORPHEUS\\nWelcome to the real world, Neo.\\n\\nAs Morpheus begins his training with Neo, their journey to free humanity from the Matrix begins.\\n\\nFADE OUT.\"\u001b[0m,\n",
       "    \u001b[32m\"INT. CONSTRUCT SIMULATION - DAY\\n\\nNeo stands in a vast white world, with code streaming down from above. He looks around in awe, trying to comprehend the reality before him.\\n\\nNEO\\n\u001b[0m\u001b[32m(\u001b[0m\u001b[32mwhispering\u001b[0m\u001b[32m)\u001b[0m\u001b[32m\\nSo this is the Construct...\\n\\nMorpheus appears beside him, a calm but determined expression on his face.\\n\\nMORPHEUS\\nWelcome, Neo. This is the world within the Matrix. Here, you can manipulate the laws of this simulated reality.\\n\\nNeo gazes at Morpheus, his eyes wide with curiosity and excitement.\\n\\nNEO\\n\u001b[0m\u001b[32m(\u001b[0m\u001b[32mshowing anticipation\u001b[0m\u001b[32m)\u001b[0m\u001b[32m\\nI can bend reality? Change anything I want?\\n\\nMorpheus nods, a faint smile tugging at his lips.\\n\\nMORPHEUS\\nYes, Neo. You possess abilities beyond your imagination. In this realm, anything you believe is possible.\\n\\nNeo takes a deep breath, trying to process the magnitude of what he's been told.\\n\\nNEO\\n\u001b[0m\u001b[32m(\u001b[0m\u001b[32mstammering\u001b[0m\u001b[32m)\u001b[0m\u001b[32m\\nI... I don't even know where to begin.\\n\\nTrinity joins them, her presence lending a sense of hope and strength.\\n\\nTRINITY\\nYou're not alone, Neo. We're here to guide you, to help you realize your true potential.\\n\\nNeo looks at Trinity, his eyes filled with gratitude.\\n\\nNEO\\nThank you, Trinity. I never thought any of this was possible until I met you and Morpheus.\\n\\nMorpheus places a hand on Neo's shoulder, his voice low and steady.\\n\\nMORPHEUS\\nRemember, Neo, you are the One. The prophecy spoke of your arrival, and together, we will free humanity from the chains of the Matrix.\\n\\nAgent Smith watches from a distance, his expression filled with disdain and determination.\\n\\nAGENT SMITH\\n\u001b[0m\u001b[32m(\u001b[0m\u001b[32mmutters\u001b[0m\u001b[32m)\u001b[0m\u001b[32m\\nThe One... a dangerous fiction. He cannot escape his fate.\\n\\nCypher lurks in the shadows, a calculating look in his eyes.\\n\\nCYPHER\\n\u001b[0m\u001b[32m(\u001b[0m\u001b[32mmocking\u001b[0m\u001b[32m)\u001b[0m\u001b[32m\\nEnjoy your little powers, Neo. Ignorance is truly bliss.\\n\\nAs the Construct simulation pulses with energy, Neo prepares to cross the threshold into a new reality. His journey has only just begun, and the battles ahead will test his strength, resolve, and belief in the truth.\\n\\nFADE OUT.\"\u001b[0m,\n",
       "    \u001b[32m\"INT. MATRIX TRAINING FACILITY - DAY\\n\\nNeo stands in the middle of a sparsely furnished room. Sweat drips down his forehead as he catches his breath from the intense training session he just underwent. Morpheus, a stoic and enigmatic rebel leader, watches him intently.\\n\\nMorpheus: \u001b[0m\u001b[32m(\u001b[0m\u001b[32msmiling\u001b[0m\u001b[32m)\u001b[0m\u001b[32m Impressive, Neo. You're improving at an astonishing rate.\\n\\nNeo: \u001b[0m\u001b[32m(\u001b[0m\u001b[32mpanting\u001b[0m\u001b[32m)\u001b[0m\u001b[32m Thanks, Morpheus. I'm doing my best to absorb everything you're teaching me.\\n\\nTrinity, a skilled hacker and fighter, walks over to Neo and hands him a water bottle.\\n\\nTrinity: Here, you need to stay hydrated. We have a lot more to cover today.\\n\\nNeo takes a grateful sip and nods.\\n\\nNeo: What's next?\\n\\nMorpheus: We're going to introduce you to some of our allies. It's time for you to meet the rest of the team.\\n\\nAs Morpheus leads Neo to another part of the training facility, they pass by a group of rebel fighters sparring with each other. Neo stares in awe at their agility and strength.\\n\\nMorpheus: These are the people who have dedicated their lives to fighting against the machines. They have all undergone the same training you're going through now.\\n\\nNeo: \u001b[0m\u001b[32m(\u001b[0m\u001b[32mimpressed\u001b[0m\u001b[32m)\u001b[0m\u001b[32m They seem so... skilled.\\n\\nMorpheus: They are. But remember, Neo, it's not just about physical skills. The real battle is fought in the mind.\\n\\nNeo furrows his brows, absorbing Morpheus' words.\\n\\nMorpheus: The Matrix is a system, Neo. That system is our enemy. But when you're inside, you look around. What do you see? Businessmen, teachers, lawyers, carpenters. The very minds of the people we are trying to save. But until we do, these people are still a part of that system and that makes them our enemy. You have to understand that most of these people are not ready to be unplugged. And many of them are so inured, so hopelessly dependent on the system, that they will fight to protect it.\\n\\nNeo: \u001b[0m\u001b[32m(\u001b[0m\u001b[32mdeep in thought\u001b[0m\u001b[32m)\u001b[0m\u001b[32m So, what do we do?\\n\\nMorpheus: We fight. We fight to free their minds, to show them the truth. And in order to do that, we need your help, Neo.\\n\\nNeo's determination intensifies as he realizes the weight of his role in the war against the machines.\\n\\nJust then, Agent Smith, an advanced program within the Matrix, appears menacingly in the distance. Neo's eyes narrow as he senses danger.\\n\\nNeo: Morpheus, who is that?\\n\\nMorpheus: \u001b[0m\u001b[32m(\u001b[0m\u001b[32mgrimly\u001b[0m\u001b[32m)\u001b[0m\u001b[32m That, Neo, is our enemy. Agent Smith. He will stop at nothing to eliminate you and everyone you care about.\\n\\nNeo braces himself for the coming battle, ready to face whatever challenges lie ahead.\\n\\nFADE OUT.\"\u001b[0m,\n",
       "    \u001b[32m\"INT. OFFICE BUILDING - MAIN LOBBY - NIGHT\\n\\nThe main lobby of the office building is sleek and modern, filled with polished marble floors and glossy glass walls. Neon lights bathe the space in an eerie glow, casting long shadows across the room. Neo, dressed in his signature black trench coat, stands at the entrance, his eyes scanning the area for any signs of danger. \\n\\nTRINITY, a fierce and confident hacker, appears next to Neo, her black leather outfit blending seamlessly with the darkness. \\n\\nTRINITY\\n\u001b[0m\u001b[32m(\u001b[0m\u001b[32mwhispering\u001b[0m\u001b[32m)\u001b[0m\u001b[32m\\nWe're approaching the inmost cave, Neo. Morpheus is being held on the top floor, heavily guarded.\\n\\nNeo nods, indicating his readiness for the mission. \\n\\nMorpheus, a wise and charismatic rebel leader, is trapped somewhere in this seemingly impenetrable fortress. They must rescue him before the agents break him and extract valuable information about the rebel network. \\n\\nAGENT SMITH, a menacing and calculated AI agent, patrols the lobby with an eerie calmness. His piercing gaze scans the room, ever alert. \\n\\nCYPHER, a disgruntled rebel member, glances nervously at Neo and Trinity, his face marked with doubt.\\n\\nCYPHER\\n\u001b[0m\u001b[32m(\u001b[0m\u001b[32mwhispering\u001b[0m\u001b[32m)\u001b[0m\u001b[32m\\nDo you really think we can make it? This building is crawling with agents.\\n\\nNeo's eyes meet Cypher's, his determination burning brighter with each passing second. \\n\\nNEO\\n\u001b[0m\u001b[32m(\u001b[0m\u001b[32mwhispering\u001b[0m\u001b[32m)\u001b[0m\u001b[32m\\nWe have no choice. They have Morpheus, and we need him back. \\n\\nTrinity steps forward, her eyes steely with determination.\\n\\nTRINITY\\nTime to fly, Neo. Let's show them what we're made of.\\n\\nNeo's eyes lock with Trinity's, a silent understanding passing between them. Together, they step forward, ready to face whatever challenges lie ahead. \\n\\nAs they venture deeper into the office building, the tension builds, placing their lives and the fate of the rebellion in the balance. They move with purpose, their every step echoing through the empty corridors, each locked door becoming an obstacle to overcome. \\n\\nThe Approach to the Inmost Cave has begun, and Neo, Trinity, and their loyal companions are determined to rescue Morpheus and bring him back to the fight against the machines. In this epic battle of wits and strength, they must uncover their true potential and unleash the power within them to free humanity from the clutches of the Matrix.\"\u001b[0m,\n",
       "    \u001b[32m\"INT. AGENT SMITH'S INTERROGATION ROOM - NIGHT\\n\\nNeo sits tied to a metal chair, his face bruised and bloodied from the beating he endured. Agent Smith, a cold and calculating program, stands menacingly in front of him.\\n\\nAGENT SMITH\\nYou thought you could defy us, Neo? You thought you could escape the grasp of the Matrix?\\n\\nNeo, though battered and in pain, refuses to show fear.\\n\\nNEO\\nI know the truth now, Smith. I know that this world isn't real. I won't let you control me anymore.\\n\\nAgent Smith smirks, his eyes filled with malice.\\n\\nAGENT SMITH\\nYou underestimate our power, Neo. You are just a mere human, while I am an advanced program. You cannot defeat us.\\n\\nJust as Agent Smith is about to deliver another blow, the room suddenly fills with a blinding light. Trinity, a skilled hacker and fighter, enters the room with guns blazing, taking down the guards.\\n\\nTRINITY\\nLeave him alone, Smith!\\n\\nNeo's eyes widen in disbelief as he watches Trinity effortlessly dispatch the guards. With the chaos around them, Trinity quickly unties Neo from the chair.\\n\\nTRINITY\\nWe have to go, Neo. Morpheus is waiting for us.\\n\\nNeo stumbles to his feet, his body weak from the beating, but determination shines in his eyes.\\n\\nNEO\\nI won't let them control me anymore. I'll fight them, Trinity.\\n\\nWith Trinity's help, Neo makes his way out of the room, dodging bullets and fighting off guards. Together, they navigate the labyrinthine hallways of the building.\\n\\nFinally, they reach a hidden exit, where Morpheus, the leader of the rebel group, awaits.\\n\\nMORPHEUS\\nYou did well, Neo. You faced your ordeal and survived.\\n\\nNeo, still catching his breath, looks at Morpheus with newfound strength.\\n\\nNEO\\nI'm ready to fight, Morpheus. I won't let them win.\\n\\nMorpheus nods, his eyes filled with pride.\\n\\nMORPHEUS\\nWelcome to the real world, Neo. We have a war to win.\\n\\nThey disappear into the night, ready to take on the machines and save humanity from the grasp of the Matrix.\\n\\nFADE OUT.\"\u001b[0m,\n",
       "    \u001b[32m\"INT. THE MATRIX - TRAINING PROGRAM - DAY\\n\\nNeo stands in a virtual training program, surrounded by Morpheus, Trinity, and other members of the rebel group. They have been teaching him the ways of the Matrix, helping him tap into his true potential as the One.\\n\\nNeo's eyes flit rapidly from one agent to another as they engage in a fierce simulated battle. He watches as Morpheus gracefully dodges and retaliates, effortlessly overpowering the agents with his newfound abilities.\\n\\nMORPHEUS\\n\u001b[0m\u001b[32m(\u001b[0m\u001b[32mlooking at Neo\u001b[0m\u001b[32m)\u001b[0m\u001b[32m\\nNow, Neo, it's your turn. Show us what you're capable of.\\n\\nNeo takes a deep breath, closing his eyes. He feels the power surging through his veins, the connection he now has with the Matrix. When he opens his eyes, they glimmer with an otherworldly light.\\n\\nNEO\\n\u001b[0m\u001b[32m(\u001b[0m\u001b[32min a determined voice\u001b[0m\u001b[32m)\u001b[0m\u001b[32m\\nI am the One.\\n\\nAs if on cue, the agents attack. Neo's movements are fluid and precise, almost too fast for the naked eye to follow. He effortlessly dodges their attacks, countering with a series of devastating blows.\\n\\nTrinity watches Neo in awe, her love and admiration for him evident in her eyes. She sees the true potential he possesses and understands the magnitude of his role in the war against the machines.\\n\\nTRINITY\\n\u001b[0m\u001b[32m(\u001b[0m\u001b[32mwhispering to herself\u001b[0m\u001b[32m)\u001b[0m\u001b[32m\\nHe's the One.\\n\\nAgent Smith, who has been observing the training session, becomes visibly enraged by Neo's newfound power. He realizes that Neo's abilities are far beyond anything they have encountered before, and he fears what this could mean for the Matrix.\\n\\nAGENT SMITH\\n\u001b[0m\u001b[32m(\u001b[0m\u001b[32mgritting his teeth\u001b[0m\u001b[32m)\u001b[0m\u001b[32m\\nThis changes nothing. We will still eliminate him and his band of rebels.\\n\\nNeo continues battling the agents, effortlessly defeating them one by one. With each defeat, his confidence grows, and he pushes the boundaries of what he thought was possible.\\n\\nMorpheus watches Neo with pride and satisfaction, knowing that his faith in Neo's potential was well-founded. The tables have turned, and now the rebels have the upper hand.\\n\\nMORPHEUS\\n\u001b[0m\u001b[32m(\u001b[0m\u001b[32mto Neo\u001b[0m\u001b[32m)\u001b[0m\u001b[32m\\nWell done, Neo. You have finally realized your true potential as the One. With your abilities, we can now fight back against the agents and free more minds from the Matrix.\\n\\nNeo takes a moment to catch his breath, a mix of exhaustion and excitement coursing through his veins. He looks at Morpheus, Trinity, and the rest of the rebels, a fire burning in his eyes.\\n\\nNEO\\n\u001b[0m\u001b[32m(\u001b[0m\u001b[32mwith determination\u001b[0m\u001b[32m)\u001b[0m\u001b[32m\\nWe will bring an end to this war. They may have the Matrix, but we have the truth.\\n\\nThe rebels cheer, their spirits lifted by Neo's extraordinary display of power. They now have a leader who can match the agents, and they know that their fight for freedom has just become a little bit easier.\\n\\nFADE OUT.\"\u001b[0m,\n",
       "    \u001b[32m\"INT. OFFICE BUILDING ROOFTOP - NIGHT\\n\\nNeo and Trinity stand on the edge of the rooftop, looking out at the sprawling cityscape below. The wind howls around them, adding to the tension in the air.\\n\\nTRINITY\\nWe don't have much time, Neo. The defenses are getting stronger. We need to get out of here before they overwhelm us.\\n\\nNeo's face is determined, his eyes focused on the city below.\\n\\nNEO\\nI know, Trinity. We can't let them catch us. The fate of humanity depends on our escape.\\n\\nThey both glance back at the open door that leads back into the building. Neo can hear the sound of footsteps getting closer.\\n\\nTRINITY\\nMorpheus said there's a way out of here. We just have to find it.\\n\\nJust then, Agent Smith emerges from the door, a malevolent grin on his face.\\n\\nAGENT SMITH\\nYou won't be going anywhere, Mr. Anderson. I'm afraid your little game is over.\\n\\nNeo clenches his fists, ready for a fight. Trinity stands beside him, her hand on her weapon.\\n\\nNEO\\nNot if we can help it.\\n\\nThey charge at Agent Smith, dodging his lightning-fast attacks. Neo's movements become fluid and precise, a result of his training in the Matrix. Trinity fights with equal skill, her martial arts expertise shining through.\\n\\nBut Agent Smith is relentless, his attacks growing more aggressive and powerful. He seems to be everywhere at once, a formidable opponent.\\n\\nTRINITY\\nNeo, we can't keep this up! We need to find another way!\\n\\nNeo looks around, his eyes scanning the rooftop. And then he spots it - a ventilation shaft.\\n\\nNEO\\nThere! The ventilation shaft. It leads down to the lower levels. We can make our escape from there.\\n\\nThey disengage from Agent Smith and race towards the shaft, bullets whizzing past them. Trinity takes point, shooting back at their pursuer to keep him at bay.\\n\\nAs they crawl through the narrow shaft, Neo can hear Agent Smith close behind them. The sound of his footsteps echoes in their ears, urging them to go faster.\\n\\nFinally, they reach the end of the shaft and drop down into a dimly lit corridor. They catch their breath, their chests heaving with exertion.\\n\\nTRINITY\\nWe made it. But we can't rest yet. We have to keep moving.\\n\\nNeo nods, his determination unwavering.\\n\\nNEO\\nWe're closer to the truth now, Trinity. We won't stop until we've freed humanity from the Matrix's grasp.\\n\\nThey continue their journey through the building, their path uncertain but their resolve resolute.\\n\\nFADE OUT.\"\u001b[0m,\n",
       "    \u001b[32m\"INT. REBEL HIDEOUT - DAY\\n\\nThe Rebel Hideout is dimly lit and filled with the low hum of machinery. Neo, Morpheus, Trinity, and the other rebels stand in a circle, their gazes fixed on the metal table in the center of the room. On the table lies Neo's lifeless body.\\n\\nMorpheus, the leader of the rebels, steps forward. He places a hand on Neo's chest, his eyes filled with determination.\\n\\nMORPHEUS\\n\u001b[0m\u001b[32m(\u001b[0m\u001b[32mto the others\u001b[0m\u001b[32m)\u001b[0m\u001b[32m\\nWe are set to make history today. Our savior has fallen, but we will bring him back.\\n\\nTrinity, Neo's love interest, watches Morpheus with a mix of hope and worry.\\n\\nTRINITY\\n\u001b[0m\u001b[32m(\u001b[0m\u001b[32mwhispering to herself\u001b[0m\u001b[32m)\u001b[0m\u001b[32m\\nYou can do this, Neo. I believe in you.\\n\\nCypher, a traitor among the rebels, stands at the edge of the group, his face a mask of indifference.\\n\\nCYPHER\\n\u001b[0m\u001b[32m(\u001b[0m\u001b[32msmirking\u001b[0m\u001b[32m)\u001b[0m\u001b[32m\\nIsn't this a waste of time? The One is dead. You're all playing a losing game.\\n\\nAgent Smith, the main antagonist, appears on a nearby monitor, his voice dripping with disdain.\\n\\nAGENT SMITH\\n\u001b[0m\u001b[32m(\u001b[0m\u001b[32mlaughing\u001b[0m\u001b[32m)\u001b[0m\u001b[32m\\nYou rebels never learn, do you? No matter how hard you try, you can never beat the Matrix.\\n\\nMorpheus ignores the taunts, focusing all his energy on Neo. He closes his eyes and utters a solemn prayer.\\n\\nMORPHEUS\\n\u001b[0m\u001b[32m(\u001b[0m\u001b[32msincerely\u001b[0m\u001b[32m)\u001b[0m\u001b[32m\\nAwake, Neo. Rise and fulfill your destiny.\\n\\nSuddenly, a surge of electricity fills the room, crackling and sparking. Neo's body jolts, and his eyes snap open. He sits up, gasping for air.\\n\\nNEO\\n\u001b[0m\u001b[32m(\u001b[0m\u001b[32mconfused\u001b[0m\u001b[32m)\u001b[0m\u001b[32m\\nWhat... what happened?\\n\\nMorpheus and Trinity rush to Neo's side, relief washing over their faces.\\n\\nMORPHEUS\\n\u001b[0m\u001b[32m(\u001b[0m\u001b[32mgrinning\u001b[0m\u001b[32m)\u001b[0m\u001b[32m\\nYou did it, Neo. You've transcended death. You are the One.\\n\\nNeo glances around, finally seeing his surroundings for what they truly are - the real world, stripped of the Matrix's illusions.\\n\\nNEO\\n\u001b[0m\u001b[32m(\u001b[0m\u001b[32mwhispering\u001b[0m\u001b[32m)\u001b[0m\u001b[32m\\nI can't believe it. I'm free.\\n\\nAgent Smith's mocking laughter echoes through the room, but Neo remains unfazed. He stands up, a newfound determination burning in his eyes.\\n\\nNEO\\n\u001b[0m\u001b[32m(\u001b[0m\u001b[32mto Morpheus\u001b[0m\u001b[32m)\u001b[0m\u001b[32m\\nI'm ready. Ready to fight. Ready to save humanity.\\n\\nMorpheus nods, his own resolve matching Neo's.\\n\\nMORPHEUS\\n\u001b[0m\u001b[32m(\u001b[0m\u001b[32msincerely\u001b[0m\u001b[32m)\u001b[0m\u001b[32m\\nWelcome to the real world, Neo. We've been waiting for you.\\n\\nAs Neo and Morpheus exchange determined looks, the other rebels prepare for battle, ready to face the machines and reclaim their freedom.\\n\\nFADE OUT.\"\u001b[0m\n",
       "\u001b[1m]\u001b[0m"
      ]
     },
     "execution_count": 14,
     "metadata": {},
     "output_type": "execute_result"
    }
   ],
   "source": [
    "script = write_script(story)\n",
    "script"
   ]
  },
  {
   "cell_type": "code",
   "execution_count": null,
   "metadata": {},
   "outputs": [],
   "source": [
    "def create_story(logline: str) -> Story:\n",
    "    story = Story(logline=logline)\n",
    "    story.title = write_title(story)\n",
    "    story.characters = create_characters(story)\n",
    "    story.outline = write_beats(story)\n",
    "    story.locations = extract_locations(story)\n",
    "    return story"
   ]
  },
  {
   "cell_type": "code",
   "execution_count": null,
   "metadata": {},
   "outputs": [],
   "source": [
    "uncut_gems = create_story(\n",
    "    '''\n",
    "    A charismatic jeweler makes a high-stakes bet that could lead to the windfall of a lifetime.\n",
    "    '''\n",
    ")\n",
    "\n",
    "uncut_gems"
   ]
  }
 ],
 "metadata": {
  "kernelspec": {
   "display_name": "Python 3",
   "language": "python",
   "name": "python3"
  },
  "language_info": {
   "codemirror_mode": {
    "name": "ipython",
    "version": 3
   },
   "file_extension": ".py",
   "mimetype": "text/x-python",
   "name": "python",
   "nbconvert_exporter": "python",
   "pygments_lexer": "ipython3",
   "version": "3.10.12"
  },
  "orig_nbformat": 4
 },
 "nbformat": 4,
 "nbformat_minor": 2
}
