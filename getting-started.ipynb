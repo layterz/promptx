{
 "cells": [
  {
   "cell_type": "markdown",
   "metadata": {},
   "source": [
    "# promptx\n",
    "\n",
    "A framework for building AI systems.\n",
    "\n",
    "```bash\n",
    "pip install pxx\n",
    "```"
   ]
  },
  {
   "cell_type": "markdown",
   "metadata": {},
   "source": [
    "First, we need to create a project, which defines the embedding database that's being used.\n",
    "\n",
    "```bash\n",
    "px init .\n",
    "```\n",
    "\n",
    "*This will create a project in the current directory. Replace `.` with a path to create a project in a different directory.*\n",
    "\n",
    "A project is defined by a hidden `.px/` directory that `promptx` uses to store data and discover the project."
   ]
  },
  {
   "cell_type": "code",
   "execution_count": 1,
   "metadata": {},
   "outputs": [
    {
     "data": {
      "text/html": [
       "<pre style=\"white-space:pre;overflow-x:auto;line-height:normal;font-family:Menlo,'DejaVu Sans Mono',consolas,'Courier New',monospace\"></pre>\n"
      ],
      "text/plain": []
     },
     "metadata": {},
     "output_type": "display_data"
    },
    {
     "data": {
      "text/plain": [
       "\u001b[1m<\u001b[0m\u001b[1;95mApp\u001b[0m\u001b[39m local \u001b[0m\u001b[33mpath\u001b[0m\u001b[39m=\u001b[0m\u001b[35m/home/rjl/\u001b[0m\u001b[95mpromptx\u001b[0m\u001b[1m>\u001b[0m"
      ]
     },
     "execution_count": 1,
     "metadata": {},
     "output_type": "execute_result"
    }
   ],
   "source": [
    "from promptx import load\n",
    "\n",
    "load()"
   ]
  },
  {
   "cell_type": "markdown",
   "metadata": {},
   "source": [
    "Now that promptx is loaded, we can call `prompt` to access the default model. See [configuration]() below for details on how to change this and other settings."
   ]
  },
  {
   "cell_type": "code",
   "execution_count": 2,
   "metadata": {},
   "outputs": [
    {
     "data": {
      "text/html": [
       "<pre style=\"white-space:pre;overflow-x:auto;line-height:normal;font-family:Menlo,'DejaVu Sans Mono',consolas,'Courier New',monospace\"></pre>\n"
      ],
      "text/plain": []
     },
     "metadata": {},
     "output_type": "display_data"
    },
    {
     "data": {
      "text/plain": [
       "\u001b[32m'Name: Batman\\nOccupation: Superhero/Vigilante\\nAlias: The Dark Knight, The Caped Crusader\\nReal Name: Bruce Wayne\\nAge: Late 30s to early 40s\\nHeight: 6\\'2\"\\nWeight: 210 lbs\\nEthnicity: Caucasian\\nNationality: American\\nPlace of Birth: Gotham City\\nParents: Thomas and Martha Wayne \u001b[0m\u001b[32m(\u001b[0m\u001b[32mdeceased\u001b[0m\u001b[32m)\u001b[0m\u001b[32m\\nAffiliations: Justice League, Bat-Family, Gotham City Police Department \u001b[0m\u001b[32m(\u001b[0m\u001b[32munofficially\u001b[0m\u001b[32m)\u001b[0m\u001b[32m\\nSkills/Abilities: Exceptionally skilled detective, master martial artist and hand-to-hand combatant, peak human physical condition, proficient in various forms of weaponry and gadgets, expert in stealth and espionage, genius-level intellect and deductive reasoning\\nCostume: Black bat-themed bodysuit, utility belt with various gadgets, protective body armor, cape with bat-like wingspan\\nVehicle: Batmobile, Batcycle, Batplane\\nWeaknesses: Lack of superhuman abilities, emotional instability, obsession with justice, secretive and constantly pushing limits\\nPersonality: Serious, brooding, and driven. Obsessed with fighting crime and protecting Gotham City. Shows a strong sense of justice and a desire to avenge his parents\\' deaths. Can be distant and untrusting, but fiercely loyal to those he considers allies. Has a complex and conflicted relationship with his alter ego, Bruce Wayne, and struggles to balance his dual identities.\\nBackground: Bruce Wayne, the billionaire orphan of Gotham City, witnessed the murder of his parents as a child. Driven by a desire to rid the city of crime and corruption, he trained himself both physically and mentally to become the ultimate crime-fighting vigilante – Batman. Using his immense wealth and advanced technology, Batman works in the shadows to bring justice to Gotham City and protect its citizens from the dangerous criminals that plague the city\\'s streets. Despite his dark and brooding nature, Batman is a symbol of hope and inspiration, striving to make Gotham a safer place for all.'\u001b[0m"
      ]
     },
     "execution_count": 2,
     "metadata": {},
     "output_type": "execute_result"
    }
   ],
   "source": [
    "from promptx import prompt\n",
    "\n",
    "character = 'Batman'\n",
    "prompt(f'Write a character profile for {character}')"
   ]
  },
  {
   "cell_type": "markdown",
   "metadata": {},
   "source": [
    "By default, this returns a plain string response, but to generate complex data you can pass in the expected schema along with the prompt input.\n",
    "\n",
    "*Note: `Entity` is a thin layer on top of `pydantic.BaseModel` that allows the object to be stored as an embedding. You can use `pydantic.BaseModel` directly if you don't need to store the object as an embedding and just want to use it as the prompt output schema.*"
   ]
  },
  {
   "cell_type": "code",
   "execution_count": 3,
   "metadata": {},
   "outputs": [
    {
     "name": "stderr",
     "output_type": "stream",
     "text": [
      "/home/rjl/promptx/venv/lib/python3.10/site-packages/pydantic/json_schema.py:2075: PydanticJsonSchemaWarning: Default value (FieldInfo(annotation=NoneType, required=True, json_schema_extra={'embed': False}),) is not JSON serializable; excluding default from JSON schema [non-serializable-default]\n",
      "  warnings.warn(message, PydanticJsonSchemaWarning)\n"
     ]
    },
    {
     "data": {
      "text/html": [
       "<pre style=\"white-space:pre;overflow-x:auto;line-height:normal;font-family:Menlo,'DejaVu Sans Mono',consolas,'Courier New',monospace\"></pre>\n"
      ],
      "text/plain": []
     },
     "metadata": {},
     "output_type": "display_data"
    },
    {
     "data": {
      "text/plain": [
       "\n",
       "\u001b[1;35mCharacter\u001b[0m\u001b[1m(\u001b[0m\n",
       "    \u001b[33mid\u001b[0m=\u001b[32m'dd740305-737a-4bde-8596-3525490d2f6f'\u001b[0m,\n",
       "    \u001b[33mtype\u001b[0m=\u001b[32m'character'\u001b[0m,\n",
       "    \u001b[33mname\u001b[0m=\u001b[32m'Bruce Wayne'\u001b[0m,\n",
       "    \u001b[33mdescription\u001b[0m=\u001b[32m'Batman is a superhero who operates in Gotham City. He is known for his detective skills, martial arts training, and use of high-tech gadgets to fight crime. Bruce Wayne, his alter ego, is a billionaire philanthropist and the owner of Wayne Enterprises.'\u001b[0m,\n",
       "    \u001b[33mage\u001b[0m=\u001b[1;36m35\u001b[0m\n",
       "\u001b[1m)\u001b[0m"
      ]
     },
     "execution_count": 3,
     "metadata": {},
     "output_type": "execute_result"
    }
   ],
   "source": [
    "from pydantic import Field\n",
    "from promptx.collection import Entity\n",
    "\n",
    "class Character(Entity):\n",
    "    name: str = Field(..., embed=False),\n",
    "    description: str = Field(..., description='Describe the character in a few sentences')\n",
    "    age: int = Field(..., ge=0, le=120)\n",
    "\n",
    "batman = prompt('Generate a character profile for Batman', output=Character)\n",
    "batman"
   ]
  },
  {
   "cell_type": "markdown",
   "metadata": {},
   "source": [
    "This returns an instance of the specified schema using the generated response as the input data. Let's create a list of instead."
   ]
  },
  {
   "cell_type": "code",
   "execution_count": 4,
   "metadata": {},
   "outputs": [
    {
     "name": "stderr",
     "output_type": "stream",
     "text": [
      "/home/rjl/promptx/venv/lib/python3.10/site-packages/pydantic/json_schema.py:2075: PydanticJsonSchemaWarning: Default value (FieldInfo(annotation=NoneType, required=True, json_schema_extra={'embed': False}),) is not JSON serializable; excluding default from JSON schema [non-serializable-default]\n",
      "  warnings.warn(message, PydanticJsonSchemaWarning)\n"
     ]
    },
    {
     "data": {
      "text/html": [
       "<pre style=\"white-space:pre;overflow-x:auto;line-height:normal;font-family:Menlo,'DejaVu Sans Mono',consolas,'Courier New',monospace\"></pre>\n"
      ],
      "text/plain": []
     },
     "metadata": {},
     "output_type": "display_data"
    },
    {
     "data": {
      "text/html": [
       "<div>\n",
       "<style scoped>\n",
       "    .dataframe tbody tr th:only-of-type {\n",
       "        vertical-align: middle;\n",
       "    }\n",
       "\n",
       "    .dataframe tbody tr th {\n",
       "        vertical-align: top;\n",
       "    }\n",
       "\n",
       "    .dataframe thead th {\n",
       "        text-align: right;\n",
       "    }\n",
       "</style>\n",
       "<table border=\"1\" class=\"dataframe\">\n",
       "  <thead>\n",
       "    <tr style=\"text-align: right;\">\n",
       "      <th></th>\n",
       "      <th>id</th>\n",
       "      <th>type</th>\n",
       "      <th>name</th>\n",
       "      <th>description</th>\n",
       "      <th>age</th>\n",
       "    </tr>\n",
       "  </thead>\n",
       "  <tbody>\n",
       "    <tr>\n",
       "      <th>0</th>\n",
       "      <td>7ec67bd1-0626-4293-ab0a-509cee7f5b66</td>\n",
       "      <td>character</td>\n",
       "      <td>Batman</td>\n",
       "      <td>Bruce Wayne is a billionaire philanthropist by...</td>\n",
       "      <td>35</td>\n",
       "    </tr>\n",
       "    <tr>\n",
       "      <th>1</th>\n",
       "      <td>7d7e53e6-f1dd-4f0a-bda7-6533ba385960</td>\n",
       "      <td>character</td>\n",
       "      <td>Joker</td>\n",
       "      <td>The Joker is a deranged and unpredictable crim...</td>\n",
       "      <td>40</td>\n",
       "    </tr>\n",
       "    <tr>\n",
       "      <th>2</th>\n",
       "      <td>45157783-7006-476e-a492-2f6881d2410d</td>\n",
       "      <td>character</td>\n",
       "      <td>Catwoman</td>\n",
       "      <td>Selina Kyle is a skilled thief with a complica...</td>\n",
       "      <td>30</td>\n",
       "    </tr>\n",
       "  </tbody>\n",
       "</table>\n",
       "</div>"
      ],
      "text/plain": [
       "\n",
       "                                     id       type      name  \\\n",
       "\u001b[1;36m0\u001b[0m  \u001b[93m7ec67bd1-0626-4293-ab0a-509cee7f5b66\u001b[0m  character    Batman   \n",
       "\u001b[1;36m1\u001b[0m  \u001b[93m7d7e53e6-f1dd-4f0a-bda7-6533ba385960\u001b[0m  character     Joker   \n",
       "\u001b[1;36m2\u001b[0m  \u001b[93m45157783-7006-476e-a492-2f6881d2410d\u001b[0m  character  Catwoman   \n",
       "\n",
       "                                         description  age  \n",
       "\u001b[1;36m0\u001b[0m  Bruce Wayne is a billionaire philanthropist by\u001b[33m...\u001b[0m   \u001b[1;36m35\u001b[0m  \n",
       "\u001b[1;36m1\u001b[0m  The Joker is a deranged and unpredictable crim\u001b[33m...\u001b[0m   \u001b[1;36m40\u001b[0m  \n",
       "\u001b[1;36m2\u001b[0m  Selina Kyle is a skilled thief with a complica\u001b[33m...\u001b[0m   \u001b[1;36m30\u001b[0m  "
      ]
     },
     "execution_count": 4,
     "metadata": {},
     "output_type": "execute_result"
    }
   ],
   "source": [
    "characters = prompt(\n",
    "    'Generate some characters from the Batman universe',\n",
    "    output=[Character],\n",
    ")\n",
    "\n",
    "characters"
   ]
  },
  {
   "cell_type": "markdown",
   "metadata": {},
   "source": [
    "If the output is a list, `prompt` returns a `Collection`, which extends `pd.DataFrame`. To extract the `Entity` representations, use the `objects` property.\n",
    "\n",
    "We can now store these generated objects as embeddings in a collection."
   ]
  },
  {
   "cell_type": "code",
   "execution_count": 5,
   "metadata": {},
   "outputs": [],
   "source": [
    "from promptx import store\n",
    "\n",
    "store(*characters.objects)"
   ]
  },
  {
   "cell_type": "markdown",
   "metadata": {},
   "source": [
    "This stores the object as an embedding, along with some metadata, in a vector database (ChromaDB by default). The process is quite simple, it embeds the whole object as a JSON string and each field individually. This allows us to query the database using any field in the object."
   ]
  },
  {
   "cell_type": "code",
   "execution_count": 6,
   "metadata": {},
   "outputs": [
    {
     "data": {
      "text/html": [
       "<pre style=\"white-space:pre;overflow-x:auto;line-height:normal;font-family:Menlo,'DejaVu Sans Mono',consolas,'Courier New',monospace\"></pre>\n"
      ],
      "text/plain": []
     },
     "metadata": {},
     "output_type": "display_data"
    },
    {
     "data": {
      "text/html": [
       "<div>\n",
       "<style scoped>\n",
       "    .dataframe tbody tr th:only-of-type {\n",
       "        vertical-align: middle;\n",
       "    }\n",
       "\n",
       "    .dataframe tbody tr th {\n",
       "        vertical-align: top;\n",
       "    }\n",
       "\n",
       "    .dataframe thead th {\n",
       "        text-align: right;\n",
       "    }\n",
       "</style>\n",
       "<table border=\"1\" class=\"dataframe\">\n",
       "  <thead>\n",
       "    <tr style=\"text-align: right;\">\n",
       "      <th></th>\n",
       "      <th>id</th>\n",
       "      <th>type</th>\n",
       "      <th>name</th>\n",
       "      <th>description</th>\n",
       "      <th>age</th>\n",
       "    </tr>\n",
       "  </thead>\n",
       "  <tbody>\n",
       "    <tr>\n",
       "      <th>0</th>\n",
       "      <td>7ec67bd1-0626-4293-ab0a-509cee7f5b66</td>\n",
       "      <td>character</td>\n",
       "      <td>Batman</td>\n",
       "      <td>Bruce Wayne is a billionaire philanthropist by...</td>\n",
       "      <td>35</td>\n",
       "    </tr>\n",
       "    <tr>\n",
       "      <th>1</th>\n",
       "      <td>7d7e53e6-f1dd-4f0a-bda7-6533ba385960</td>\n",
       "      <td>character</td>\n",
       "      <td>Joker</td>\n",
       "      <td>The Joker is a deranged and unpredictable crim...</td>\n",
       "      <td>40</td>\n",
       "    </tr>\n",
       "    <tr>\n",
       "      <th>2</th>\n",
       "      <td>45157783-7006-476e-a492-2f6881d2410d</td>\n",
       "      <td>character</td>\n",
       "      <td>Catwoman</td>\n",
       "      <td>Selina Kyle is a skilled thief with a complica...</td>\n",
       "      <td>30</td>\n",
       "    </tr>\n",
       "  </tbody>\n",
       "</table>\n",
       "</div>"
      ],
      "text/plain": [
       "\n",
       "                                     id       type      name  \\\n",
       "\u001b[1;36m0\u001b[0m  \u001b[93m7ec67bd1-0626-4293-ab0a-509cee7f5b66\u001b[0m  character    Batman   \n",
       "\u001b[1;36m1\u001b[0m  \u001b[93m7d7e53e6-f1dd-4f0a-bda7-6533ba385960\u001b[0m  character     Joker   \n",
       "\u001b[1;36m2\u001b[0m  \u001b[93m45157783-7006-476e-a492-2f6881d2410d\u001b[0m  character  Catwoman   \n",
       "\n",
       "                                         description  age  \n",
       "\u001b[1;36m0\u001b[0m  Bruce Wayne is a billionaire philanthropist by\u001b[33m...\u001b[0m   \u001b[1;36m35\u001b[0m  \n",
       "\u001b[1;36m1\u001b[0m  The Joker is a deranged and unpredictable crim\u001b[33m...\u001b[0m   \u001b[1;36m40\u001b[0m  \n",
       "\u001b[1;36m2\u001b[0m  Selina Kyle is a skilled thief with a complica\u001b[33m...\u001b[0m   \u001b[1;36m30\u001b[0m  "
      ]
     },
     "execution_count": 6,
     "metadata": {},
     "output_type": "execute_result"
    }
   ],
   "source": [
    "from promptx import query\n",
    "\n",
    "query()"
   ]
  },
  {
   "cell_type": "markdown",
   "metadata": {},
   "source": [
    "Now let's generate some more characters and add them to the collection. We'll first get any existing characters and extract their names, which we can pass to the prompt to avoid generating duplicates. Any characters generated will be added the list during iteration. Finally, we'll store all the generated characters in the collection."
   ]
  },
  {
   "cell_type": "code",
   "execution_count": 7,
   "metadata": {},
   "outputs": [
    {
     "name": "stderr",
     "output_type": "stream",
     "text": [
      "/home/rjl/promptx/venv/lib/python3.10/site-packages/pydantic/json_schema.py:2075: PydanticJsonSchemaWarning: Default value (FieldInfo(annotation=NoneType, required=True, json_schema_extra={'embed': False}),) is not JSON serializable; excluding default from JSON schema [non-serializable-default]\n",
      "  warnings.warn(message, PydanticJsonSchemaWarning)\n",
      "/home/rjl/promptx/venv/lib/python3.10/site-packages/pydantic/json_schema.py:2075: PydanticJsonSchemaWarning: Default value (FieldInfo(annotation=NoneType, required=True, json_schema_extra={'embed': False}),) is not JSON serializable; excluding default from JSON schema [non-serializable-default]\n",
      "  warnings.warn(message, PydanticJsonSchemaWarning)\n",
      "/home/rjl/promptx/venv/lib/python3.10/site-packages/pydantic/json_schema.py:2075: PydanticJsonSchemaWarning: Default value (FieldInfo(annotation=NoneType, required=True, json_schema_extra={'embed': False}),) is not JSON serializable; excluding default from JSON schema [non-serializable-default]\n",
      "  warnings.warn(message, PydanticJsonSchemaWarning)\n"
     ]
    },
    {
     "data": {
      "text/html": [
       "<pre style=\"white-space:pre;overflow-x:auto;line-height:normal;font-family:Menlo,'DejaVu Sans Mono',consolas,'Courier New',monospace\"></pre>\n"
      ],
      "text/plain": []
     },
     "metadata": {},
     "output_type": "display_data"
    },
    {
     "data": {
      "text/html": [
       "<div>\n",
       "<style scoped>\n",
       "    .dataframe tbody tr th:only-of-type {\n",
       "        vertical-align: middle;\n",
       "    }\n",
       "\n",
       "    .dataframe tbody tr th {\n",
       "        vertical-align: top;\n",
       "    }\n",
       "\n",
       "    .dataframe thead th {\n",
       "        text-align: right;\n",
       "    }\n",
       "</style>\n",
       "<table border=\"1\" class=\"dataframe\">\n",
       "  <thead>\n",
       "    <tr style=\"text-align: right;\">\n",
       "      <th></th>\n",
       "      <th>id</th>\n",
       "      <th>type</th>\n",
       "      <th>name</th>\n",
       "      <th>description</th>\n",
       "      <th>age</th>\n",
       "    </tr>\n",
       "  </thead>\n",
       "  <tbody>\n",
       "    <tr>\n",
       "      <th>0</th>\n",
       "      <td>7ec67bd1-0626-4293-ab0a-509cee7f5b66</td>\n",
       "      <td>character</td>\n",
       "      <td>Batman</td>\n",
       "      <td>Bruce Wayne is a billionaire philanthropist by...</td>\n",
       "      <td>35</td>\n",
       "    </tr>\n",
       "    <tr>\n",
       "      <th>1</th>\n",
       "      <td>7d7e53e6-f1dd-4f0a-bda7-6533ba385960</td>\n",
       "      <td>character</td>\n",
       "      <td>Joker</td>\n",
       "      <td>The Joker is a deranged and unpredictable crim...</td>\n",
       "      <td>40</td>\n",
       "    </tr>\n",
       "    <tr>\n",
       "      <th>2</th>\n",
       "      <td>45157783-7006-476e-a492-2f6881d2410d</td>\n",
       "      <td>character</td>\n",
       "      <td>Catwoman</td>\n",
       "      <td>Selina Kyle is a skilled thief with a complica...</td>\n",
       "      <td>30</td>\n",
       "    </tr>\n",
       "    <tr>\n",
       "      <th>3</th>\n",
       "      <td>2ad9eb88-406a-4d55-8e19-a5cb0dc7035f</td>\n",
       "      <td>character</td>\n",
       "      <td>Nightshade</td>\n",
       "      <td>Nightshade is a highly skilled acrobat and thi...</td>\n",
       "      <td>28</td>\n",
       "    </tr>\n",
       "    <tr>\n",
       "      <th>4</th>\n",
       "      <td>63472046-2be4-40a0-a4b0-ba918e5a7ad4</td>\n",
       "      <td>character</td>\n",
       "      <td>Shadowstrike</td>\n",
       "      <td>Shadowstrike is a master of stealth and weapon...</td>\n",
       "      <td>33</td>\n",
       "    </tr>\n",
       "    <tr>\n",
       "      <th>5</th>\n",
       "      <td>97fd9c56-9531-4444-b7d6-246070b98405</td>\n",
       "      <td>character</td>\n",
       "      <td>Twilight</td>\n",
       "      <td>Twilight is a vigilante who fights for justice...</td>\n",
       "      <td>25</td>\n",
       "    </tr>\n",
       "    <tr>\n",
       "      <th>6</th>\n",
       "      <td>b40dfcbf-107e-4867-adad-1de2c1260fef</td>\n",
       "      <td>character</td>\n",
       "      <td>Gotham Girl</td>\n",
       "      <td>Gotham Girl is a young superhuman who gained h...</td>\n",
       "      <td>18</td>\n",
       "    </tr>\n",
       "    <tr>\n",
       "      <th>7</th>\n",
       "      <td>97c965d9-2669-49c1-8817-1ab53f1f97ff</td>\n",
       "      <td>character</td>\n",
       "      <td>Midnight</td>\n",
       "      <td>Midnight is a master of stealth and prefers to...</td>\n",
       "      <td>28</td>\n",
       "    </tr>\n",
       "    <tr>\n",
       "      <th>8</th>\n",
       "      <td>16c569fe-18ee-4b18-8c86-428c05cfbd2d</td>\n",
       "      <td>character</td>\n",
       "      <td>Raven</td>\n",
       "      <td>Raven is a sorceress who possesses the ability...</td>\n",
       "      <td>25</td>\n",
       "    </tr>\n",
       "    <tr>\n",
       "      <th>9</th>\n",
       "      <td>dc555573-05f5-4aae-babe-16ece0c401f8</td>\n",
       "      <td>character</td>\n",
       "      <td>Harbinger</td>\n",
       "      <td>Harbinger is a mysterious and enigmatic vigila...</td>\n",
       "      <td>35</td>\n",
       "    </tr>\n",
       "    <tr>\n",
       "      <th>10</th>\n",
       "      <td>c8945846-4cf0-4e6f-ab25-82ec8fbdb8c8</td>\n",
       "      <td>character</td>\n",
       "      <td>Silverwolf</td>\n",
       "      <td>Silverwolf is a skilled martial artist with a ...</td>\n",
       "      <td>28</td>\n",
       "    </tr>\n",
       "    <tr>\n",
       "      <th>11</th>\n",
       "      <td>56e0004f-a656-41fb-902a-9b46522c4e23</td>\n",
       "      <td>character</td>\n",
       "      <td>Luna</td>\n",
       "      <td>Luna is a master of illusions and deception. S...</td>\n",
       "      <td>27</td>\n",
       "    </tr>\n",
       "  </tbody>\n",
       "</table>\n",
       "</div>"
      ],
      "text/plain": [
       "\n",
       "                                      id       type          name  \\\n",
       "\u001b[1;36m0\u001b[0m   \u001b[93m7ec67bd1-0626-4293-ab0a-509cee7f5b66\u001b[0m  character        Batman   \n",
       "\u001b[1;36m1\u001b[0m   \u001b[93m7d7e53e6-f1dd-4f0a-bda7-6533ba385960\u001b[0m  character         Joker   \n",
       "\u001b[1;36m2\u001b[0m   \u001b[93m45157783-7006-476e-a492-2f6881d2410d\u001b[0m  character      Catwoman   \n",
       "\u001b[1;36m3\u001b[0m   \u001b[93m2ad9eb88-406a-4d55-8e19-a5cb0dc7035f\u001b[0m  character    Nightshade   \n",
       "\u001b[1;36m4\u001b[0m   \u001b[93m63472046-2be4-40a0-a4b0-ba918e5a7ad4\u001b[0m  character  Shadowstrike   \n",
       "\u001b[1;36m5\u001b[0m   \u001b[93m97fd9c56-9531-4444-b7d6-246070b98405\u001b[0m  character      Twilight   \n",
       "\u001b[1;36m6\u001b[0m   \u001b[93mb40dfcbf-107e-4867-adad-1de2c1260fef\u001b[0m  character   Gotham Girl   \n",
       "\u001b[1;36m7\u001b[0m   \u001b[93m97c965d9-2669-49c1-8817-1ab53f1f97ff\u001b[0m  character      Midnight   \n",
       "\u001b[1;36m8\u001b[0m   \u001b[93m16c569fe-18ee-4b18-8c86-428c05cfbd2d\u001b[0m  character         Raven   \n",
       "\u001b[1;36m9\u001b[0m   \u001b[93mdc555573-05f5-4aae-babe-16ece0c401f8\u001b[0m  character     Harbinger   \n",
       "\u001b[1;36m10\u001b[0m  \u001b[93mc8945846-4cf0-4e6f-ab25-82ec8fbdb8c8\u001b[0m  character    Silverwolf   \n",
       "\u001b[1;36m11\u001b[0m  \u001b[93m56e0004f-a656-41fb-902a-9b46522c4e23\u001b[0m  character          Luna   \n",
       "\n",
       "                                          description  age  \n",
       "\u001b[1;36m0\u001b[0m   Bruce Wayne is a billionaire philanthropist by\u001b[33m...\u001b[0m   \u001b[1;36m35\u001b[0m  \n",
       "\u001b[1;36m1\u001b[0m   The Joker is a deranged and unpredictable crim\u001b[33m...\u001b[0m   \u001b[1;36m40\u001b[0m  \n",
       "\u001b[1;36m2\u001b[0m   Selina Kyle is a skilled thief with a complica\u001b[33m...\u001b[0m   \u001b[1;36m30\u001b[0m  \n",
       "\u001b[1;36m3\u001b[0m   Nightshade is a highly skilled acrobat and thi\u001b[33m...\u001b[0m   \u001b[1;36m28\u001b[0m  \n",
       "\u001b[1;36m4\u001b[0m   Shadowstrike is a master of stealth and weapon\u001b[33m...\u001b[0m   \u001b[1;36m33\u001b[0m  \n",
       "\u001b[1;36m5\u001b[0m   Twilight is a vigilante who fights for justice\u001b[33m...\u001b[0m   \u001b[1;36m25\u001b[0m  \n",
       "\u001b[1;36m6\u001b[0m   Gotham Girl is a young superhuman who gained h\u001b[33m...\u001b[0m   \u001b[1;36m18\u001b[0m  \n",
       "\u001b[1;36m7\u001b[0m   Midnight is a master of stealth and prefers to\u001b[33m...\u001b[0m   \u001b[1;36m28\u001b[0m  \n",
       "\u001b[1;36m8\u001b[0m   Raven is a sorceress who possesses the ability\u001b[33m...\u001b[0m   \u001b[1;36m25\u001b[0m  \n",
       "\u001b[1;36m9\u001b[0m   Harbinger is a mysterious and enigmatic vigila\u001b[33m...\u001b[0m   \u001b[1;36m35\u001b[0m  \n",
       "\u001b[1;36m10\u001b[0m  Silverwolf is a skilled martial artist with a \u001b[33m...\u001b[0m   \u001b[1;36m28\u001b[0m  \n",
       "\u001b[1;36m11\u001b[0m  Luna is a master of illusions and deception. S\u001b[33m...\u001b[0m   \u001b[1;36m27\u001b[0m  "
      ]
     },
     "execution_count": 7,
     "metadata": {},
     "output_type": "execute_result"
    }
   ],
   "source": [
    "n = 3\n",
    "characters = query().objects\n",
    "\n",
    "for _ in range(n):\n",
    "    characters += prompt(\n",
    "        '''\n",
    "        Generate a list of new characters from the Batman universe.\n",
    "        Don't use any of the existing characters.\n",
    "        ''',\n",
    "        input = {\n",
    "            'existing_characters': [c.name for c in characters],\n",
    "        },\n",
    "        output=[Character],\n",
    "    ).objects\n",
    "\n",
    "store(*characters)\n",
    "query()"
   ]
  },
  {
   "cell_type": "markdown",
   "metadata": {},
   "source": [
    "Now that the characters are embedded, we can query the collection."
   ]
  },
  {
   "cell_type": "code",
   "execution_count": 8,
   "metadata": {},
   "outputs": [
    {
     "data": {
      "text/html": [
       "<pre style=\"white-space:pre;overflow-x:auto;line-height:normal;font-family:Menlo,'DejaVu Sans Mono',consolas,'Courier New',monospace\"></pre>\n"
      ],
      "text/plain": []
     },
     "metadata": {},
     "output_type": "display_data"
    },
    {
     "data": {
      "text/html": [
       "<div>\n",
       "<style scoped>\n",
       "    .dataframe tbody tr th:only-of-type {\n",
       "        vertical-align: middle;\n",
       "    }\n",
       "\n",
       "    .dataframe tbody tr th {\n",
       "        vertical-align: top;\n",
       "    }\n",
       "\n",
       "    .dataframe thead th {\n",
       "        text-align: right;\n",
       "    }\n",
       "</style>\n",
       "<table border=\"1\" class=\"dataframe\">\n",
       "  <thead>\n",
       "    <tr style=\"text-align: right;\">\n",
       "      <th></th>\n",
       "      <th>id</th>\n",
       "      <th>type</th>\n",
       "      <th>name</th>\n",
       "      <th>description</th>\n",
       "      <th>age</th>\n",
       "    </tr>\n",
       "  </thead>\n",
       "  <tbody>\n",
       "    <tr>\n",
       "      <th>0</th>\n",
       "      <td>c8945846-4cf0-4e6f-ab25-82ec8fbdb8c8</td>\n",
       "      <td>character</td>\n",
       "      <td>Silverwolf</td>\n",
       "      <td>Silverwolf is a skilled martial artist with a ...</td>\n",
       "      <td>28</td>\n",
       "    </tr>\n",
       "    <tr>\n",
       "      <th>1</th>\n",
       "      <td>7d7e53e6-f1dd-4f0a-bda7-6533ba385960</td>\n",
       "      <td>character</td>\n",
       "      <td>Joker</td>\n",
       "      <td>The Joker is a deranged and unpredictable crim...</td>\n",
       "      <td>40</td>\n",
       "    </tr>\n",
       "    <tr>\n",
       "      <th>2</th>\n",
       "      <td>63472046-2be4-40a0-a4b0-ba918e5a7ad4</td>\n",
       "      <td>character</td>\n",
       "      <td>Shadowstrike</td>\n",
       "      <td>Shadowstrike is a master of stealth and weapon...</td>\n",
       "      <td>33</td>\n",
       "    </tr>\n",
       "    <tr>\n",
       "      <th>3</th>\n",
       "      <td>97fd9c56-9531-4444-b7d6-246070b98405</td>\n",
       "      <td>character</td>\n",
       "      <td>Twilight</td>\n",
       "      <td>Twilight is a vigilante who fights for justice...</td>\n",
       "      <td>25</td>\n",
       "    </tr>\n",
       "    <tr>\n",
       "      <th>4</th>\n",
       "      <td>97c965d9-2669-49c1-8817-1ab53f1f97ff</td>\n",
       "      <td>character</td>\n",
       "      <td>Midnight</td>\n",
       "      <td>Midnight is a master of stealth and prefers to...</td>\n",
       "      <td>28</td>\n",
       "    </tr>\n",
       "    <tr>\n",
       "      <th>5</th>\n",
       "      <td>56e0004f-a656-41fb-902a-9b46522c4e23</td>\n",
       "      <td>character</td>\n",
       "      <td>Luna</td>\n",
       "      <td>Luna is a master of illusions and deception. S...</td>\n",
       "      <td>27</td>\n",
       "    </tr>\n",
       "  </tbody>\n",
       "</table>\n",
       "</div>"
      ],
      "text/plain": [
       "\n",
       "                                     id       type          name  \\\n",
       "\u001b[1;36m0\u001b[0m  \u001b[93mc8945846-4cf0-4e6f-ab25-82ec8fbdb8c8\u001b[0m  character    Silverwolf   \n",
       "\u001b[1;36m1\u001b[0m  \u001b[93m7d7e53e6-f1dd-4f0a-bda7-6533ba385960\u001b[0m  character         Joker   \n",
       "\u001b[1;36m2\u001b[0m  \u001b[93m63472046-2be4-40a0-a4b0-ba918e5a7ad4\u001b[0m  character  Shadowstrike   \n",
       "\u001b[1;36m3\u001b[0m  \u001b[93m97fd9c56-9531-4444-b7d6-246070b98405\u001b[0m  character      Twilight   \n",
       "\u001b[1;36m4\u001b[0m  \u001b[93m97c965d9-2669-49c1-8817-1ab53f1f97ff\u001b[0m  character      Midnight   \n",
       "\u001b[1;36m5\u001b[0m  \u001b[93m56e0004f-a656-41fb-902a-9b46522c4e23\u001b[0m  character          Luna   \n",
       "\n",
       "                                         description  age  \n",
       "\u001b[1;36m0\u001b[0m  Silverwolf is a skilled martial artist with a \u001b[33m...\u001b[0m   \u001b[1;36m28\u001b[0m  \n",
       "\u001b[1;36m1\u001b[0m  The Joker is a deranged and unpredictable crim\u001b[33m...\u001b[0m   \u001b[1;36m40\u001b[0m  \n",
       "\u001b[1;36m2\u001b[0m  Shadowstrike is a master of stealth and weapon\u001b[33m...\u001b[0m   \u001b[1;36m33\u001b[0m  \n",
       "\u001b[1;36m3\u001b[0m  Twilight is a vigilante who fights for justice\u001b[33m...\u001b[0m   \u001b[1;36m25\u001b[0m  \n",
       "\u001b[1;36m4\u001b[0m  Midnight is a master of stealth and prefers to\u001b[33m...\u001b[0m   \u001b[1;36m28\u001b[0m  \n",
       "\u001b[1;36m5\u001b[0m  Luna is a master of illusions and deception. S\u001b[33m...\u001b[0m   \u001b[1;36m27\u001b[0m  "
      ]
     },
     "execution_count": 8,
     "metadata": {},
     "output_type": "execute_result"
    }
   ],
   "source": [
    "villains = query('they are a villain')\n",
    "villains"
   ]
  },
  {
   "cell_type": "markdown",
   "metadata": {},
   "source": [
    "This compares the query text with the stored objects, returning results that are closest in vector space.\n",
    "\n",
    "*Note: the effectiveness of embedding queries will depend on what data has been embedded. In this case, ChatGPT will know some details about the generated characters and so does a decent job on this data. For other data, you may find generating synthetic intermediary data to be helpful. E.g. generating `thoughts` and/or `quotes` about a set of documents.*"
   ]
  },
  {
   "cell_type": "markdown",
   "metadata": {},
   "source": [
    "Because `Collection` extends `pd.DataFrame`, we can use all the usual Pandas methods to filter and sort the results."
   ]
  },
  {
   "cell_type": "code",
   "execution_count": 9,
   "metadata": {},
   "outputs": [
    {
     "data": {
      "text/html": [
       "<pre style=\"white-space:pre;overflow-x:auto;line-height:normal;font-family:Menlo,'DejaVu Sans Mono',consolas,'Courier New',monospace\"></pre>\n"
      ],
      "text/plain": []
     },
     "metadata": {},
     "output_type": "display_data"
    },
    {
     "data": {
      "text/html": [
       "<div>\n",
       "<style scoped>\n",
       "    .dataframe tbody tr th:only-of-type {\n",
       "        vertical-align: middle;\n",
       "    }\n",
       "\n",
       "    .dataframe tbody tr th {\n",
       "        vertical-align: top;\n",
       "    }\n",
       "\n",
       "    .dataframe thead th {\n",
       "        text-align: right;\n",
       "    }\n",
       "</style>\n",
       "<table border=\"1\" class=\"dataframe\">\n",
       "  <thead>\n",
       "    <tr style=\"text-align: right;\">\n",
       "      <th></th>\n",
       "      <th>id</th>\n",
       "      <th>type</th>\n",
       "      <th>name</th>\n",
       "      <th>description</th>\n",
       "      <th>age</th>\n",
       "    </tr>\n",
       "  </thead>\n",
       "  <tbody>\n",
       "    <tr>\n",
       "      <th>0</th>\n",
       "      <td>c8945846-4cf0-4e6f-ab25-82ec8fbdb8c8</td>\n",
       "      <td>character</td>\n",
       "      <td>Silverwolf</td>\n",
       "      <td>Silverwolf is a skilled martial artist with a ...</td>\n",
       "      <td>28</td>\n",
       "    </tr>\n",
       "    <tr>\n",
       "      <th>3</th>\n",
       "      <td>97fd9c56-9531-4444-b7d6-246070b98405</td>\n",
       "      <td>character</td>\n",
       "      <td>Twilight</td>\n",
       "      <td>Twilight is a vigilante who fights for justice...</td>\n",
       "      <td>25</td>\n",
       "    </tr>\n",
       "    <tr>\n",
       "      <th>4</th>\n",
       "      <td>97c965d9-2669-49c1-8817-1ab53f1f97ff</td>\n",
       "      <td>character</td>\n",
       "      <td>Midnight</td>\n",
       "      <td>Midnight is a master of stealth and prefers to...</td>\n",
       "      <td>28</td>\n",
       "    </tr>\n",
       "    <tr>\n",
       "      <th>5</th>\n",
       "      <td>56e0004f-a656-41fb-902a-9b46522c4e23</td>\n",
       "      <td>character</td>\n",
       "      <td>Luna</td>\n",
       "      <td>Luna is a master of illusions and deception. S...</td>\n",
       "      <td>27</td>\n",
       "    </tr>\n",
       "  </tbody>\n",
       "</table>\n",
       "</div>"
      ],
      "text/plain": [
       "\n",
       "                                     id       type        name  \\\n",
       "\u001b[1;36m0\u001b[0m  \u001b[93mc8945846-4cf0-4e6f-ab25-82ec8fbdb8c8\u001b[0m  character  Silverwolf   \n",
       "\u001b[1;36m3\u001b[0m  \u001b[93m97fd9c56-9531-4444-b7d6-246070b98405\u001b[0m  character    Twilight   \n",
       "\u001b[1;36m4\u001b[0m  \u001b[93m97c965d9-2669-49c1-8817-1ab53f1f97ff\u001b[0m  character    Midnight   \n",
       "\u001b[1;36m5\u001b[0m  \u001b[93m56e0004f-a656-41fb-902a-9b46522c4e23\u001b[0m  character        Luna   \n",
       "\n",
       "                                         description  age  \n",
       "\u001b[1;36m0\u001b[0m  Silverwolf is a skilled martial artist with a \u001b[33m...\u001b[0m   \u001b[1;36m28\u001b[0m  \n",
       "\u001b[1;36m3\u001b[0m  Twilight is a vigilante who fights for justice\u001b[33m...\u001b[0m   \u001b[1;36m25\u001b[0m  \n",
       "\u001b[1;36m4\u001b[0m  Midnight is a master of stealth and prefers to\u001b[33m...\u001b[0m   \u001b[1;36m28\u001b[0m  \n",
       "\u001b[1;36m5\u001b[0m  Luna is a master of illusions and deception. S\u001b[33m...\u001b[0m   \u001b[1;36m27\u001b[0m  "
      ]
     },
     "execution_count": 9,
     "metadata": {},
     "output_type": "execute_result"
    }
   ],
   "source": [
    "villains[villains.age < 30]"
   ]
  },
  {
   "cell_type": "markdown",
   "metadata": {},
   "source": [
    "Relationships can be defined by setting the field to a type which subclasses `Entity` (or a list of that type). Internally, this is stored as a query and then loaded when the field is accessed from the database."
   ]
  },
  {
   "cell_type": "code",
   "execution_count": 10,
   "metadata": {},
   "outputs": [
    {
     "name": "stderr",
     "output_type": "stream",
     "text": [
      "/home/rjl/promptx/venv/lib/python3.10/site-packages/pydantic/json_schema.py:2075: PydanticJsonSchemaWarning: Default value (FieldInfo(annotation=NoneType, required=True, json_schema_extra={'embed': False}),) is not JSON serializable; excluding default from JSON schema [non-serializable-default]\n",
      "  warnings.warn(message, PydanticJsonSchemaWarning)\n"
     ]
    },
    {
     "data": {
      "text/html": [
       "<pre style=\"white-space:pre;overflow-x:auto;line-height:normal;font-family:Menlo,'DejaVu Sans Mono',consolas,'Courier New',monospace\"></pre>\n"
      ],
      "text/plain": []
     },
     "metadata": {},
     "output_type": "display_data"
    },
    {
     "data": {
      "text/html": [
       "<div>\n",
       "<style scoped>\n",
       "    .dataframe tbody tr th:only-of-type {\n",
       "        vertical-align: middle;\n",
       "    }\n",
       "\n",
       "    .dataframe tbody tr th {\n",
       "        vertical-align: top;\n",
       "    }\n",
       "\n",
       "    .dataframe thead th {\n",
       "        text-align: right;\n",
       "    }\n",
       "</style>\n",
       "<table border=\"1\" class=\"dataframe\">\n",
       "  <thead>\n",
       "    <tr style=\"text-align: right;\">\n",
       "      <th></th>\n",
       "      <th>id</th>\n",
       "      <th>type</th>\n",
       "      <th>title</th>\n",
       "      <th>description</th>\n",
       "      <th>characters</th>\n",
       "    </tr>\n",
       "  </thead>\n",
       "  <tbody>\n",
       "    <tr>\n",
       "      <th>0</th>\n",
       "      <td>886bc464-7b4a-4e4e-b228-e3791c6d7f77</td>\n",
       "      <td>storyidea</td>\n",
       "      <td>The Revenge of Silverwolf</td>\n",
       "      <td>After years of training and honing his skills,...</td>\n",
       "      <td>[{'id': 'c8945846-4cf0-4e6f-ab25-82ec8fbdb8c8'...</td>\n",
       "    </tr>\n",
       "    <tr>\n",
       "      <th>1</th>\n",
       "      <td>63668f1a-8a1f-4d68-9926-7b6cb83147fb</td>\n",
       "      <td>storyidea</td>\n",
       "      <td>The Shadow's Game</td>\n",
       "      <td>Midnight finds herself caught in a deadly game...</td>\n",
       "      <td>[{'id': 'c8945846-4cf0-4e6f-ab25-82ec8fbdb8c8'...</td>\n",
       "    </tr>\n",
       "    <tr>\n",
       "      <th>2</th>\n",
       "      <td>cedc978b-463f-43e1-9898-690aada5b832</td>\n",
       "      <td>storyidea</td>\n",
       "      <td>The Illusionist's Gambit</td>\n",
       "      <td>Luna finds herself lured into a dangerous game...</td>\n",
       "      <td>[{'id': 'c8945846-4cf0-4e6f-ab25-82ec8fbdb8c8'...</td>\n",
       "    </tr>\n",
       "  </tbody>\n",
       "</table>\n",
       "</div>"
      ],
      "text/plain": [
       "\n",
       "                                     id       type                      title  \\\n",
       "\u001b[1;36m0\u001b[0m  \u001b[93m886bc464-7b4a-4e4e-b228-e3791c6d7f77\u001b[0m  storyidea  The Revenge of Silverwolf   \n",
       "\u001b[1;36m1\u001b[0m  \u001b[93m63668f1a-8a1f-4d68-9926-7b6cb83147fb\u001b[0m  storyidea          The Shadow's Game   \n",
       "\u001b[1;36m2\u001b[0m  \u001b[93mcedc978b-463f-43e1-9898-690aada5b832\u001b[0m  storyidea   The Illusionist's Gambit   \n",
       "\n",
       "                                         description  \\\n",
       "\u001b[1;36m0\u001b[0m  After years of training and honing his skills,\u001b[33m...\u001b[0m   \n",
       "\u001b[1;36m1\u001b[0m  Midnight finds herself caught in a deadly game\u001b[33m...\u001b[0m   \n",
       "\u001b[1;36m2\u001b[0m  Luna finds herself lured into a dangerous game\u001b[33m...\u001b[0m   \n",
       "\n",
       "                                          characters  \n",
       "\u001b[1;36m0\u001b[0m  \u001b[1m[\u001b[0m\u001b[1m{\u001b[0m\u001b[32m'id'\u001b[0m: \u001b[32m'c8945846-4cf0-4e6f-ab25-82ec8fbdb8c8'\u001b[0m\u001b[33m...\u001b[0m  \n",
       "\u001b[1;36m1\u001b[0m  \u001b[1m[\u001b[0m\u001b[1m{\u001b[0m\u001b[32m'id'\u001b[0m: \u001b[32m'c8945846-4cf0-4e6f-ab25-82ec8fbdb8c8'\u001b[0m\u001b[33m...\u001b[0m  \n",
       "\u001b[1;36m2\u001b[0m  \u001b[1m[\u001b[0m\u001b[1m{\u001b[0m\u001b[32m'id'\u001b[0m: \u001b[32m'c8945846-4cf0-4e6f-ab25-82ec8fbdb8c8'\u001b[0m\u001b[33m...\u001b[0m  "
      ]
     },
     "execution_count": 10,
     "metadata": {},
     "output_type": "execute_result"
    }
   ],
   "source": [
    "class StoryIdea(Entity):\n",
    "    title: str\n",
    "    description: str = None\n",
    "    characters: list[Character] = None\n",
    "\n",
    "characters = query('they are a villain').sample(3).objects\n",
    "\n",
    "ideas = prompt(\n",
    "    'Generate some story ideas',\n",
    "    input={\n",
    "        'characters': characters,\n",
    "    },\n",
    "    output=[StoryIdea],\n",
    ").objects\n",
    "\n",
    "for idea in ideas:\n",
    "    idea.characters = characters\n",
    "\n",
    "store(*ideas, collection='story-ideas')\n",
    "query(collection='story-ideas')"
   ]
  },
  {
   "cell_type": "markdown",
   "metadata": {},
   "source": [
    "Note that the output is being stored in a collection called `story-ideas`, which is created if it doesn't exist. Previously, all the data we've stored has been in the 'default' collection.\n",
    "\n",
    "*Collections are widely used internally to represent stored models, templates, prompt history, etc. This provides a consistent interface for accessing and manipulating data.*"
   ]
  },
  {
   "cell_type": "markdown",
   "metadata": {},
   "source": [
    "So far we've used the default model (GPT-3.5) when generating data, but you can specify a custom model using the `llm=` parameter."
   ]
  },
  {
   "cell_type": "code",
   "execution_count": 11,
   "metadata": {},
   "outputs": [
    {
     "name": "stderr",
     "output_type": "stream",
     "text": [
      "/home/rjl/promptx/venv/lib/python3.10/site-packages/pydantic/json_schema.py:2075: PydanticJsonSchemaWarning: Default value (FieldInfo(annotation=NoneType, required=True, json_schema_extra={'embed': False}),) is not JSON serializable; excluding default from JSON schema [non-serializable-default]\n",
      "  warnings.warn(message, PydanticJsonSchemaWarning)\n"
     ]
    }
   ],
   "source": [
    "from promptx.models.openai import ChatGPT\n",
    "\n",
    "gpt4 = ChatGPT(id='gpt4', model='gpt4')\n",
    "\n",
    "characters = prompt(\n",
    "    'Generate some characters from the Batman universe',\n",
    "    output=[Character],\n",
    "    llm=gpt4,\n",
    ")"
   ]
  },
  {
   "cell_type": "markdown",
   "metadata": {},
   "source": [
    "You can define any commonly used models, templates, etc, along with defining other settings, by creating a `config.py` file in the root of the project (i.e. adjacent to the `.px/` directory). This file is loaded when the project is initialized and a `setup` function is expected. Here's a simple example that defines a few custom models and a template.\n",
    "\n",
    "```\n",
    "# ./config.py\n",
    "\n",
    "from promptx.models.openai import ChatGPT\n",
    "\n",
    "gpt4 = ChatGPT(id='gpt4', model='gpt4')\n",
    "\n",
    "def setup(session):\n",
    "    session.store(gpt4, collection='models')\n",
    "```\n"
   ]
  }
 ],
 "metadata": {
  "kernelspec": {
   "display_name": "venv",
   "language": "python",
   "name": "python3"
  },
  "language_info": {
   "codemirror_mode": {
    "name": "ipython",
    "version": 3
   },
   "file_extension": ".py",
   "mimetype": "text/x-python",
   "name": "python",
   "nbconvert_exporter": "python",
   "pygments_lexer": "ipython3",
   "version": "3.10.12"
  }
 },
 "nbformat": 4,
 "nbformat_minor": 2
}
