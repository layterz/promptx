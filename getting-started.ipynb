{
 "cells": [
  {
   "cell_type": "markdown",
   "metadata": {},
   "source": [
    "# promptx\n",
    "\n",
    "A framework for building AI systems.\n",
    "\n",
    "```bash\n",
    "pip install pxx\n",
    "```"
   ]
  },
  {
   "cell_type": "code",
   "execution_count": 1,
   "metadata": {},
   "outputs": [
    {
     "name": "stdout",
     "output_type": "stream",
     "text": [
      "Autoloading promptx\n",
      "api_key sk-bcEdxXz\n",
      "org_id org-z6wQlc\n"
     ]
    },
    {
     "data": {
      "text/html": [
       "<pre style=\"white-space:pre;overflow-x:auto;line-height:normal;font-family:Menlo,'DejaVu Sans Mono',consolas,'Courier New',monospace\"></pre>\n"
      ],
      "text/plain": []
     },
     "metadata": {},
     "output_type": "display_data"
    },
    {
     "data": {
      "text/plain": [
       "\u001b[32m'Name: Batman\\nAliases: The Dark Knight, Caped Crusader, World\\'s Greatest Detective\\n\\nBackground:\\nBruce Wayne, the billionaire playboy of Gotham City, was deeply scarred by witnessing the murder of his parents as a child. Determined to avenge their deaths and protect innocent citizens from the criminals that plague Gotham, Bruce took on the persona of Batman. He trained himself both physically and mentally, becoming a highly skilled crime-fighter and detective.\\n\\nPhysical Appearance:\\nBatman is known for his imposing and intimidating presence. He stands at about 6\\'2\" tall, with a muscular build. He is often seen wearing a black, armored suit that is designed to protect him in combat and instill fear in his opponents. His mask, which covers the top half of his face, features pointy ears and a stern expression. His deep voice, deliberately disguised to strike fear into the hearts of criminals, adds to his mysterious and menacing aura.\\n\\nPersonality:\\nBatman is driven by a strong sense of justice and an unwavering determination to rid Gotham City of crime. He is highly intelligent, resourceful, and strategic, often using his deductive skills to uncover criminal plans and outsmart his adversaries. Despite his dark and brooding nature, he possesses a strong moral compass and refuses to take a life, believing that every life is precious.\\n\\nSkills and Abilities:\\nBatman is a master of various forms of martial arts, including but not limited to, karate, jujitsu, and muay thai. He is highly trained in hand-to-hand combat, making him an exceptional fighter. He is also highly skilled with various weapons and gadgets, including his iconic Batarangs, grappling gun, and smoke pellets. In addition to his physical prowess, Batman is a brilliant detective, often referred to as the World\\'s Greatest Detective, using his intellect and analytical thinking to solve crimes and uncover the truth.\\n\\nMotivation:\\nBatman\\'s chief motivation is his unwavering devotion to justice. He is haunted by the memory of his parents\\' murder and is driven to ensure that no other innocent lives are lost to crime. Batman operates in the shadows, striking fear into the hearts of criminals, and tirelessly employs his skills and resources to protect Gotham City and its citizens.\\n\\nRelationships:\\nWhile Batman often works alone, he has formed alliances and partnerships with various individuals who share his mission in different iterations of the Batman mythos. Notable allies include Robin, Batgirl, and Commissioner Gordon. However, Batman is known for maintaining an air of emotional detachment to protect those closest to him from harm.\\n\\nWeaknesses:\\nDespite his extensive training and resources, Batman is still human and vulnerable. He is often portrayed as grappling with internal turmoil and emotional baggage, resulting from the trauma of his parents\\' murder. Additionally, Batman\\'s relentless pursuit of justice can lead to him being consumed by darkness and obsession, potentially driving away the people he cares about and compromising his own well-being.'\u001b[0m"
      ]
     },
     "execution_count": 1,
     "metadata": {},
     "output_type": "execute_result"
    }
   ],
   "source": [
    "from promptx import prompt\n",
    "\n",
    "character = 'Batman'\n",
    "prompt(f'Write a character profile for {character}')"
   ]
  },
  {
   "cell_type": "markdown",
   "metadata": {},
   "source": [
    "By default, this returns a plain string response, but to generate complex data you can pass in the expected schema along with the prompt input.\n",
    "\n",
    "*Note: `Entity` is a thin layer on top of `pydantic.BaseModel` that allows the object to be stored as an embedding. You can use `pydantic.BaseModel` directly if you don't need to store the object as an embedding and just want to use it as the prompt output schema.*"
   ]
  },
  {
   "cell_type": "code",
   "execution_count": 2,
   "metadata": {},
   "outputs": [
    {
     "name": "stderr",
     "output_type": "stream",
     "text": [
      "/Users/richardlayte/Work/layterz/promptx/venv/lib/python3.10/site-packages/pydantic/json_schema.py:2075: PydanticJsonSchemaWarning: Default value (FieldInfo(annotation=NoneType, required=True, json_schema_extra={'embed': False}),) is not JSON serializable; excluding default from JSON schema [non-serializable-default]\n",
      "  warnings.warn(message, PydanticJsonSchemaWarning)\n"
     ]
    },
    {
     "data": {
      "text/html": [
       "<pre style=\"white-space:pre;overflow-x:auto;line-height:normal;font-family:Menlo,'DejaVu Sans Mono',consolas,'Courier New',monospace\"></pre>\n"
      ],
      "text/plain": []
     },
     "metadata": {},
     "output_type": "display_data"
    },
    {
     "data": {
      "text/plain": [
       "\n",
       "\u001b[1;35mCharacter\u001b[0m\u001b[1m(\u001b[0m\n",
       "    \u001b[33mid\u001b[0m=\u001b[32m'eaf9e916-dd6f-4157-a173-25073471079a'\u001b[0m,\n",
       "    \u001b[33mtype\u001b[0m=\u001b[32m'character'\u001b[0m,\n",
       "    \u001b[33mname\u001b[0m=\u001b[32m'Bruce Wayne'\u001b[0m,\n",
       "    \u001b[33mdescription\u001b[0m=\u001b[32m'Batman is a fictional superhero appearing in American comic books published by DC Comics. The character was created by artist Bob Kane and writer Bill Finger, and first appeared in Detective Comics #27 in 1939.'\u001b[0m,\n",
       "    \u001b[33mage\u001b[0m=\u001b[1;36m35\u001b[0m\n",
       "\u001b[1m)\u001b[0m"
      ]
     },
     "execution_count": 2,
     "metadata": {},
     "output_type": "execute_result"
    }
   ],
   "source": [
    "from pydantic import Field\n",
    "from promptx.collection import Entity\n",
    "\n",
    "class Character(Entity):\n",
    "    name: str = Field(..., embed=False),\n",
    "    description: str = Field(..., description='Describe the character in a few sentences')\n",
    "    age: int = Field(..., ge=0, le=120)\n",
    "\n",
    "batman = prompt('Generate a character profile for Batman', output=Character)\n",
    "batman"
   ]
  },
  {
   "cell_type": "markdown",
   "metadata": {},
   "source": [
    "This returns an instance of the specified schema using the generated response as the input data. Let's create a list of instead."
   ]
  },
  {
   "cell_type": "code",
   "execution_count": 3,
   "metadata": {},
   "outputs": [
    {
     "name": "stderr",
     "output_type": "stream",
     "text": [
      "/Users/richardlayte/Work/layterz/promptx/venv/lib/python3.10/site-packages/pydantic/json_schema.py:2075: PydanticJsonSchemaWarning: Default value (FieldInfo(annotation=NoneType, required=True, json_schema_extra={'embed': False}),) is not JSON serializable; excluding default from JSON schema [non-serializable-default]\n",
      "  warnings.warn(message, PydanticJsonSchemaWarning)\n"
     ]
    },
    {
     "data": {
      "text/html": [
       "<pre style=\"white-space:pre;overflow-x:auto;line-height:normal;font-family:Menlo,'DejaVu Sans Mono',consolas,'Courier New',monospace\"></pre>\n"
      ],
      "text/plain": []
     },
     "metadata": {},
     "output_type": "display_data"
    },
    {
     "data": {
      "text/html": [
       "<div>\n",
       "<style scoped>\n",
       "    .dataframe tbody tr th:only-of-type {\n",
       "        vertical-align: middle;\n",
       "    }\n",
       "\n",
       "    .dataframe tbody tr th {\n",
       "        vertical-align: top;\n",
       "    }\n",
       "\n",
       "    .dataframe thead th {\n",
       "        text-align: right;\n",
       "    }\n",
       "</style>\n",
       "<table border=\"1\" class=\"dataframe\">\n",
       "  <thead>\n",
       "    <tr style=\"text-align: right;\">\n",
       "      <th></th>\n",
       "      <th>id</th>\n",
       "      <th>type</th>\n",
       "      <th>name</th>\n",
       "      <th>description</th>\n",
       "      <th>age</th>\n",
       "    </tr>\n",
       "  </thead>\n",
       "  <tbody>\n",
       "    <tr>\n",
       "      <th>0</th>\n",
       "      <td>d49afc6d-75e0-4e3a-8061-0921a3202820</td>\n",
       "      <td>character</td>\n",
       "      <td>Batman</td>\n",
       "      <td>Batman is a vigilante superhero who fights cri...</td>\n",
       "      <td>35</td>\n",
       "    </tr>\n",
       "    <tr>\n",
       "      <th>1</th>\n",
       "      <td>04e994a9-6bfc-49db-a096-9ca857c2bb61</td>\n",
       "      <td>character</td>\n",
       "      <td>Joker</td>\n",
       "      <td>The Joker is a psychopathic criminal mastermin...</td>\n",
       "      <td>45</td>\n",
       "    </tr>\n",
       "    <tr>\n",
       "      <th>2</th>\n",
       "      <td>96a0053a-1a7c-49bc-b430-b9bbcfe3b95f</td>\n",
       "      <td>character</td>\n",
       "      <td>Catwoman</td>\n",
       "      <td>Catwoman is a skilled thief and anti-heroine w...</td>\n",
       "      <td>30</td>\n",
       "    </tr>\n",
       "  </tbody>\n",
       "</table>\n",
       "</div>"
      ],
      "text/plain": [
       "\n",
       "                                     id       type      name  \\\n",
       "\u001b[1;36m0\u001b[0m  \u001b[93md49afc6d-75e0-4e3a-8061-0921a3202820\u001b[0m  character    Batman   \n",
       "\u001b[1;36m1\u001b[0m  \u001b[93m04e994a9-6bfc-49db-a096-9ca857c2bb61\u001b[0m  character     Joker   \n",
       "\u001b[1;36m2\u001b[0m  \u001b[93m96a0053a-1a7c-49bc-b430-b9bbcfe3b95f\u001b[0m  character  Catwoman   \n",
       "\n",
       "                                         description  age  \n",
       "\u001b[1;36m0\u001b[0m  Batman is a vigilante superhero who fights cri\u001b[33m...\u001b[0m   \u001b[1;36m35\u001b[0m  \n",
       "\u001b[1;36m1\u001b[0m  The Joker is a psychopathic criminal mastermin\u001b[33m...\u001b[0m   \u001b[1;36m45\u001b[0m  \n",
       "\u001b[1;36m2\u001b[0m  Catwoman is a skilled thief and anti-heroine w\u001b[33m...\u001b[0m   \u001b[1;36m30\u001b[0m  "
      ]
     },
     "execution_count": 3,
     "metadata": {},
     "output_type": "execute_result"
    }
   ],
   "source": [
    "characters = prompt(\n",
    "    'Generate some characters from the Batman universe',\n",
    "    output=[Character],\n",
    ")\n",
    "\n",
    "characters"
   ]
  },
  {
   "cell_type": "markdown",
   "metadata": {},
   "source": [
    "If the output is a list, `prompt` returns a `Collection`, which extends `pd.DataFrame`. To extract the `Entity` representations, use the `objects` property.\n",
    "\n",
    "We can now store these generated objects as embeddings in a collection."
   ]
  },
  {
   "cell_type": "code",
   "execution_count": 4,
   "metadata": {},
   "outputs": [],
   "source": [
    "from promptx import store\n",
    "\n",
    "store(*characters.objects)"
   ]
  },
  {
   "cell_type": "markdown",
   "metadata": {},
   "source": [
    "This stores the object as an embedding, along with some metadata, in a vector database (ChromaDB by default). The process is quite simple, it embeds the whole object as a JSON string and each field individually. This allows us to query the database using any field in the object."
   ]
  },
  {
   "cell_type": "code",
   "execution_count": 5,
   "metadata": {},
   "outputs": [
    {
     "data": {
      "text/html": [
       "<pre style=\"white-space:pre;overflow-x:auto;line-height:normal;font-family:Menlo,'DejaVu Sans Mono',consolas,'Courier New',monospace\"></pre>\n"
      ],
      "text/plain": []
     },
     "metadata": {},
     "output_type": "display_data"
    },
    {
     "data": {
      "text/html": [
       "<div>\n",
       "<style scoped>\n",
       "    .dataframe tbody tr th:only-of-type {\n",
       "        vertical-align: middle;\n",
       "    }\n",
       "\n",
       "    .dataframe tbody tr th {\n",
       "        vertical-align: top;\n",
       "    }\n",
       "\n",
       "    .dataframe thead th {\n",
       "        text-align: right;\n",
       "    }\n",
       "</style>\n",
       "<table border=\"1\" class=\"dataframe\">\n",
       "  <thead>\n",
       "    <tr style=\"text-align: right;\">\n",
       "      <th></th>\n",
       "      <th>id</th>\n",
       "      <th>type</th>\n",
       "      <th>name</th>\n",
       "      <th>description</th>\n",
       "      <th>age</th>\n",
       "    </tr>\n",
       "  </thead>\n",
       "  <tbody>\n",
       "  </tbody>\n",
       "</table>\n",
       "</div>"
      ],
      "text/plain": [
       "\n",
       "Empty Collection\n",
       "Columns: \u001b[1m[\u001b[0mid, type, name, description, age\u001b[1m]\u001b[0m\n",
       "Index: \u001b[1m[\u001b[0m\u001b[1m]\u001b[0m"
      ]
     },
     "execution_count": 5,
     "metadata": {},
     "output_type": "execute_result"
    }
   ],
   "source": [
    "from promptx import query\n",
    "\n",
    "query()"
   ]
  },
  {
   "cell_type": "markdown",
   "metadata": {},
   "source": [
    "Now let's generate some more characters and add them to the collection. We'll first get any existing characters and extract their names, which we can pass to the prompt to avoid generating duplicates. Any characters generated will be added the list during iteration. Finally, we'll store all the generated characters in the collection."
   ]
  },
  {
   "cell_type": "code",
   "execution_count": 6,
   "metadata": {},
   "outputs": [
    {
     "name": "stderr",
     "output_type": "stream",
     "text": [
      "/Users/richardlayte/Work/layterz/promptx/venv/lib/python3.10/site-packages/pydantic/json_schema.py:2075: PydanticJsonSchemaWarning: Default value (FieldInfo(annotation=NoneType, required=True, json_schema_extra={'embed': False}),) is not JSON serializable; excluding default from JSON schema [non-serializable-default]\n",
      "  warnings.warn(message, PydanticJsonSchemaWarning)\n",
      "/Users/richardlayte/Work/layterz/promptx/venv/lib/python3.10/site-packages/pydantic/json_schema.py:2075: PydanticJsonSchemaWarning: Default value (FieldInfo(annotation=NoneType, required=True, json_schema_extra={'embed': False}),) is not JSON serializable; excluding default from JSON schema [non-serializable-default]\n",
      "  warnings.warn(message, PydanticJsonSchemaWarning)\n",
      "/Users/richardlayte/Work/layterz/promptx/venv/lib/python3.10/site-packages/pydantic/json_schema.py:2075: PydanticJsonSchemaWarning: Default value (FieldInfo(annotation=NoneType, required=True, json_schema_extra={'embed': False}),) is not JSON serializable; excluding default from JSON schema [non-serializable-default]\n",
      "  warnings.warn(message, PydanticJsonSchemaWarning)\n"
     ]
    },
    {
     "data": {
      "text/html": [
       "<pre style=\"white-space:pre;overflow-x:auto;line-height:normal;font-family:Menlo,'DejaVu Sans Mono',consolas,'Courier New',monospace\"></pre>\n"
      ],
      "text/plain": []
     },
     "metadata": {},
     "output_type": "display_data"
    },
    {
     "data": {
      "text/html": [
       "<div>\n",
       "<style scoped>\n",
       "    .dataframe tbody tr th:only-of-type {\n",
       "        vertical-align: middle;\n",
       "    }\n",
       "\n",
       "    .dataframe tbody tr th {\n",
       "        vertical-align: top;\n",
       "    }\n",
       "\n",
       "    .dataframe thead th {\n",
       "        text-align: right;\n",
       "    }\n",
       "</style>\n",
       "<table border=\"1\" class=\"dataframe\">\n",
       "  <thead>\n",
       "    <tr style=\"text-align: right;\">\n",
       "      <th></th>\n",
       "      <th>id</th>\n",
       "      <th>type</th>\n",
       "      <th>name</th>\n",
       "      <th>description</th>\n",
       "      <th>age</th>\n",
       "    </tr>\n",
       "  </thead>\n",
       "  <tbody>\n",
       "  </tbody>\n",
       "</table>\n",
       "</div>"
      ],
      "text/plain": [
       "\n",
       "Empty Collection\n",
       "Columns: \u001b[1m[\u001b[0mid, type, name, description, age\u001b[1m]\u001b[0m\n",
       "Index: \u001b[1m[\u001b[0m\u001b[1m]\u001b[0m"
      ]
     },
     "execution_count": 6,
     "metadata": {},
     "output_type": "execute_result"
    }
   ],
   "source": [
    "n = 3\n",
    "characters = query().objects\n",
    "\n",
    "for _ in range(n):\n",
    "    characters += prompt(\n",
    "        '''\n",
    "        Generate a list of new characters from the Batman universe.\n",
    "        Don't use any of the existing characters.\n",
    "        ''',\n",
    "        input = {\n",
    "            'existing_characters': [c.name for c in characters],\n",
    "        },\n",
    "        output=[Character],\n",
    "    ).objects\n",
    "\n",
    "store(*characters)\n",
    "query()"
   ]
  },
  {
   "cell_type": "markdown",
   "metadata": {},
   "source": [
    "Now that the characters are embedded, we can query the collection."
   ]
  },
  {
   "cell_type": "code",
   "execution_count": 7,
   "metadata": {},
   "outputs": [
    {
     "ename": "TypeError",
     "evalue": "MemoryDB.query() missing 1 required positional argument: 'texts'",
     "output_type": "error",
     "traceback": [
      "\u001b[0;31m---------------------------------------------------------------------------\u001b[0m",
      "\u001b[0;31mTypeError\u001b[0m                                 Traceback (most recent call last)",
      "Cell \u001b[0;32mIn[7], line 1\u001b[0m\n\u001b[0;32m----> 1\u001b[0m villains \u001b[38;5;241m=\u001b[39m \u001b[43mquery\u001b[49m\u001b[43m(\u001b[49m\u001b[38;5;124;43m'\u001b[39;49m\u001b[38;5;124;43mthey are a villain\u001b[39;49m\u001b[38;5;124;43m'\u001b[39;49m\u001b[43m)\u001b[49m\n\u001b[1;32m      2\u001b[0m villains\n",
      "File \u001b[0;32m~/Work/layterz/promptx/promptx/__init__.py:52\u001b[0m, in \u001b[0;36mquery\u001b[0;34m(field, where, collection, *texts, **kwargs)\u001b[0m\n\u001b[1;32m     51\u001b[0m \u001b[38;5;28;01mdef\u001b[39;00m \u001b[38;5;21mquery\u001b[39m(\u001b[38;5;241m*\u001b[39mtexts, field\u001b[38;5;241m=\u001b[39m\u001b[38;5;28;01mNone\u001b[39;00m, where\u001b[38;5;241m=\u001b[39m\u001b[38;5;28;01mNone\u001b[39;00m, collection\u001b[38;5;241m=\u001b[39m\u001b[38;5;28;01mNone\u001b[39;00m, \u001b[38;5;241m*\u001b[39m\u001b[38;5;241m*\u001b[39mkwargs) \u001b[38;5;241m-\u001b[39m\u001b[38;5;241m>\u001b[39m Collection:\n\u001b[0;32m---> 52\u001b[0m     \u001b[38;5;28;01mreturn\u001b[39;00m \u001b[43mDEFAULT_SESSION\u001b[49m\u001b[38;5;241;43m.\u001b[39;49m\u001b[43mquery\u001b[49m\u001b[43m(\u001b[49m\n\u001b[1;32m     53\u001b[0m \u001b[43m        \u001b[49m\u001b[38;5;241;43m*\u001b[39;49m\u001b[43mtexts\u001b[49m\u001b[43m,\u001b[49m\u001b[43m \u001b[49m\u001b[43mfield\u001b[49m\u001b[38;5;241;43m=\u001b[39;49m\u001b[43mfield\u001b[49m\u001b[43m,\u001b[49m\u001b[43m \u001b[49m\u001b[43mwhere\u001b[49m\u001b[38;5;241;43m=\u001b[39;49m\u001b[43mwhere\u001b[49m\u001b[43m,\u001b[49m\u001b[43m \u001b[49m\u001b[43mcollection\u001b[49m\u001b[38;5;241;43m=\u001b[39;49m\u001b[43mcollection\u001b[49m\u001b[43m,\u001b[49m\u001b[43m \u001b[49m\u001b[38;5;241;43m*\u001b[39;49m\u001b[38;5;241;43m*\u001b[39;49m\u001b[43mkwargs\u001b[49m\u001b[43m)\u001b[49m\n",
      "File \u001b[0;32m~/Work/layterz/promptx/promptx/world.py:111\u001b[0m, in \u001b[0;36mSession.query\u001b[0;34m(self, field, ids, where, collection, limit, *texts)\u001b[0m\n\u001b[1;32m    109\u001b[0m \u001b[38;5;28;01mif\u001b[39;00m field \u001b[38;5;129;01mis\u001b[39;00m \u001b[38;5;129;01mnot\u001b[39;00m \u001b[38;5;28;01mNone\u001b[39;00m:\n\u001b[1;32m    110\u001b[0m     where[\u001b[38;5;124m'\u001b[39m\u001b[38;5;124mfield\u001b[39m\u001b[38;5;124m'\u001b[39m] \u001b[38;5;241m=\u001b[39m field\n\u001b[0;32m--> 111\u001b[0m r \u001b[38;5;241m=\u001b[39m  \u001b[43mc\u001b[49m\u001b[43m(\u001b[49m\u001b[38;5;241;43m*\u001b[39;49m\u001b[43mtexts\u001b[49m\u001b[43m,\u001b[49m\u001b[43m \u001b[49m\u001b[43mids\u001b[49m\u001b[38;5;241;43m=\u001b[39;49m\u001b[43mids\u001b[49m\u001b[43m,\u001b[49m\u001b[43m \u001b[49m\u001b[43mwhere\u001b[49m\u001b[38;5;241;43m=\u001b[39;49m\u001b[43mwhere\u001b[49m\u001b[43m,\u001b[49m\u001b[43m \u001b[49m\u001b[43mlimit\u001b[49m\u001b[38;5;241;43m=\u001b[39;49m\u001b[43mlimit\u001b[49m\u001b[43m)\u001b[49m\n\u001b[1;32m    112\u001b[0m \u001b[38;5;28;01mif\u001b[39;00m r \u001b[38;5;129;01mis\u001b[39;00m \u001b[38;5;28;01mNone\u001b[39;00m:\n\u001b[1;32m    113\u001b[0m     \u001b[38;5;28;01mreturn\u001b[39;00m \u001b[38;5;28;01mNone\u001b[39;00m\n",
      "File \u001b[0;32m~/Work/layterz/promptx/promptx/collection.py:711\u001b[0m, in \u001b[0;36mCollection.__call__\u001b[0;34m(self, where, *texts, **kwargs)\u001b[0m\n\u001b[1;32m    710\u001b[0m \u001b[38;5;28;01mdef\u001b[39;00m \u001b[38;5;21m__call__\u001b[39m(\u001b[38;5;28mself\u001b[39m, \u001b[38;5;241m*\u001b[39mtexts, where\u001b[38;5;241m=\u001b[39m\u001b[38;5;28;01mNone\u001b[39;00m, \u001b[38;5;241m*\u001b[39m\u001b[38;5;241m*\u001b[39mkwargs) \u001b[38;5;241m-\u001b[39m\u001b[38;5;241m>\u001b[39m Any:\n\u001b[0;32m--> 711\u001b[0m     \u001b[38;5;28;01mreturn\u001b[39;00m \u001b[38;5;28;43mself\u001b[39;49m\u001b[38;5;241;43m.\u001b[39;49m\u001b[43membedding_query\u001b[49m\u001b[43m(\u001b[49m\u001b[38;5;241;43m*\u001b[39;49m\u001b[43mtexts\u001b[49m\u001b[43m,\u001b[49m\u001b[43m \u001b[49m\u001b[43mwhere\u001b[49m\u001b[38;5;241;43m=\u001b[39;49m\u001b[43mwhere\u001b[49m\u001b[43m,\u001b[49m\u001b[43m \u001b[49m\u001b[38;5;241;43m*\u001b[39;49m\u001b[38;5;241;43m*\u001b[39;49m\u001b[43mkwargs\u001b[49m\u001b[43m)\u001b[49m\n",
      "File \u001b[0;32m~/Work/layterz/promptx/promptx/collection.py:687\u001b[0m, in \u001b[0;36mCollection.embedding_query\u001b[0;34m(self, ids, where, threshold, limit, *texts, **kwargs)\u001b[0m\n\u001b[1;32m    685\u001b[0m             scores[\u001b[38;5;28mid\u001b[39m] \u001b[38;5;241m+\u001b[39m\u001b[38;5;241m=\u001b[39m \u001b[38;5;241m1\u001b[39m\n\u001b[1;32m    686\u001b[0m \u001b[38;5;28;01melse\u001b[39;00m:\n\u001b[0;32m--> 687\u001b[0m     results \u001b[38;5;241m=\u001b[39m \u001b[38;5;28;43mself\u001b[39;49m\u001b[38;5;241;43m.\u001b[39;49m\u001b[43mdb\u001b[49m\u001b[38;5;241;43m.\u001b[39;49m\u001b[43mquery\u001b[49m\u001b[43m(\u001b[49m\u001b[43mquery_texts\u001b[49m\u001b[38;5;241;43m=\u001b[39;49m\u001b[43mtexts\u001b[49m\u001b[43m,\u001b[49m\u001b[43m \u001b[49m\u001b[43mwhere\u001b[49m\u001b[38;5;241;43m=\u001b[39;49m\u001b[43mwhere\u001b[49m\u001b[43m,\u001b[49m\u001b[43m \u001b[49m\u001b[38;5;241;43m*\u001b[39;49m\u001b[38;5;241;43m*\u001b[39;49m\u001b[43mkwargs\u001b[49m\u001b[43m)\u001b[49m\n\u001b[1;32m    688\u001b[0m     \u001b[38;5;28;01mfor\u001b[39;00m i \u001b[38;5;129;01min\u001b[39;00m \u001b[38;5;28mrange\u001b[39m(\u001b[38;5;28mlen\u001b[39m(results[\u001b[38;5;124m'\u001b[39m\u001b[38;5;124mids\u001b[39m\u001b[38;5;124m'\u001b[39m])):\n\u001b[1;32m    689\u001b[0m         \u001b[38;5;28;01mfor\u001b[39;00m \u001b[38;5;28mid\u001b[39m, d, m \u001b[38;5;129;01min\u001b[39;00m \u001b[38;5;28mzip\u001b[39m(results[\u001b[38;5;124m'\u001b[39m\u001b[38;5;124mids\u001b[39m\u001b[38;5;124m'\u001b[39m][i], results[\u001b[38;5;124m'\u001b[39m\u001b[38;5;124mdistances\u001b[39m\u001b[38;5;124m'\u001b[39m][i], results[\u001b[38;5;124m'\u001b[39m\u001b[38;5;124mmetadatas\u001b[39m\u001b[38;5;124m'\u001b[39m][i]):\n",
      "\u001b[0;31mTypeError\u001b[0m: MemoryDB.query() missing 1 required positional argument: 'texts'"
     ]
    }
   ],
   "source": [
    "villains = query('they are a villain')\n",
    "villains"
   ]
  },
  {
   "cell_type": "markdown",
   "metadata": {},
   "source": [
    "This compares the query text with the stored objects, returning results that are closest in vector space.\n",
    "\n",
    "*Note: the effectiveness of embedding queries will depend on what data has been embedded. In this case, ChatGPT will know some details about the generated characters and so does a decent job on this data. For other data, you may find generating synthetic intermediary data to be helpful. E.g. generating `thoughts` and/or `quotes` about a set of documents.*"
   ]
  },
  {
   "cell_type": "markdown",
   "metadata": {},
   "source": [
    "Because `Collection` extends `pd.DataFrame`, we can use all the usual Pandas methods to filter and sort the results."
   ]
  },
  {
   "cell_type": "code",
   "execution_count": null,
   "metadata": {},
   "outputs": [],
   "source": [
    "villains[villains.age < 30]"
   ]
  },
  {
   "cell_type": "markdown",
   "metadata": {},
   "source": [
    "Relationships can be defined by setting the field to a type which subclasses `Entity` (or a list of that type). Internally, this is stored as a query and then loaded when the field is accessed from the database."
   ]
  },
  {
   "cell_type": "code",
   "execution_count": null,
   "metadata": {},
   "outputs": [],
   "source": [
    "class StoryIdea(Entity):\n",
    "    title: str\n",
    "    description: str = None\n",
    "    characters: list[Character] = None\n",
    "\n",
    "characters = query('they are a villain').sample(3).objects\n",
    "\n",
    "ideas = prompt(\n",
    "    'Generate some story ideas',\n",
    "    input={\n",
    "        'characters': characters,\n",
    "    },\n",
    "    output=[StoryIdea],\n",
    ").objects\n",
    "\n",
    "for idea in ideas:\n",
    "    idea.characters = characters\n",
    "\n",
    "store(*ideas, collection='story-ideas')\n",
    "query(collection='story-ideas')"
   ]
  },
  {
   "cell_type": "markdown",
   "metadata": {},
   "source": [
    "Note that the output is being stored in a collection called `story-ideas`, which is created if it doesn't exist. Previously, all the data we've stored has been in the 'default' collection.\n",
    "\n",
    "*Collections are widely used internally to represent stored models, templates, prompt history, etc. This provides a consistent interface for accessing and manipulating data.*"
   ]
  },
  {
   "cell_type": "markdown",
   "metadata": {},
   "source": [
    "So far we've used the default model (GPT-3.5) when generating data, but you can specify a custom model using the `llm=` parameter."
   ]
  },
  {
   "cell_type": "code",
   "execution_count": null,
   "metadata": {},
   "outputs": [],
   "source": [
    "from promptx.models.openai import ChatGPT\n",
    "\n",
    "gpt4 = ChatGPT(id='gpt4', model='gpt4')\n",
    "\n",
    "characters = prompt(\n",
    "    'Generate some characters from the Batman universe',\n",
    "    output=[Character],\n",
    "    llm=gpt4,\n",
    ")"
   ]
  },
  {
   "cell_type": "markdown",
   "metadata": {},
   "source": [
    "You can define any commonly used models, templates, etc, along with defining other settings, by creating a `config.py` file in the root of the project (i.e. adjacent to the `.px/` directory). This file is loaded when the project is initialized and a `setup` function is expected. Here's a simple example that defines a few custom models and a template.\n",
    "\n",
    "```\n",
    "# ./config.py\n",
    "\n",
    "from promptx.models.openai import ChatGPT\n",
    "\n",
    "gpt4 = ChatGPT(id='gpt4', model='gpt4')\n",
    "\n",
    "def setup(session):\n",
    "    session.store(gpt4, collection='models')\n",
    "```\n"
   ]
  }
 ],
 "metadata": {
  "kernelspec": {
   "display_name": "venv",
   "language": "python",
   "name": "python3"
  },
  "language_info": {
   "codemirror_mode": {
    "name": "ipython",
    "version": 3
   },
   "file_extension": ".py",
   "mimetype": "text/x-python",
   "name": "python",
   "nbconvert_exporter": "python",
   "pygments_lexer": "ipython3",
   "version": "3.10.6"
  }
 },
 "nbformat": 4,
 "nbformat_minor": 2
}
