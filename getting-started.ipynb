{
 "cells": [
  {
   "cell_type": "markdown",
   "metadata": {},
   "source": [
    "# promptz"
   ]
  },
  {
   "cell_type": "code",
   "execution_count": null,
   "metadata": {},
   "outputs": [],
   "source": [
    "%pip install promptz"
   ]
  },
  {
   "cell_type": "code",
   "execution_count": null,
   "metadata": {},
   "outputs": [],
   "source": [
    "%env OPENAI_API_KEY=<your-api-key>\n",
    "%env OPENAI_ORGANIZATION_ID=<your-organization-id>"
   ]
  },
  {
   "cell_type": "code",
   "execution_count": 3,
   "metadata": {},
   "outputs": [
    {
     "ename": "AttributeError",
     "evalue": "module 'promptz.models' has no attribute 'openai'",
     "output_type": "error",
     "traceback": [
      "\u001b[0;31m---------------------------------------------------------------------------\u001b[0m",
      "\u001b[0;31mAttributeError\u001b[0m                            Traceback (most recent call last)",
      "Cell \u001b[0;32mIn[3], line 5\u001b[0m\n\u001b[1;32m      2\u001b[0m \u001b[39mfrom\u001b[39;00m \u001b[39mpprint\u001b[39;00m \u001b[39mimport\u001b[39;00m pprint\n\u001b[1;32m      3\u001b[0m \u001b[39mimport\u001b[39;00m \u001b[39mpromptz\u001b[39;00m\n\u001b[0;32m----> 5\u001b[0m llm \u001b[39m=\u001b[39m promptz\u001b[39m.\u001b[39;49mmodels\u001b[39m.\u001b[39;49mopenai\u001b[39m.\u001b[39mChatGPT(\n\u001b[1;32m      6\u001b[0m     api_key\u001b[39m=\u001b[39mos\u001b[39m.\u001b[39menviron[\u001b[39m'\u001b[39m\u001b[39mOPENAI_API_KEY\u001b[39m\u001b[39m'\u001b[39m],\n\u001b[1;32m      7\u001b[0m     org_id\u001b[39m=\u001b[39mos\u001b[39m.\u001b[39menviron[\u001b[39m'\u001b[39m\u001b[39mOPENAI_ORGANIZATION_ID\u001b[39m\u001b[39m'\u001b[39m],\n\u001b[1;32m      8\u001b[0m )\n\u001b[1;32m     10\u001b[0m promptz\u001b[39m.\u001b[39minit(llm\u001b[39m=\u001b[39mllm)\n\u001b[1;32m     12\u001b[0m \u001b[39m# test session is working\u001b[39;00m\n",
      "\u001b[0;31mAttributeError\u001b[0m: module 'promptz.models' has no attribute 'openai'"
     ]
    }
   ],
   "source": [
    "\n",
    "import os\n",
    "from pprint import pprint\n",
    "import promptz\n",
    "from promptz.models.openai import ChatGPT\n",
    "\n",
    "llm = ChatGPT(\n",
    "    api_key=os.environ['OPENAI_API_KEY'],\n",
    "    org_id=os.environ['OPENAI_ORGANIZATION_ID'],\n",
    ")\n",
    "\n",
    "promptz.init(llm=llm)\n",
    "\n",
    "# test session is working\n",
    "o = promptz.prompt('What is the capital of France')\n",
    "o"
   ]
  },
  {
   "cell_type": "code",
   "execution_count": null,
   "metadata": {},
   "outputs": [],
   "source": [
    "from promptz import prompt\n",
    "\n",
    "character = 'Batman'\n",
    "prompt(f'Write a character profile for {character}')"
   ]
  },
  {
   "cell_type": "code",
   "execution_count": null,
   "metadata": {},
   "outputs": [],
   "source": [
    "from typing import List\n",
    "from pydantic import BaseModel, Field\n",
    "from promptz import prompt\n",
    "\n",
    "class Character(BaseModel):\n",
    "    name: str = Field(..., unique=True, embed=False),\n",
    "    description: str = Field(\n",
    "        ..., description='Describe the character in a few sentences')\n",
    "    age: int = Field(..., min=1, max=120)\n",
    "\n",
    "characters = prompt(\n",
    "    'Generate some characters from the Batman universe',\n",
    "    output=List[Character],\n",
    ")"
   ]
  },
  {
   "cell_type": "code",
   "execution_count": null,
   "metadata": {},
   "outputs": [],
   "source": [
    "batman = prompt('Generate a character profile for Batman', output=Character)"
   ]
  },
  {
   "cell_type": "code",
   "execution_count": null,
   "metadata": {},
   "outputs": [],
   "source": [
    "descriptions = prompt(\n",
    "    'Write some 2-3 sentence character descriptions in the style of Alan Moore',\n",
    "    input={'characters': [c.name for c in characters.objects]},\n",
    "    output=List[str],\n",
    ")\n",
    "\n",
    "characters['description'] = descriptions['output']\n",
    "characters"
   ]
  },
  {
   "cell_type": "code",
   "execution_count": null,
   "metadata": {},
   "outputs": [],
   "source": [
    "import pandas as pd\n",
    "from promptz import Prompt\n",
    "\n",
    "p = Prompt(\n",
    "    '''\n",
    "    Generate a list of new characters from the Batman universe.\n",
    "    Don't use any of the existing characters.\n",
    "    ''',\n",
    "    examples=[\n",
    "        (\n",
    "            { 'existing_characters': characters['name'][:2].to_list() },\n",
    "            characters[2:].objects,\n",
    "        ),\n",
    "    ],\n",
    "    output=List[Character],\n",
    ")\n",
    "\n",
    "for _ in range(5):\n",
    "    existing_characters = characters['name'].to_list()\n",
    "    try:\n",
    "        cs = prompt(prompt=p, input={'existing_characters': existing_characters})\n",
    "        characters = pd.concat([characters, cs]).reset_index(drop=True)\n",
    "    except Exception as e:\n",
    "        print(e)\n",
    "\n",
    "characters"
   ]
  },
  {
   "cell_type": "code",
   "execution_count": null,
   "metadata": {},
   "outputs": [],
   "source": [
    "from promptz import store\n",
    "\n",
    "store(characters)"
   ]
  },
  {
   "cell_type": "code",
   "execution_count": null,
   "metadata": {},
   "outputs": [],
   "source": [
    "from promptz import query\n",
    "\n",
    "villains = query('they are a villain')\n",
    "villains"
   ]
  },
  {
   "cell_type": "code",
   "execution_count": null,
   "metadata": {},
   "outputs": [],
   "source": [
    "villains['evil'] = True\n",
    "store(villains)"
   ]
  },
  {
   "cell_type": "code",
   "execution_count": null,
   "metadata": {},
   "outputs": [],
   "source": [
    "old_and_masked = villains('they wear a mask')[villains['age'] > 30]\n",
    "old_and_masked"
   ]
  },
  {
   "cell_type": "code",
   "execution_count": null,
   "metadata": {},
   "outputs": [],
   "source": [
    "class StoryIdea(BaseModel):\n",
    "    title: str\n",
    "    description: str = None\n",
    "    characters: List[str] = []\n",
    "\n",
    "batman = query('Bruce Wayne').first\n",
    "villains = query('they are a villain').sample(3)\n",
    "\n",
    "ideas = prompt(\n",
    "    'Generate some story ideas',\n",
    "    input={\n",
    "        'characters': [batman] + villains.objects,\n",
    "    },\n",
    "    output=List[StoryIdea],\n",
    ")\n",
    "\n",
    "ideas"
   ]
  },
  {
   "cell_type": "code",
   "execution_count": null,
   "metadata": {},
   "outputs": [],
   "source": [
    "from promptz import collection\n",
    "\n",
    "store(ideas, collection='story_ideas')\n",
    "collection('story_ideas')"
   ]
  }
 ],
 "metadata": {
  "kernelspec": {
   "display_name": "venv",
   "language": "python",
   "name": "python3"
  },
  "language_info": {
   "codemirror_mode": {
    "name": "ipython",
    "version": 3
   },
   "file_extension": ".py",
   "mimetype": "text/x-python",
   "name": "python",
   "nbconvert_exporter": "python",
   "pygments_lexer": "ipython3",
   "version": "3.10.12"
  },
  "orig_nbformat": 4
 },
 "nbformat": 4,
 "nbformat_minor": 2
}
