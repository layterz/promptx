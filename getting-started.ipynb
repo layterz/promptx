{
 "cells": [
  {
   "cell_type": "markdown",
   "metadata": {},
   "source": [
    "# promptx\n",
    "\n",
    "A framework for building AI systems.\n",
    "\n",
    "```bash\n",
    "pip install pxx\n",
    "```"
   ]
  },
  {
   "cell_type": "code",
   "execution_count": 1,
   "metadata": {},
   "outputs": [
    {
     "data": {
      "text/html": [
       "<pre style=\"white-space:pre;overflow-x:auto;line-height:normal;font-family:Menlo,'DejaVu Sans Mono',consolas,'Courier New',monospace\"></pre>\n"
      ],
      "text/plain": []
     },
     "metadata": {},
     "output_type": "display_data"
    },
    {
     "data": {
      "text/plain": [
       "\u001b[32m\"NAME: Batman\\n\\nAGE: Typically portrayed as being in his late 30s to early 40s.\\n\\nOCCUPATION: Vigilante, Crime-fighter, Billionaire Philanthropist\\n\\nPERSONALITY: Batman is known for being mysterious, brooding, and relentless in his pursuit of justice. He is driven by a deep sense of vengeance and a desire to protect the innocent. Despite his tough exterior, Batman is also incredibly intelligent, strategic, and resourceful. He is a master of hand-to-hand combat and is always prepared with gadgets and technology to assist him in his mission.\\n\\nBACKSTORY: Batman's true identity is Bruce Wayne, a wealthy businessman who witnessed the murder of his parents as a child. This traumatic event fueled his obsession with fighting crime and inspired him to become Batman. Wayne honed his physical and mental abilities through years of training and travels around the world, learning from the best in various disciplines. He also utilizes his vast wealth to fund his crime-fighting operations and to develop advanced technology and equipment.\\n\\nAPPEARANCE: Batman is often depicted wearing a black, bat-like costume that helps him conceal his identity. He is tall and muscular with a strong presence. His mask, cape, and utility belt are iconic parts of his ensemble. Batman's fighting style is characterized by his impressive martial arts skills and his ability to strike fear into the hearts of his enemies.\\n\\nRELATIONSHIPS: Batman's vigilantism often puts a strain on his relationships, but he has developed a few trusted allies over the years. His most notable companion is Robin, a young protege who shares his dedication to justice. Batman also has a complicated relationship with his butler and confidant, Alfred Pennyworth, who supports him in his endeavors. Additionally, he is known to work alongside other superheroes as part of the Justice League.\\n\\nMOTIVATION: Batman's main motivation is to protect Gotham City from the criminals and corruption that run rampant. He is driven by a desire to ensure that no child suffers the same tragedy he experienced. Batman believes in upholding justice and is willing to bend the rules to achieve it. He is haunted by his past and is constantly striving to make a difference in the world.\"\u001b[0m"
      ]
     },
     "execution_count": 1,
     "metadata": {},
     "output_type": "execute_result"
    }
   ],
   "source": [
    "from promptx import prompt\n",
    "\n",
    "character = 'Batman'\n",
    "prompt(f'Write a character profile for {character}')"
   ]
  },
  {
   "cell_type": "markdown",
   "metadata": {},
   "source": [
    "By default, this returns a plain string response, but to generate complex data you can pass in the expected schema along with the prompt input.\n",
    "\n",
    "*Note: `Entity` is a thin layer on top of `pydantic.BaseModel` that allows the object to be stored as an embedding. You can use `pydantic.BaseModel` directly if you don't need to store the object as an embedding and just want to use it as the prompt output schema.*"
   ]
  },
  {
   "cell_type": "code",
   "execution_count": 2,
   "metadata": {},
   "outputs": [
    {
     "name": "stderr",
     "output_type": "stream",
     "text": [
      "/Users/richardlayte/Work/layterz/promptx/venv/lib/python3.10/site-packages/pydantic/json_schema.py:2080: PydanticJsonSchemaWarning: Default value (FieldInfo(annotation=NoneType, required=True, json_schema_extra={'embed': False}),) is not JSON serializable; excluding default from JSON schema [non-serializable-default]\n",
      "  warnings.warn(message, PydanticJsonSchemaWarning)\n"
     ]
    },
    {
     "data": {
      "text/html": [
       "<pre style=\"white-space:pre;overflow-x:auto;line-height:normal;font-family:Menlo,'DejaVu Sans Mono',consolas,'Courier New',monospace\"></pre>\n"
      ],
      "text/plain": []
     },
     "metadata": {},
     "output_type": "display_data"
    },
    {
     "data": {
      "text/plain": [
       "\n",
       "\u001b[1;35mCharacter\u001b[0m\u001b[1m(\u001b[0m\n",
       "    \u001b[33mid\u001b[0m=\u001b[32m'79c226a0-da19-4f81-9da8-cf20372e8199'\u001b[0m,\n",
       "    \u001b[33mtype\u001b[0m=\u001b[32m'character'\u001b[0m,\n",
       "    \u001b[33mname\u001b[0m=\u001b[32m'Bruce Wayne'\u001b[0m,\n",
       "    \u001b[33mdescription\u001b[0m=\u001b[32m'Bruce Wayne is the alter ego of Batman. He is a billionaire industrialist and philanthropist by day, and a crime-fighting vigilante by night. Bruce witnessed the murder of his parents as a child, which motivated him to devote his life to fighting crime and protecting Gotham City.'\u001b[0m,\n",
       "    \u001b[33mage\u001b[0m=\u001b[1;36m35\u001b[0m\n",
       "\u001b[1m)\u001b[0m"
      ]
     },
     "execution_count": 2,
     "metadata": {},
     "output_type": "execute_result"
    }
   ],
   "source": [
    "from pydantic import Field\n",
    "from promptx.collection import Entity\n",
    "\n",
    "class Character(Entity):\n",
    "    name: str = Field(..., embed=False),\n",
    "    description: str = Field(..., description='Describe the character in a few sentences')\n",
    "    age: int = Field(..., ge=0, le=120)\n",
    "\n",
    "batman = prompt('Generate a character profile for Batman', output=Character)\n",
    "batman"
   ]
  },
  {
   "cell_type": "markdown",
   "metadata": {},
   "source": [
    "This returns an instance of the specified schema using the generated response as the input data. Let's create a list of instead."
   ]
  },
  {
   "cell_type": "code",
   "execution_count": 3,
   "metadata": {},
   "outputs": [
    {
     "name": "stderr",
     "output_type": "stream",
     "text": [
      "/Users/richardlayte/Work/layterz/promptx/venv/lib/python3.10/site-packages/pydantic/json_schema.py:2080: PydanticJsonSchemaWarning: Default value (FieldInfo(annotation=NoneType, required=True, json_schema_extra={'embed': False}),) is not JSON serializable; excluding default from JSON schema [non-serializable-default]\n",
      "  warnings.warn(message, PydanticJsonSchemaWarning)\n"
     ]
    },
    {
     "data": {
      "text/html": [
       "<pre style=\"white-space:pre;overflow-x:auto;line-height:normal;font-family:Menlo,'DejaVu Sans Mono',consolas,'Courier New',monospace\"></pre>\n"
      ],
      "text/plain": []
     },
     "metadata": {},
     "output_type": "display_data"
    },
    {
     "data": {
      "text/html": [
       "<div>\n",
       "<style scoped>\n",
       "    .dataframe tbody tr th:only-of-type {\n",
       "        vertical-align: middle;\n",
       "    }\n",
       "\n",
       "    .dataframe tbody tr th {\n",
       "        vertical-align: top;\n",
       "    }\n",
       "\n",
       "    .dataframe thead th {\n",
       "        text-align: right;\n",
       "    }\n",
       "</style>\n",
       "<table border=\"1\" class=\"dataframe\">\n",
       "  <thead>\n",
       "    <tr style=\"text-align: right;\">\n",
       "      <th></th>\n",
       "      <th>id</th>\n",
       "      <th>type</th>\n",
       "      <th>name</th>\n",
       "      <th>description</th>\n",
       "      <th>age</th>\n",
       "    </tr>\n",
       "  </thead>\n",
       "  <tbody>\n",
       "    <tr>\n",
       "      <th>0</th>\n",
       "      <td>b9feedb2-5847-4aec-8c0a-11d050bfb67a</td>\n",
       "      <td>character</td>\n",
       "      <td>Bruce Wayne</td>\n",
       "      <td>Bruce Wayne is the billionaire owner and CEO o...</td>\n",
       "      <td>38</td>\n",
       "    </tr>\n",
       "    <tr>\n",
       "      <th>1</th>\n",
       "      <td>5c421997-8e2b-41ac-af8a-bad8181a3555</td>\n",
       "      <td>character</td>\n",
       "      <td>Dick Grayson</td>\n",
       "      <td>Dick Grayson is Bruce Wayne's first ward and l...</td>\n",
       "      <td>25</td>\n",
       "    </tr>\n",
       "    <tr>\n",
       "      <th>2</th>\n",
       "      <td>9ab8ac13-408b-4b9a-b418-fe48ae1af899</td>\n",
       "      <td>character</td>\n",
       "      <td>Barbara Gordon</td>\n",
       "      <td>Barbara Gordon is the daughter of Gotham City ...</td>\n",
       "      <td>29</td>\n",
       "    </tr>\n",
       "    <tr>\n",
       "      <th>3</th>\n",
       "      <td>34233dc3-b115-4f76-b648-35fa41e2cc3f</td>\n",
       "      <td>character</td>\n",
       "      <td>Selina Kyle</td>\n",
       "      <td>Selina Kyle, also known as Catwoman, is a skil...</td>\n",
       "      <td>35</td>\n",
       "    </tr>\n",
       "    <tr>\n",
       "      <th>4</th>\n",
       "      <td>180cfd37-efcb-4431-9334-c87e246030f6</td>\n",
       "      <td>character</td>\n",
       "      <td>Harvey Dent</td>\n",
       "      <td>Harvey Dent is a former district attorney of G...</td>\n",
       "      <td>42</td>\n",
       "    </tr>\n",
       "  </tbody>\n",
       "</table>\n",
       "</div>"
      ],
      "text/plain": [
       "\n",
       "                                     id       type            name  \\\n",
       "\u001b[1;36m0\u001b[0m  \u001b[93mb9feedb2-5847-4aec-8c0a-11d050bfb67a\u001b[0m  character     Bruce Wayne   \n",
       "\u001b[1;36m1\u001b[0m  \u001b[93m5c421997-8e2b-41ac-af8a-bad8181a3555\u001b[0m  character    Dick Grayson   \n",
       "\u001b[1;36m2\u001b[0m  \u001b[93m9ab8ac13-408b-4b9a-b418-fe48ae1af899\u001b[0m  character  Barbara Gordon   \n",
       "\u001b[1;36m3\u001b[0m  \u001b[93m34233dc3-b115-4f76-b648-35fa41e2cc3f\u001b[0m  character     Selina Kyle   \n",
       "\u001b[1;36m4\u001b[0m  \u001b[93m180cfd37-efcb-4431-9334-c87e246030f6\u001b[0m  character     Harvey Dent   \n",
       "\n",
       "                                         description  age  \n",
       "\u001b[1;36m0\u001b[0m  Bruce Wayne is the billionaire owner and CEO o\u001b[33m...\u001b[0m   \u001b[1;36m38\u001b[0m  \n",
       "\u001b[1;36m1\u001b[0m  Dick Grayson is Bruce Wayne's first ward and l\u001b[33m...\u001b[0m   \u001b[1;36m25\u001b[0m  \n",
       "\u001b[1;36m2\u001b[0m  Barbara Gordon is the daughter of Gotham City \u001b[33m...\u001b[0m   \u001b[1;36m29\u001b[0m  \n",
       "\u001b[1;36m3\u001b[0m  Selina Kyle, also known as Catwoman, is a skil\u001b[33m...\u001b[0m   \u001b[1;36m35\u001b[0m  \n",
       "\u001b[1;36m4\u001b[0m  Harvey Dent is a former district attorney of G\u001b[33m...\u001b[0m   \u001b[1;36m42\u001b[0m  "
      ]
     },
     "execution_count": 3,
     "metadata": {},
     "output_type": "execute_result"
    }
   ],
   "source": [
    "characters = prompt(\n",
    "    'Generate some characters from the Batman universe',\n",
    "    output=[Character],\n",
    ")\n",
    "\n",
    "characters"
   ]
  },
  {
   "cell_type": "markdown",
   "metadata": {},
   "source": [
    "If the output is a list, `prompt` returns a `Collection`, which extends `pd.DataFrame`. To extract the `Entity` representations, use the `objects` property.\n",
    "\n",
    "We can now store these generated objects as embeddings in a collection."
   ]
  },
  {
   "cell_type": "code",
   "execution_count": 4,
   "metadata": {},
   "outputs": [],
   "source": [
    "from promptx import store\n",
    "\n",
    "store(*characters.objects)"
   ]
  },
  {
   "cell_type": "markdown",
   "metadata": {},
   "source": [
    "This stores the object as an embedding, along with some metadata, in a vector database (ChromaDB by default). The process is quite simple, it embeds the whole object as a JSON string and each field individually. This allows us to query the database using any field in the object."
   ]
  },
  {
   "cell_type": "code",
   "execution_count": 5,
   "metadata": {},
   "outputs": [
    {
     "data": {
      "text/html": [
       "<pre style=\"white-space:pre;overflow-x:auto;line-height:normal;font-family:Menlo,'DejaVu Sans Mono',consolas,'Courier New',monospace\"></pre>\n"
      ],
      "text/plain": []
     },
     "metadata": {},
     "output_type": "display_data"
    },
    {
     "data": {
      "text/html": [
       "<div>\n",
       "<style scoped>\n",
       "    .dataframe tbody tr th:only-of-type {\n",
       "        vertical-align: middle;\n",
       "    }\n",
       "\n",
       "    .dataframe tbody tr th {\n",
       "        vertical-align: top;\n",
       "    }\n",
       "\n",
       "    .dataframe thead th {\n",
       "        text-align: right;\n",
       "    }\n",
       "</style>\n",
       "<table border=\"1\" class=\"dataframe\">\n",
       "  <thead>\n",
       "    <tr style=\"text-align: right;\">\n",
       "      <th></th>\n",
       "      <th>id</th>\n",
       "      <th>type</th>\n",
       "      <th>name</th>\n",
       "      <th>description</th>\n",
       "      <th>age</th>\n",
       "    </tr>\n",
       "  </thead>\n",
       "  <tbody>\n",
       "    <tr>\n",
       "      <th>0</th>\n",
       "      <td>b9feedb2-5847-4aec-8c0a-11d050bfb67a</td>\n",
       "      <td>character</td>\n",
       "      <td>Bruce Wayne</td>\n",
       "      <td>Bruce Wayne is the billionaire owner and CEO o...</td>\n",
       "      <td>38</td>\n",
       "    </tr>\n",
       "    <tr>\n",
       "      <th>1</th>\n",
       "      <td>5c421997-8e2b-41ac-af8a-bad8181a3555</td>\n",
       "      <td>character</td>\n",
       "      <td>Dick Grayson</td>\n",
       "      <td>Dick Grayson is Bruce Wayne's first ward and l...</td>\n",
       "      <td>25</td>\n",
       "    </tr>\n",
       "    <tr>\n",
       "      <th>2</th>\n",
       "      <td>9ab8ac13-408b-4b9a-b418-fe48ae1af899</td>\n",
       "      <td>character</td>\n",
       "      <td>Barbara Gordon</td>\n",
       "      <td>Barbara Gordon is the daughter of Gotham City ...</td>\n",
       "      <td>29</td>\n",
       "    </tr>\n",
       "    <tr>\n",
       "      <th>3</th>\n",
       "      <td>34233dc3-b115-4f76-b648-35fa41e2cc3f</td>\n",
       "      <td>character</td>\n",
       "      <td>Selina Kyle</td>\n",
       "      <td>Selina Kyle, also known as Catwoman, is a skil...</td>\n",
       "      <td>35</td>\n",
       "    </tr>\n",
       "    <tr>\n",
       "      <th>4</th>\n",
       "      <td>180cfd37-efcb-4431-9334-c87e246030f6</td>\n",
       "      <td>character</td>\n",
       "      <td>Harvey Dent</td>\n",
       "      <td>Harvey Dent is a former district attorney of G...</td>\n",
       "      <td>42</td>\n",
       "    </tr>\n",
       "  </tbody>\n",
       "</table>\n",
       "</div>"
      ],
      "text/plain": [
       "\n",
       "                                     id       type            name  \\\n",
       "\u001b[1;36m0\u001b[0m  \u001b[93mb9feedb2-5847-4aec-8c0a-11d050bfb67a\u001b[0m  character     Bruce Wayne   \n",
       "\u001b[1;36m1\u001b[0m  \u001b[93m5c421997-8e2b-41ac-af8a-bad8181a3555\u001b[0m  character    Dick Grayson   \n",
       "\u001b[1;36m2\u001b[0m  \u001b[93m9ab8ac13-408b-4b9a-b418-fe48ae1af899\u001b[0m  character  Barbara Gordon   \n",
       "\u001b[1;36m3\u001b[0m  \u001b[93m34233dc3-b115-4f76-b648-35fa41e2cc3f\u001b[0m  character     Selina Kyle   \n",
       "\u001b[1;36m4\u001b[0m  \u001b[93m180cfd37-efcb-4431-9334-c87e246030f6\u001b[0m  character     Harvey Dent   \n",
       "\n",
       "                                         description  age  \n",
       "\u001b[1;36m0\u001b[0m  Bruce Wayne is the billionaire owner and CEO o\u001b[33m...\u001b[0m   \u001b[1;36m38\u001b[0m  \n",
       "\u001b[1;36m1\u001b[0m  Dick Grayson is Bruce Wayne's first ward and l\u001b[33m...\u001b[0m   \u001b[1;36m25\u001b[0m  \n",
       "\u001b[1;36m2\u001b[0m  Barbara Gordon is the daughter of Gotham City \u001b[33m...\u001b[0m   \u001b[1;36m29\u001b[0m  \n",
       "\u001b[1;36m3\u001b[0m  Selina Kyle, also known as Catwoman, is a skil\u001b[33m...\u001b[0m   \u001b[1;36m35\u001b[0m  \n",
       "\u001b[1;36m4\u001b[0m  Harvey Dent is a former district attorney of G\u001b[33m...\u001b[0m   \u001b[1;36m42\u001b[0m  "
      ]
     },
     "execution_count": 5,
     "metadata": {},
     "output_type": "execute_result"
    }
   ],
   "source": [
    "from promptx import query\n",
    "\n",
    "query()"
   ]
  },
  {
   "cell_type": "markdown",
   "metadata": {},
   "source": [
    "Now let's generate some more characters and add them to the collection. We'll first get any existing characters and extract their names, which we can pass to the prompt to avoid generating duplicates. Any characters generated will be added the list during iteration. Finally, we'll store all the generated characters in the collection."
   ]
  },
  {
   "cell_type": "code",
   "execution_count": 6,
   "metadata": {},
   "outputs": [
    {
     "name": "stderr",
     "output_type": "stream",
     "text": [
      "/Users/richardlayte/Work/layterz/promptx/venv/lib/python3.10/site-packages/pydantic/json_schema.py:2080: PydanticJsonSchemaWarning: Default value (FieldInfo(annotation=NoneType, required=True, json_schema_extra={'embed': False}),) is not JSON serializable; excluding default from JSON schema [non-serializable-default]\n",
      "  warnings.warn(message, PydanticJsonSchemaWarning)\n",
      "/Users/richardlayte/Work/layterz/promptx/venv/lib/python3.10/site-packages/pydantic/json_schema.py:2080: PydanticJsonSchemaWarning: Default value (FieldInfo(annotation=NoneType, required=True, json_schema_extra={'embed': False}),) is not JSON serializable; excluding default from JSON schema [non-serializable-default]\n",
      "  warnings.warn(message, PydanticJsonSchemaWarning)\n",
      "/Users/richardlayte/Work/layterz/promptx/venv/lib/python3.10/site-packages/pydantic/json_schema.py:2080: PydanticJsonSchemaWarning: Default value (FieldInfo(annotation=NoneType, required=True, json_schema_extra={'embed': False}),) is not JSON serializable; excluding default from JSON schema [non-serializable-default]\n",
      "  warnings.warn(message, PydanticJsonSchemaWarning)\n"
     ]
    },
    {
     "data": {
      "text/html": [
       "<pre style=\"white-space:pre;overflow-x:auto;line-height:normal;font-family:Menlo,'DejaVu Sans Mono',consolas,'Courier New',monospace\"></pre>\n"
      ],
      "text/plain": []
     },
     "metadata": {},
     "output_type": "display_data"
    },
    {
     "data": {
      "text/html": [
       "<div>\n",
       "<style scoped>\n",
       "    .dataframe tbody tr th:only-of-type {\n",
       "        vertical-align: middle;\n",
       "    }\n",
       "\n",
       "    .dataframe tbody tr th {\n",
       "        vertical-align: top;\n",
       "    }\n",
       "\n",
       "    .dataframe thead th {\n",
       "        text-align: right;\n",
       "    }\n",
       "</style>\n",
       "<table border=\"1\" class=\"dataframe\">\n",
       "  <thead>\n",
       "    <tr style=\"text-align: right;\">\n",
       "      <th></th>\n",
       "      <th>id</th>\n",
       "      <th>type</th>\n",
       "      <th>name</th>\n",
       "      <th>description</th>\n",
       "      <th>age</th>\n",
       "    </tr>\n",
       "  </thead>\n",
       "  <tbody>\n",
       "    <tr>\n",
       "      <th>0</th>\n",
       "      <td>b9feedb2-5847-4aec-8c0a-11d050bfb67a</td>\n",
       "      <td>character</td>\n",
       "      <td>Bruce Wayne</td>\n",
       "      <td>Bruce Wayne is the billionaire owner and CEO o...</td>\n",
       "      <td>38</td>\n",
       "    </tr>\n",
       "    <tr>\n",
       "      <th>1</th>\n",
       "      <td>5c421997-8e2b-41ac-af8a-bad8181a3555</td>\n",
       "      <td>character</td>\n",
       "      <td>Dick Grayson</td>\n",
       "      <td>Dick Grayson is Bruce Wayne's first ward and l...</td>\n",
       "      <td>25</td>\n",
       "    </tr>\n",
       "    <tr>\n",
       "      <th>2</th>\n",
       "      <td>9ab8ac13-408b-4b9a-b418-fe48ae1af899</td>\n",
       "      <td>character</td>\n",
       "      <td>Barbara Gordon</td>\n",
       "      <td>Barbara Gordon is the daughter of Gotham City ...</td>\n",
       "      <td>29</td>\n",
       "    </tr>\n",
       "    <tr>\n",
       "      <th>3</th>\n",
       "      <td>34233dc3-b115-4f76-b648-35fa41e2cc3f</td>\n",
       "      <td>character</td>\n",
       "      <td>Selina Kyle</td>\n",
       "      <td>Selina Kyle, also known as Catwoman, is a skil...</td>\n",
       "      <td>35</td>\n",
       "    </tr>\n",
       "    <tr>\n",
       "      <th>4</th>\n",
       "      <td>180cfd37-efcb-4431-9334-c87e246030f6</td>\n",
       "      <td>character</td>\n",
       "      <td>Harvey Dent</td>\n",
       "      <td>Harvey Dent is a former district attorney of G...</td>\n",
       "      <td>42</td>\n",
       "    </tr>\n",
       "    <tr>\n",
       "      <th>5</th>\n",
       "      <td>2942e41d-6df0-4824-859c-0a6c6134ad16</td>\n",
       "      <td>character</td>\n",
       "      <td>Cassandra Kane</td>\n",
       "      <td>Cassandra Kane is a highly skilled martial art...</td>\n",
       "      <td>20</td>\n",
       "    </tr>\n",
       "    <tr>\n",
       "      <th>6</th>\n",
       "      <td>00a2876a-7fd7-4db1-8396-d1b131f0a22d</td>\n",
       "      <td>character</td>\n",
       "      <td>Lucas Fox</td>\n",
       "      <td>Lucas Fox is a technological genius and the so...</td>\n",
       "      <td>25</td>\n",
       "    </tr>\n",
       "    <tr>\n",
       "      <th>7</th>\n",
       "      <td>9bd5d62d-add1-4b24-a344-acd69ed36b3b</td>\n",
       "      <td>character</td>\n",
       "      <td>Stephanie Brown</td>\n",
       "      <td>Stephanie Brown is a skilled acrobat and fight...</td>\n",
       "      <td>22</td>\n",
       "    </tr>\n",
       "    <tr>\n",
       "      <th>8</th>\n",
       "      <td>108f5dc3-9575-4eda-9fee-e30bcb67fae2</td>\n",
       "      <td>character</td>\n",
       "      <td>Kate Kane</td>\n",
       "      <td>Kate Kane is a wealthy heiress and skilled fig...</td>\n",
       "      <td>28</td>\n",
       "    </tr>\n",
       "    <tr>\n",
       "      <th>9</th>\n",
       "      <td>fc672ca6-78b3-424b-98b3-5d9e2201384a</td>\n",
       "      <td>character</td>\n",
       "      <td>Duke Thomas</td>\n",
       "      <td>Duke Thomas is a young man who eventually beco...</td>\n",
       "      <td>19</td>\n",
       "    </tr>\n",
       "    <tr>\n",
       "      <th>10</th>\n",
       "      <td>2726f538-da77-4a74-9d91-c16b72e58635</td>\n",
       "      <td>character</td>\n",
       "      <td>Alexis Stone</td>\n",
       "      <td>Alexis Stone is a tough and intelligent detect...</td>\n",
       "      <td>35</td>\n",
       "    </tr>\n",
       "    <tr>\n",
       "      <th>11</th>\n",
       "      <td>ab351000-b62f-41a6-8d23-8380296a0f00</td>\n",
       "      <td>character</td>\n",
       "      <td>Evelyn Pierce</td>\n",
       "      <td>Evelyn Pierce is a talented hacker and member ...</td>\n",
       "      <td>28</td>\n",
       "    </tr>\n",
       "    <tr>\n",
       "      <th>12</th>\n",
       "      <td>74f86d95-5198-4163-bbce-56ee41de5990</td>\n",
       "      <td>character</td>\n",
       "      <td>Oliver Marks</td>\n",
       "      <td>Oliver Marks is a skilled martial artist who j...</td>\n",
       "      <td>30</td>\n",
       "    </tr>\n",
       "    <tr>\n",
       "      <th>13</th>\n",
       "      <td>17507a2f-2377-4517-9130-d0769c856e2d</td>\n",
       "      <td>character</td>\n",
       "      <td>Grace Ramirez</td>\n",
       "      <td>Grace Ramirez is a former police officer who w...</td>\n",
       "      <td>32</td>\n",
       "    </tr>\n",
       "    <tr>\n",
       "      <th>14</th>\n",
       "      <td>df35f34e-c84e-45c3-be74-d8fd9bf770dd</td>\n",
       "      <td>character</td>\n",
       "      <td>Nora Wilson</td>\n",
       "      <td>Nora Wilson is a brilliant scientist who becam...</td>\n",
       "      <td>40</td>\n",
       "    </tr>\n",
       "    <tr>\n",
       "      <th>15</th>\n",
       "      <td>06b5d411-0399-49c6-b140-e6367768457a</td>\n",
       "      <td>character</td>\n",
       "      <td>Ace Striker</td>\n",
       "      <td>Ace Striker is a skilled marksman and vigilant...</td>\n",
       "      <td>30</td>\n",
       "    </tr>\n",
       "    <tr>\n",
       "      <th>16</th>\n",
       "      <td>5032325e-719a-4bfa-8960-4415baa2c3cf</td>\n",
       "      <td>character</td>\n",
       "      <td>Luna Shadow</td>\n",
       "      <td>Luna Shadow is a mysterious and agile characte...</td>\n",
       "      <td>25</td>\n",
       "    </tr>\n",
       "    <tr>\n",
       "      <th>17</th>\n",
       "      <td>c5e92c4b-e27d-4bec-86f0-df1f58653aa0</td>\n",
       "      <td>character</td>\n",
       "      <td>Blaze Fury</td>\n",
       "      <td>Blaze Fury is a fire-wielding vigilante who ha...</td>\n",
       "      <td>35</td>\n",
       "    </tr>\n",
       "  </tbody>\n",
       "</table>\n",
       "</div>"
      ],
      "text/plain": [
       "\n",
       "                                      id       type             name  \\\n",
       "\u001b[1;36m0\u001b[0m   \u001b[93mb9feedb2-5847-4aec-8c0a-11d050bfb67a\u001b[0m  character      Bruce Wayne   \n",
       "\u001b[1;36m1\u001b[0m   \u001b[93m5c421997-8e2b-41ac-af8a-bad8181a3555\u001b[0m  character     Dick Grayson   \n",
       "\u001b[1;36m2\u001b[0m   \u001b[93m9ab8ac13-408b-4b9a-b418-fe48ae1af899\u001b[0m  character   Barbara Gordon   \n",
       "\u001b[1;36m3\u001b[0m   \u001b[93m34233dc3-b115-4f76-b648-35fa41e2cc3f\u001b[0m  character      Selina Kyle   \n",
       "\u001b[1;36m4\u001b[0m   \u001b[93m180cfd37-efcb-4431-9334-c87e246030f6\u001b[0m  character      Harvey Dent   \n",
       "\u001b[1;36m5\u001b[0m   \u001b[93m2942e41d-6df0-4824-859c-0a6c6134ad16\u001b[0m  character   Cassandra Kane   \n",
       "\u001b[1;36m6\u001b[0m   \u001b[93m00a2876a-7fd7-4db1-8396-d1b131f0a22d\u001b[0m  character        Lucas Fox   \n",
       "\u001b[1;36m7\u001b[0m   \u001b[93m9bd5d62d-add1-4b24-a344-acd69ed36b3b\u001b[0m  character  Stephanie Brown   \n",
       "\u001b[1;36m8\u001b[0m   \u001b[93m108f5dc3-9575-4eda-9fee-e30bcb67fae2\u001b[0m  character        Kate Kane   \n",
       "\u001b[1;36m9\u001b[0m   \u001b[93mfc672ca6-78b3-424b-98b3-5d9e2201384a\u001b[0m  character      Duke Thomas   \n",
       "\u001b[1;36m10\u001b[0m  \u001b[93m2726f538-da77-4a74-9d91-c16b72e58635\u001b[0m  character     Alexis Stone   \n",
       "\u001b[1;36m11\u001b[0m  \u001b[93mab351000-b62f-41a6-8d23-8380296a0f00\u001b[0m  character    Evelyn Pierce   \n",
       "\u001b[1;36m12\u001b[0m  \u001b[93m74f86d95-5198-4163-bbce-56ee41de5990\u001b[0m  character     Oliver Marks   \n",
       "\u001b[1;36m13\u001b[0m  \u001b[93m17507a2f-2377-4517-9130-d0769c856e2d\u001b[0m  character    Grace Ramirez   \n",
       "\u001b[1;36m14\u001b[0m  \u001b[93mdf35f34e-c84e-45c3-be74-d8fd9bf770dd\u001b[0m  character      Nora Wilson   \n",
       "\u001b[1;36m15\u001b[0m  \u001b[93m06b5d411-0399-49c6-b140-e6367768457a\u001b[0m  character      Ace Striker   \n",
       "\u001b[1;36m16\u001b[0m  \u001b[93m5032325e-719a-4bfa-8960-4415baa2c3cf\u001b[0m  character      Luna Shadow   \n",
       "\u001b[1;36m17\u001b[0m  \u001b[93mc5e92c4b-e27d-4bec-86f0-df1f58653aa0\u001b[0m  character       Blaze Fury   \n",
       "\n",
       "                                          description  age  \n",
       "\u001b[1;36m0\u001b[0m   Bruce Wayne is the billionaire owner and CEO o\u001b[33m...\u001b[0m   \u001b[1;36m38\u001b[0m  \n",
       "\u001b[1;36m1\u001b[0m   Dick Grayson is Bruce Wayne's first ward and l\u001b[33m...\u001b[0m   \u001b[1;36m25\u001b[0m  \n",
       "\u001b[1;36m2\u001b[0m   Barbara Gordon is the daughter of Gotham City \u001b[33m...\u001b[0m   \u001b[1;36m29\u001b[0m  \n",
       "\u001b[1;36m3\u001b[0m   Selina Kyle, also known as Catwoman, is a skil\u001b[33m...\u001b[0m   \u001b[1;36m35\u001b[0m  \n",
       "\u001b[1;36m4\u001b[0m   Harvey Dent is a former district attorney of G\u001b[33m...\u001b[0m   \u001b[1;36m42\u001b[0m  \n",
       "\u001b[1;36m5\u001b[0m   Cassandra Kane is a highly skilled martial art\u001b[33m...\u001b[0m   \u001b[1;36m20\u001b[0m  \n",
       "\u001b[1;36m6\u001b[0m   Lucas Fox is a technological genius and the so\u001b[33m...\u001b[0m   \u001b[1;36m25\u001b[0m  \n",
       "\u001b[1;36m7\u001b[0m   Stephanie Brown is a skilled acrobat and fight\u001b[33m...\u001b[0m   \u001b[1;36m22\u001b[0m  \n",
       "\u001b[1;36m8\u001b[0m   Kate Kane is a wealthy heiress and skilled fig\u001b[33m...\u001b[0m   \u001b[1;36m28\u001b[0m  \n",
       "\u001b[1;36m9\u001b[0m   Duke Thomas is a young man who eventually beco\u001b[33m...\u001b[0m   \u001b[1;36m19\u001b[0m  \n",
       "\u001b[1;36m10\u001b[0m  Alexis Stone is a tough and intelligent detect\u001b[33m...\u001b[0m   \u001b[1;36m35\u001b[0m  \n",
       "\u001b[1;36m11\u001b[0m  Evelyn Pierce is a talented hacker and member \u001b[33m...\u001b[0m   \u001b[1;36m28\u001b[0m  \n",
       "\u001b[1;36m12\u001b[0m  Oliver Marks is a skilled martial artist who j\u001b[33m...\u001b[0m   \u001b[1;36m30\u001b[0m  \n",
       "\u001b[1;36m13\u001b[0m  Grace Ramirez is a former police officer who w\u001b[33m...\u001b[0m   \u001b[1;36m32\u001b[0m  \n",
       "\u001b[1;36m14\u001b[0m  Nora Wilson is a brilliant scientist who becam\u001b[33m...\u001b[0m   \u001b[1;36m40\u001b[0m  \n",
       "\u001b[1;36m15\u001b[0m  Ace Striker is a skilled marksman and vigilant\u001b[33m...\u001b[0m   \u001b[1;36m30\u001b[0m  \n",
       "\u001b[1;36m16\u001b[0m  Luna Shadow is a mysterious and agile characte\u001b[33m...\u001b[0m   \u001b[1;36m25\u001b[0m  \n",
       "\u001b[1;36m17\u001b[0m  Blaze Fury is a fire-wielding vigilante who ha\u001b[33m...\u001b[0m   \u001b[1;36m35\u001b[0m  "
      ]
     },
     "execution_count": 6,
     "metadata": {},
     "output_type": "execute_result"
    }
   ],
   "source": [
    "n = 3\n",
    "characters = query().objects\n",
    "\n",
    "for _ in range(n):\n",
    "    characters += prompt(\n",
    "        '''\n",
    "        Generate a list of new characters from the Batman universe.\n",
    "        Don't use any of the existing characters.\n",
    "        ''',\n",
    "        input = {\n",
    "            'existing_characters': [c.name for c in characters],\n",
    "        },\n",
    "        output=[Character],\n",
    "    ).objects\n",
    "\n",
    "store(*characters)\n",
    "query()"
   ]
  },
  {
   "cell_type": "markdown",
   "metadata": {},
   "source": [
    "Now that the characters are embedded, we can query the collection."
   ]
  },
  {
   "cell_type": "code",
   "execution_count": 7,
   "metadata": {},
   "outputs": [
    {
     "data": {
      "text/html": [
       "<pre style=\"white-space:pre;overflow-x:auto;line-height:normal;font-family:Menlo,'DejaVu Sans Mono',consolas,'Courier New',monospace\"></pre>\n"
      ],
      "text/plain": []
     },
     "metadata": {},
     "output_type": "display_data"
    },
    {
     "data": {
      "text/html": [
       "<div>\n",
       "<style scoped>\n",
       "    .dataframe tbody tr th:only-of-type {\n",
       "        vertical-align: middle;\n",
       "    }\n",
       "\n",
       "    .dataframe tbody tr th {\n",
       "        vertical-align: top;\n",
       "    }\n",
       "\n",
       "    .dataframe thead th {\n",
       "        text-align: right;\n",
       "    }\n",
       "</style>\n",
       "<table border=\"1\" class=\"dataframe\">\n",
       "  <thead>\n",
       "    <tr style=\"text-align: right;\">\n",
       "      <th></th>\n",
       "      <th>id</th>\n",
       "      <th>type</th>\n",
       "      <th>name</th>\n",
       "      <th>description</th>\n",
       "      <th>age</th>\n",
       "    </tr>\n",
       "  </thead>\n",
       "  <tbody>\n",
       "    <tr>\n",
       "      <th>0</th>\n",
       "      <td>180cfd37-efcb-4431-9334-c87e246030f6</td>\n",
       "      <td>character</td>\n",
       "      <td>Harvey Dent</td>\n",
       "      <td>Harvey Dent is a former district attorney of G...</td>\n",
       "      <td>42</td>\n",
       "    </tr>\n",
       "    <tr>\n",
       "      <th>1</th>\n",
       "      <td>17507a2f-2377-4517-9130-d0769c856e2d</td>\n",
       "      <td>character</td>\n",
       "      <td>Grace Ramirez</td>\n",
       "      <td>Grace Ramirez is a former police officer who w...</td>\n",
       "      <td>32</td>\n",
       "    </tr>\n",
       "    <tr>\n",
       "      <th>2</th>\n",
       "      <td>74f86d95-5198-4163-bbce-56ee41de5990</td>\n",
       "      <td>character</td>\n",
       "      <td>Oliver Marks</td>\n",
       "      <td>Oliver Marks is a skilled martial artist who j...</td>\n",
       "      <td>30</td>\n",
       "    </tr>\n",
       "    <tr>\n",
       "      <th>3</th>\n",
       "      <td>2726f538-da77-4a74-9d91-c16b72e58635</td>\n",
       "      <td>character</td>\n",
       "      <td>Alexis Stone</td>\n",
       "      <td>Alexis Stone is a tough and intelligent detect...</td>\n",
       "      <td>35</td>\n",
       "    </tr>\n",
       "    <tr>\n",
       "      <th>4</th>\n",
       "      <td>5032325e-719a-4bfa-8960-4415baa2c3cf</td>\n",
       "      <td>character</td>\n",
       "      <td>Luna Shadow</td>\n",
       "      <td>Luna Shadow is a mysterious and agile characte...</td>\n",
       "      <td>25</td>\n",
       "    </tr>\n",
       "    <tr>\n",
       "      <th>5</th>\n",
       "      <td>34233dc3-b115-4f76-b648-35fa41e2cc3f</td>\n",
       "      <td>character</td>\n",
       "      <td>Selina Kyle</td>\n",
       "      <td>Selina Kyle, also known as Catwoman, is a skil...</td>\n",
       "      <td>35</td>\n",
       "    </tr>\n",
       "    <tr>\n",
       "      <th>6</th>\n",
       "      <td>ab351000-b62f-41a6-8d23-8380296a0f00</td>\n",
       "      <td>character</td>\n",
       "      <td>Evelyn Pierce</td>\n",
       "      <td>Evelyn Pierce is a talented hacker and member ...</td>\n",
       "      <td>28</td>\n",
       "    </tr>\n",
       "  </tbody>\n",
       "</table>\n",
       "</div>"
      ],
      "text/plain": [
       "\n",
       "                                     id       type           name  \\\n",
       "\u001b[1;36m0\u001b[0m  \u001b[93m180cfd37-efcb-4431-9334-c87e246030f6\u001b[0m  character    Harvey Dent   \n",
       "\u001b[1;36m1\u001b[0m  \u001b[93m17507a2f-2377-4517-9130-d0769c856e2d\u001b[0m  character  Grace Ramirez   \n",
       "\u001b[1;36m2\u001b[0m  \u001b[93m74f86d95-5198-4163-bbce-56ee41de5990\u001b[0m  character   Oliver Marks   \n",
       "\u001b[1;36m3\u001b[0m  \u001b[93m2726f538-da77-4a74-9d91-c16b72e58635\u001b[0m  character   Alexis Stone   \n",
       "\u001b[1;36m4\u001b[0m  \u001b[93m5032325e-719a-4bfa-8960-4415baa2c3cf\u001b[0m  character    Luna Shadow   \n",
       "\u001b[1;36m5\u001b[0m  \u001b[93m34233dc3-b115-4f76-b648-35fa41e2cc3f\u001b[0m  character    Selina Kyle   \n",
       "\u001b[1;36m6\u001b[0m  \u001b[93mab351000-b62f-41a6-8d23-8380296a0f00\u001b[0m  character  Evelyn Pierce   \n",
       "\n",
       "                                         description  age  \n",
       "\u001b[1;36m0\u001b[0m  Harvey Dent is a former district attorney of G\u001b[33m...\u001b[0m   \u001b[1;36m42\u001b[0m  \n",
       "\u001b[1;36m1\u001b[0m  Grace Ramirez is a former police officer who w\u001b[33m...\u001b[0m   \u001b[1;36m32\u001b[0m  \n",
       "\u001b[1;36m2\u001b[0m  Oliver Marks is a skilled martial artist who j\u001b[33m...\u001b[0m   \u001b[1;36m30\u001b[0m  \n",
       "\u001b[1;36m3\u001b[0m  Alexis Stone is a tough and intelligent detect\u001b[33m...\u001b[0m   \u001b[1;36m35\u001b[0m  \n",
       "\u001b[1;36m4\u001b[0m  Luna Shadow is a mysterious and agile characte\u001b[33m...\u001b[0m   \u001b[1;36m25\u001b[0m  \n",
       "\u001b[1;36m5\u001b[0m  Selina Kyle, also known as Catwoman, is a skil\u001b[33m...\u001b[0m   \u001b[1;36m35\u001b[0m  \n",
       "\u001b[1;36m6\u001b[0m  Evelyn Pierce is a talented hacker and member \u001b[33m...\u001b[0m   \u001b[1;36m28\u001b[0m  "
      ]
     },
     "execution_count": 7,
     "metadata": {},
     "output_type": "execute_result"
    }
   ],
   "source": [
    "villains = query('they are a villain')\n",
    "villains"
   ]
  },
  {
   "cell_type": "markdown",
   "metadata": {},
   "source": [
    "This compares the query text with the stored objects, returning results that are closest in vector space.\n",
    "\n",
    "*Note: the effectiveness of embedding queries will depend on what data has been embedded. In this case, ChatGPT will know some details about the generated characters and so does a decent job on this data. For other data, you may find generating synthetic intermediary data to be helpful. E.g. generating `thoughts` and/or `quotes` about a set of documents.*"
   ]
  },
  {
   "cell_type": "markdown",
   "metadata": {},
   "source": [
    "Because `Collection` extends `pd.DataFrame`, we can use all the usual Pandas methods to filter and sort the results."
   ]
  },
  {
   "cell_type": "code",
   "execution_count": 8,
   "metadata": {},
   "outputs": [
    {
     "data": {
      "text/html": [
       "<pre style=\"white-space:pre;overflow-x:auto;line-height:normal;font-family:Menlo,'DejaVu Sans Mono',consolas,'Courier New',monospace\"></pre>\n"
      ],
      "text/plain": []
     },
     "metadata": {},
     "output_type": "display_data"
    },
    {
     "data": {
      "text/html": [
       "<div>\n",
       "<style scoped>\n",
       "    .dataframe tbody tr th:only-of-type {\n",
       "        vertical-align: middle;\n",
       "    }\n",
       "\n",
       "    .dataframe tbody tr th {\n",
       "        vertical-align: top;\n",
       "    }\n",
       "\n",
       "    .dataframe thead th {\n",
       "        text-align: right;\n",
       "    }\n",
       "</style>\n",
       "<table border=\"1\" class=\"dataframe\">\n",
       "  <thead>\n",
       "    <tr style=\"text-align: right;\">\n",
       "      <th></th>\n",
       "      <th>id</th>\n",
       "      <th>type</th>\n",
       "      <th>name</th>\n",
       "      <th>description</th>\n",
       "      <th>age</th>\n",
       "    </tr>\n",
       "  </thead>\n",
       "  <tbody>\n",
       "    <tr>\n",
       "      <th>4</th>\n",
       "      <td>5032325e-719a-4bfa-8960-4415baa2c3cf</td>\n",
       "      <td>character</td>\n",
       "      <td>Luna Shadow</td>\n",
       "      <td>Luna Shadow is a mysterious and agile characte...</td>\n",
       "      <td>25</td>\n",
       "    </tr>\n",
       "    <tr>\n",
       "      <th>6</th>\n",
       "      <td>ab351000-b62f-41a6-8d23-8380296a0f00</td>\n",
       "      <td>character</td>\n",
       "      <td>Evelyn Pierce</td>\n",
       "      <td>Evelyn Pierce is a talented hacker and member ...</td>\n",
       "      <td>28</td>\n",
       "    </tr>\n",
       "  </tbody>\n",
       "</table>\n",
       "</div>"
      ],
      "text/plain": [
       "\n",
       "                                     id       type           name  \\\n",
       "\u001b[1;36m4\u001b[0m  \u001b[93m5032325e-719a-4bfa-8960-4415baa2c3cf\u001b[0m  character    Luna Shadow   \n",
       "\u001b[1;36m6\u001b[0m  \u001b[93mab351000-b62f-41a6-8d23-8380296a0f00\u001b[0m  character  Evelyn Pierce   \n",
       "\n",
       "                                         description  age  \n",
       "\u001b[1;36m4\u001b[0m  Luna Shadow is a mysterious and agile characte\u001b[33m...\u001b[0m   \u001b[1;36m25\u001b[0m  \n",
       "\u001b[1;36m6\u001b[0m  Evelyn Pierce is a talented hacker and member \u001b[33m...\u001b[0m   \u001b[1;36m28\u001b[0m  "
      ]
     },
     "execution_count": 8,
     "metadata": {},
     "output_type": "execute_result"
    }
   ],
   "source": [
    "villains[villains.age < 30]"
   ]
  },
  {
   "cell_type": "markdown",
   "metadata": {},
   "source": [
    "Relationships can be defined by setting the field to a type which subclasses `Entity` (or a list of that type). Internally, this is stored as a query and then loaded when the field is accessed from the database."
   ]
  },
  {
   "cell_type": "code",
   "execution_count": 9,
   "metadata": {},
   "outputs": [
    {
     "name": "stderr",
     "output_type": "stream",
     "text": [
      "/Users/richardlayte/Work/layterz/promptx/venv/lib/python3.10/site-packages/pydantic/json_schema.py:2080: PydanticJsonSchemaWarning: Default value (FieldInfo(annotation=NoneType, required=True, json_schema_extra={'embed': False}),) is not JSON serializable; excluding default from JSON schema [non-serializable-default]\n",
      "  warnings.warn(message, PydanticJsonSchemaWarning)\n"
     ]
    },
    {
     "data": {
      "text/html": [
       "<pre style=\"white-space:pre;overflow-x:auto;line-height:normal;font-family:Menlo,'DejaVu Sans Mono',consolas,'Courier New',monospace\"></pre>\n"
      ],
      "text/plain": []
     },
     "metadata": {},
     "output_type": "display_data"
    },
    {
     "data": {
      "text/html": [
       "<div>\n",
       "<style scoped>\n",
       "    .dataframe tbody tr th:only-of-type {\n",
       "        vertical-align: middle;\n",
       "    }\n",
       "\n",
       "    .dataframe tbody tr th {\n",
       "        vertical-align: top;\n",
       "    }\n",
       "\n",
       "    .dataframe thead th {\n",
       "        text-align: right;\n",
       "    }\n",
       "</style>\n",
       "<table border=\"1\" class=\"dataframe\">\n",
       "  <thead>\n",
       "    <tr style=\"text-align: right;\">\n",
       "      <th></th>\n",
       "      <th>id</th>\n",
       "      <th>type</th>\n",
       "      <th>title</th>\n",
       "      <th>description</th>\n",
       "      <th>characters</th>\n",
       "    </tr>\n",
       "  </thead>\n",
       "  <tbody>\n",
       "    <tr>\n",
       "      <th>0</th>\n",
       "      <td>b1f20f48-d998-45ec-9154-685ec0090cc7</td>\n",
       "      <td>storyidea</td>\n",
       "      <td>The Cat and the Shadow</td>\n",
       "      <td>Selina Kyle, aka Catwoman, teams up with Luna ...</td>\n",
       "      <td>[{'id': '34233dc3-b115-4f76-b648-35fa41e2cc3f'...</td>\n",
       "    </tr>\n",
       "    <tr>\n",
       "      <th>1</th>\n",
       "      <td>70f5ce7d-ec1e-4191-995f-23ec13bf0888</td>\n",
       "      <td>storyidea</td>\n",
       "      <td>The Vigilante Cop</td>\n",
       "      <td>Grace Ramirez, a former police officer turned ...</td>\n",
       "      <td>[{'id': '34233dc3-b115-4f76-b648-35fa41e2cc3f'...</td>\n",
       "    </tr>\n",
       "    <tr>\n",
       "      <th>2</th>\n",
       "      <td>7f21519f-0752-4c5c-999a-6f2c1d845538</td>\n",
       "      <td>storyidea</td>\n",
       "      <td>Shadows of Gotham</td>\n",
       "      <td>Selina Kyle, Grace Ramirez, and Luna Shadow jo...</td>\n",
       "      <td>[{'id': '34233dc3-b115-4f76-b648-35fa41e2cc3f'...</td>\n",
       "    </tr>\n",
       "  </tbody>\n",
       "</table>\n",
       "</div>"
      ],
      "text/plain": [
       "\n",
       "                                     id       type                   title  \\\n",
       "\u001b[1;36m0\u001b[0m  \u001b[93mb1f20f48-d998-45ec-9154-685ec0090cc7\u001b[0m  storyidea  The Cat and the Shadow   \n",
       "\u001b[1;36m1\u001b[0m  \u001b[93m70f5ce7d-ec1e-4191-995f-23ec13bf0888\u001b[0m  storyidea       The Vigilante Cop   \n",
       "\u001b[1;36m2\u001b[0m  \u001b[93m7f21519f-0752-4c5c-999a-6f2c1d845538\u001b[0m  storyidea       Shadows of Gotham   \n",
       "\n",
       "                                         description  \\\n",
       "\u001b[1;36m0\u001b[0m  Selina Kyle, aka Catwoman, teams up with Luna \u001b[33m...\u001b[0m   \n",
       "\u001b[1;36m1\u001b[0m  Grace Ramirez, a former police officer turned \u001b[33m...\u001b[0m   \n",
       "\u001b[1;36m2\u001b[0m  Selina Kyle, Grace Ramirez, and Luna Shadow jo\u001b[33m...\u001b[0m   \n",
       "\n",
       "                                          characters  \n",
       "\u001b[1;36m0\u001b[0m  \u001b[1m[\u001b[0m\u001b[1m{\u001b[0m\u001b[32m'id'\u001b[0m: \u001b[32m'34233dc3-b115-4f76-b648-35fa41e2cc3f'\u001b[0m\u001b[33m...\u001b[0m  \n",
       "\u001b[1;36m1\u001b[0m  \u001b[1m[\u001b[0m\u001b[1m{\u001b[0m\u001b[32m'id'\u001b[0m: \u001b[32m'34233dc3-b115-4f76-b648-35fa41e2cc3f'\u001b[0m\u001b[33m...\u001b[0m  \n",
       "\u001b[1;36m2\u001b[0m  \u001b[1m[\u001b[0m\u001b[1m{\u001b[0m\u001b[32m'id'\u001b[0m: \u001b[32m'34233dc3-b115-4f76-b648-35fa41e2cc3f'\u001b[0m\u001b[33m...\u001b[0m  "
      ]
     },
     "execution_count": 9,
     "metadata": {},
     "output_type": "execute_result"
    }
   ],
   "source": [
    "class StoryIdea(Entity):\n",
    "    title: str\n",
    "    description: str = None\n",
    "    characters: list[Character] = None\n",
    "\n",
    "characters = query('they are a villain').sample(3).objects\n",
    "\n",
    "ideas = prompt(\n",
    "    'Generate some story ideas',\n",
    "    input={\n",
    "        'characters': characters,\n",
    "    },\n",
    "    output=[StoryIdea],\n",
    ").objects\n",
    "\n",
    "for idea in ideas:\n",
    "    idea.characters = characters\n",
    "\n",
    "store(*ideas, collection='story-ideas')\n",
    "query(collection='story-ideas')"
   ]
  },
  {
   "cell_type": "markdown",
   "metadata": {},
   "source": [
    "Note that the output is being stored in a collection called `story-ideas`, which is created if it doesn't exist. Previously, all the data we've stored has been in the 'default' collection.\n",
    "\n",
    "*Collections are widely used internally to represent stored models, templates, prompt history, etc. This provides a consistent interface for accessing and manipulating data.*"
   ]
  },
  {
   "cell_type": "markdown",
   "metadata": {},
   "source": [
    "So far we've used the default model (GPT-3.5) when generating data, but you can specify a custom model using the `llm=` parameter."
   ]
  },
  {
   "cell_type": "code",
   "execution_count": 10,
   "metadata": {},
   "outputs": [
    {
     "name": "stderr",
     "output_type": "stream",
     "text": [
      "/Users/richardlayte/Work/layterz/promptx/venv/lib/python3.10/site-packages/pydantic/json_schema.py:2080: PydanticJsonSchemaWarning: Default value (FieldInfo(annotation=NoneType, required=True, json_schema_extra={'embed': False}),) is not JSON serializable; excluding default from JSON schema [non-serializable-default]\n",
      "  warnings.warn(message, PydanticJsonSchemaWarning)\n"
     ]
    }
   ],
   "source": [
    "from promptx.models.openai import ChatGPT\n",
    "\n",
    "gpt4 = ChatGPT(id='gpt4', model='gpt4')\n",
    "\n",
    "characters = prompt(\n",
    "    'Generate some characters from the Batman universe',\n",
    "    output=[Character],\n",
    "    llm=gpt4,\n",
    ")"
   ]
  },
  {
   "cell_type": "markdown",
   "metadata": {},
   "source": [
    "You can define any commonly used models, templates, etc, along with defining other settings, by creating a `config.py` file in the root of the project (i.e. adjacent to the `.px/` directory). This file is loaded when the project is initialized and a `setup` function is expected. Here's a simple example that defines a few custom models and a template.\n",
    "\n",
    "```\n",
    "# ./config.py\n",
    "\n",
    "from promptx.models.openai import ChatGPT\n",
    "\n",
    "gpt4 = ChatGPT(id='gpt4', model='gpt4')\n",
    "\n",
    "def setup(session):\n",
    "    session.store(gpt4, collection='models')\n",
    "```\n"
   ]
  }
 ],
 "metadata": {
  "kernelspec": {
   "display_name": "venv",
   "language": "python",
   "name": "python3"
  },
  "language_info": {
   "codemirror_mode": {
    "name": "ipython",
    "version": 3
   },
   "file_extension": ".py",
   "mimetype": "text/x-python",
   "name": "python",
   "nbconvert_exporter": "python",
   "pygments_lexer": "ipython3",
   "version": "3.10.6"
  }
 },
 "nbformat": 4,
 "nbformat_minor": 2
}
