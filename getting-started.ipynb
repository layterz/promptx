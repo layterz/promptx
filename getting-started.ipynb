{
 "cells": [
  {
   "cell_type": "markdown",
   "metadata": {},
   "source": [
    "# promptx\n",
    "\n",
    "A framework for building AI systems.\n",
    "\n",
    "```bash\n",
    "pip install pxx\n",
    "```"
   ]
  },
  {
   "cell_type": "code",
   "execution_count": 1,
   "metadata": {},
   "outputs": [
    {
     "name": "stderr",
     "output_type": "stream",
     "text": [
      "\u001b[32m2023-11-01 09:37:23.997\u001b[0m | \u001b[1mINFO    \u001b[0m | \u001b[36mpromptx\u001b[0m:\u001b[36mload\u001b[0m:\u001b[36m104\u001b[0m - \u001b[1mloading local app from /home/rjl/promptx\u001b[0m\n",
      "\u001b[32m2023-11-01 09:37:24.000\u001b[0m | \u001b[1mINFO    \u001b[0m | \u001b[36mpromptx\u001b[0m:\u001b[36mload\u001b[0m:\u001b[36m107\u001b[0m - \u001b[1mloaded environment variables from /home/rjl/promptx/.env\u001b[0m\n",
      "\u001b[32m2023-11-01 09:37:24.001\u001b[0m | \u001b[1mINFO    \u001b[0m | \u001b[36mpromptx\u001b[0m:\u001b[36mload\u001b[0m:\u001b[36m108\u001b[0m - \u001b[1mAPI KEY wMeGC\u001b[0m\n"
     ]
    },
    {
     "data": {
      "text/html": [
       "<pre style=\"white-space:pre;overflow-x:auto;line-height:normal;font-family:Menlo,'DejaVu Sans Mono',consolas,'Courier New',monospace\"></pre>\n"
      ],
      "text/plain": []
     },
     "metadata": {},
     "output_type": "display_data"
    },
    {
     "data": {
      "text/plain": [
       "\u001b[32m'Name: Batman\\n\\nAliases: Bruce Wayne\\n\\nOccupation: Crime-fighter\\n\\nGender: Male\\n\\nAge: Mid-30s\\n\\nBackground: Bruce Wayne, a billionaire playboy philanthropist, witnessed the murder of his parents as a child. This traumatic event drove him to swear an oath to protect Gotham City from crime. He trained extensively both physically and mentally, studying various martial arts, criminology, and detective skills. He also utilizes his vast resources to develop advanced technology and equipment to aid in his fight against crime.\\n\\nPhysical Appearance: Batman is tall and muscular, standing at around 6\\'2\" and weighing approximately 210 pounds. He has a strong jawline, rugged features, and intense, piercing blue eyes. He wears a black, armored suit with a bat symbol on his chest, along with a cape and cowl that conceal his identity.\\n\\nPersonality: Batman is known for his brooding and serious demeanor. He is driven by a sense of justice and a desire to protect the innocent. He is highly disciplined, focused, and relentless in his pursuit of criminals. He is also highly intelligent and strategic, always thinking several steps ahead. While he may come across as intimidating and fearsome, deep down he has a strong sense of compassion and empathy for those who have suffered.\\n\\nSkills and Abilities: Batman is a master martial artist, proficient in multiple fighting styles. He has extensive knowledge in detective work and forensic science, allowing him to solve complex crimes. He is a skilled strategist and tactician, able to outsmart and outmaneuver his opponents. Batman also possesses great physical strength, agility, and endurance, enabling him to perform impressive acrobatics and overpower his enemies.\\n\\nEquipment: Batman\\'s utility belt is filled with various gadgets and tools to aid him in his crime-fighting activities. These include batarangs \u001b[0m\u001b[32m(\u001b[0m\u001b[32mthrowing weapons shaped like bats\u001b[0m\u001b[32m)\u001b[0m\u001b[32m, a grappling hook, smoke pellets, and explosive gel. He also has access to vehicles such as the Batmobile and the Batwing, which are equipped with advanced technology and weapons.\\n\\nWeaknesses: Despite his strengths, Batman is still a human and is vulnerable to physical injuries. He also struggles with trust and tends to work alone, often alienating potential allies. Additionally, his relentless pursuit of justice can sometimes push him to the brink of obsession, putting him at risk of losing his own humanity.\\n\\n---\\n\\nNote: This character profile is based on the classic interpretation of Batman. Different interpretations of the character may vary slightly.'\u001b[0m"
      ]
     },
     "execution_count": 1,
     "metadata": {},
     "output_type": "execute_result"
    }
   ],
   "source": [
    "from promptx import prompt\n",
    "\n",
    "character = 'Batman'\n",
    "prompt(f'Write a character profile for {character}')"
   ]
  },
  {
   "cell_type": "markdown",
   "metadata": {},
   "source": [
    "By default, this returns a plain string response, but to generate complex data you can pass in the expected schema along with the prompt input.\n",
    "\n",
    "*Note: `Entity` is a thin layer on top of `pydantic.BaseModel` that allows the object to be stored as an embedding. You can use `pydantic.BaseModel` directly if you don't need to store the object as an embedding and just want to use it as the prompt output schema.*"
   ]
  },
  {
   "cell_type": "code",
   "execution_count": 2,
   "metadata": {},
   "outputs": [
    {
     "name": "stderr",
     "output_type": "stream",
     "text": [
      "/home/rjl/promptx/venv/lib/python3.10/site-packages/pydantic/json_schema.py:2075: PydanticJsonSchemaWarning: Default value (FieldInfo(annotation=NoneType, required=True, json_schema_extra={'embed': False}),) is not JSON serializable; excluding default from JSON schema [non-serializable-default]\n",
      "  warnings.warn(message, PydanticJsonSchemaWarning)\n"
     ]
    },
    {
     "data": {
      "text/html": [
       "<pre style=\"white-space:pre;overflow-x:auto;line-height:normal;font-family:Menlo,'DejaVu Sans Mono',consolas,'Courier New',monospace\"></pre>\n"
      ],
      "text/plain": []
     },
     "metadata": {},
     "output_type": "display_data"
    },
    {
     "data": {
      "text/plain": [
       "\n",
       "\u001b[1;35mCharacter\u001b[0m\u001b[1m(\u001b[0m\n",
       "    \u001b[33mid\u001b[0m=\u001b[32m'3a05fe57-ab86-4979-b473-d5e56f911bfa'\u001b[0m,\n",
       "    \u001b[33mtype\u001b[0m=\u001b[32m'character'\u001b[0m,\n",
       "    \u001b[33mname\u001b[0m=\u001b[32m'Batman'\u001b[0m,\n",
       "    \u001b[33mdescription\u001b[0m=\u001b[32m'Batman is a fictional superhero who appears in American comic books published by DC Comics. He is a wealthy industrialist and philanthropist who dedicates his life to fighting crime in Gotham City.'\u001b[0m,\n",
       "    \u001b[33mage\u001b[0m=\u001b[1;36m42\u001b[0m\n",
       "\u001b[1m)\u001b[0m"
      ]
     },
     "execution_count": 2,
     "metadata": {},
     "output_type": "execute_result"
    }
   ],
   "source": [
    "from pydantic import Field\n",
    "from promptx.collection import Entity\n",
    "\n",
    "class Character(Entity):\n",
    "    name: str = Field(..., embed=False),\n",
    "    description: str = Field(..., description='Describe the character in a few sentences')\n",
    "    age: int = Field(..., ge=0, le=120)\n",
    "\n",
    "batman = prompt('Generate a character profile for Batman', output=Character)\n",
    "batman"
   ]
  },
  {
   "cell_type": "markdown",
   "metadata": {},
   "source": [
    "This returns an instance of the specified schema using the generated response as the input data. Let's create a list of instead."
   ]
  },
  {
   "cell_type": "code",
   "execution_count": 3,
   "metadata": {},
   "outputs": [
    {
     "name": "stderr",
     "output_type": "stream",
     "text": [
      "/home/rjl/promptx/venv/lib/python3.10/site-packages/pydantic/json_schema.py:2075: PydanticJsonSchemaWarning: Default value (FieldInfo(annotation=NoneType, required=True, json_schema_extra={'embed': False}),) is not JSON serializable; excluding default from JSON schema [non-serializable-default]\n",
      "  warnings.warn(message, PydanticJsonSchemaWarning)\n"
     ]
    },
    {
     "data": {
      "text/html": [
       "<pre style=\"white-space:pre;overflow-x:auto;line-height:normal;font-family:Menlo,'DejaVu Sans Mono',consolas,'Courier New',monospace\"></pre>\n"
      ],
      "text/plain": []
     },
     "metadata": {},
     "output_type": "display_data"
    },
    {
     "data": {
      "text/html": [
       "<div>\n",
       "<style scoped>\n",
       "    .dataframe tbody tr th:only-of-type {\n",
       "        vertical-align: middle;\n",
       "    }\n",
       "\n",
       "    .dataframe tbody tr th {\n",
       "        vertical-align: top;\n",
       "    }\n",
       "\n",
       "    .dataframe thead th {\n",
       "        text-align: right;\n",
       "    }\n",
       "</style>\n",
       "<table border=\"1\" class=\"dataframe\">\n",
       "  <thead>\n",
       "    <tr style=\"text-align: right;\">\n",
       "      <th></th>\n",
       "      <th>id</th>\n",
       "      <th>type</th>\n",
       "      <th>name</th>\n",
       "      <th>description</th>\n",
       "      <th>age</th>\n",
       "    </tr>\n",
       "  </thead>\n",
       "  <tbody>\n",
       "    <tr>\n",
       "      <th>0</th>\n",
       "      <td>8300036f-0902-4294-b91d-78d21e43f5ff</td>\n",
       "      <td>character</td>\n",
       "      <td>Batman</td>\n",
       "      <td>Batman is a superhero who is also known as Bru...</td>\n",
       "      <td>35</td>\n",
       "    </tr>\n",
       "    <tr>\n",
       "      <th>1</th>\n",
       "      <td>571338d9-1634-4532-be6c-000142ca4f8f</td>\n",
       "      <td>character</td>\n",
       "      <td>Joker</td>\n",
       "      <td>The Joker is a supervillain and the archenemy ...</td>\n",
       "      <td>42</td>\n",
       "    </tr>\n",
       "    <tr>\n",
       "      <th>2</th>\n",
       "      <td>1deddd8d-93f8-4d26-bf25-5b96ab01774c</td>\n",
       "      <td>character</td>\n",
       "      <td>Catwoman</td>\n",
       "      <td>Catwoman is a skilled criminal and anti-hero w...</td>\n",
       "      <td>30</td>\n",
       "    </tr>\n",
       "  </tbody>\n",
       "</table>\n",
       "</div>"
      ],
      "text/plain": [
       "\n",
       "                                     id       type      name  \\\n",
       "\u001b[1;36m0\u001b[0m  \u001b[93m8300036f-0902-4294-b91d-78d21e43f5ff\u001b[0m  character    Batman   \n",
       "\u001b[1;36m1\u001b[0m  \u001b[93m571338d9-1634-4532-be6c-000142ca4f8f\u001b[0m  character     Joker   \n",
       "\u001b[1;36m2\u001b[0m  \u001b[93m1deddd8d-93f8-4d26-bf25-5b96ab01774c\u001b[0m  character  Catwoman   \n",
       "\n",
       "                                         description  age  \n",
       "\u001b[1;36m0\u001b[0m  Batman is a superhero who is also known as Bru\u001b[33m...\u001b[0m   \u001b[1;36m35\u001b[0m  \n",
       "\u001b[1;36m1\u001b[0m  The Joker is a supervillain and the archenemy \u001b[33m...\u001b[0m   \u001b[1;36m42\u001b[0m  \n",
       "\u001b[1;36m2\u001b[0m  Catwoman is a skilled criminal and anti-hero w\u001b[33m...\u001b[0m   \u001b[1;36m30\u001b[0m  "
      ]
     },
     "execution_count": 3,
     "metadata": {},
     "output_type": "execute_result"
    }
   ],
   "source": [
    "characters = prompt(\n",
    "    'Generate some characters from the Batman universe',\n",
    "    output=[Character],\n",
    ")\n",
    "\n",
    "characters"
   ]
  },
  {
   "cell_type": "markdown",
   "metadata": {},
   "source": [
    "If the output is a list, `prompt` returns a `Collection`, which extends `pd.DataFrame`. To extract the `Entity` representations, use the `objects` property.\n",
    "\n",
    "We can now store these generated objects as embeddings in a collection."
   ]
  },
  {
   "cell_type": "code",
   "execution_count": 4,
   "metadata": {},
   "outputs": [],
   "source": [
    "from promptx import store\n",
    "\n",
    "store(*characters.objects)"
   ]
  },
  {
   "cell_type": "markdown",
   "metadata": {},
   "source": [
    "This stores the object as an embedding, along with some metadata, in a vector database (ChromaDB by default). The process is quite simple, it embeds the whole object as a JSON string and each field individually. This allows us to query the database using any field in the object."
   ]
  },
  {
   "cell_type": "code",
   "execution_count": 5,
   "metadata": {},
   "outputs": [
    {
     "data": {
      "text/html": [
       "<pre style=\"white-space:pre;overflow-x:auto;line-height:normal;font-family:Menlo,'DejaVu Sans Mono',consolas,'Courier New',monospace\"></pre>\n"
      ],
      "text/plain": []
     },
     "metadata": {},
     "output_type": "display_data"
    },
    {
     "data": {
      "text/html": [
       "<div>\n",
       "<style scoped>\n",
       "    .dataframe tbody tr th:only-of-type {\n",
       "        vertical-align: middle;\n",
       "    }\n",
       "\n",
       "    .dataframe tbody tr th {\n",
       "        vertical-align: top;\n",
       "    }\n",
       "\n",
       "    .dataframe thead th {\n",
       "        text-align: right;\n",
       "    }\n",
       "</style>\n",
       "<table border=\"1\" class=\"dataframe\">\n",
       "  <thead>\n",
       "    <tr style=\"text-align: right;\">\n",
       "      <th></th>\n",
       "      <th>id</th>\n",
       "      <th>type</th>\n",
       "      <th>name</th>\n",
       "      <th>description</th>\n",
       "      <th>age</th>\n",
       "    </tr>\n",
       "  </thead>\n",
       "  <tbody>\n",
       "    <tr>\n",
       "      <th>0</th>\n",
       "      <td>8300036f-0902-4294-b91d-78d21e43f5ff</td>\n",
       "      <td>character</td>\n",
       "      <td>Batman</td>\n",
       "      <td>Batman is a superhero who is also known as Bru...</td>\n",
       "      <td>35</td>\n",
       "    </tr>\n",
       "    <tr>\n",
       "      <th>1</th>\n",
       "      <td>571338d9-1634-4532-be6c-000142ca4f8f</td>\n",
       "      <td>character</td>\n",
       "      <td>Joker</td>\n",
       "      <td>The Joker is a supervillain and the archenemy ...</td>\n",
       "      <td>42</td>\n",
       "    </tr>\n",
       "    <tr>\n",
       "      <th>2</th>\n",
       "      <td>1deddd8d-93f8-4d26-bf25-5b96ab01774c</td>\n",
       "      <td>character</td>\n",
       "      <td>Catwoman</td>\n",
       "      <td>Catwoman is a skilled criminal and anti-hero w...</td>\n",
       "      <td>30</td>\n",
       "    </tr>\n",
       "  </tbody>\n",
       "</table>\n",
       "</div>"
      ],
      "text/plain": [
       "\n",
       "                                     id       type      name  \\\n",
       "\u001b[1;36m0\u001b[0m  \u001b[93m8300036f-0902-4294-b91d-78d21e43f5ff\u001b[0m  character    Batman   \n",
       "\u001b[1;36m1\u001b[0m  \u001b[93m571338d9-1634-4532-be6c-000142ca4f8f\u001b[0m  character     Joker   \n",
       "\u001b[1;36m2\u001b[0m  \u001b[93m1deddd8d-93f8-4d26-bf25-5b96ab01774c\u001b[0m  character  Catwoman   \n",
       "\n",
       "                                         description  age  \n",
       "\u001b[1;36m0\u001b[0m  Batman is a superhero who is also known as Bru\u001b[33m...\u001b[0m   \u001b[1;36m35\u001b[0m  \n",
       "\u001b[1;36m1\u001b[0m  The Joker is a supervillain and the archenemy \u001b[33m...\u001b[0m   \u001b[1;36m42\u001b[0m  \n",
       "\u001b[1;36m2\u001b[0m  Catwoman is a skilled criminal and anti-hero w\u001b[33m...\u001b[0m   \u001b[1;36m30\u001b[0m  "
      ]
     },
     "execution_count": 5,
     "metadata": {},
     "output_type": "execute_result"
    }
   ],
   "source": [
    "from promptx import query\n",
    "\n",
    "query()"
   ]
  },
  {
   "cell_type": "markdown",
   "metadata": {},
   "source": [
    "Now let's generate some more characters and add them to the collection. We'll first get any existing characters and extract their names, which we can pass to the prompt to avoid generating duplicates. Any characters generated will be added the list during iteration. Finally, we'll store all the generated characters in the collection."
   ]
  },
  {
   "cell_type": "code",
   "execution_count": 7,
   "metadata": {},
   "outputs": [
    {
     "name": "stderr",
     "output_type": "stream",
     "text": [
      "/home/rjl/promptx/venv/lib/python3.10/site-packages/pydantic/json_schema.py:2075: PydanticJsonSchemaWarning: Default value (FieldInfo(annotation=NoneType, required=True, json_schema_extra={'embed': False}),) is not JSON serializable; excluding default from JSON schema [non-serializable-default]\n",
      "  warnings.warn(message, PydanticJsonSchemaWarning)\n",
      "/home/rjl/promptx/venv/lib/python3.10/site-packages/pydantic/json_schema.py:2075: PydanticJsonSchemaWarning: Default value (FieldInfo(annotation=NoneType, required=True, json_schema_extra={'embed': False}),) is not JSON serializable; excluding default from JSON schema [non-serializable-default]\n",
      "  warnings.warn(message, PydanticJsonSchemaWarning)\n",
      "/home/rjl/promptx/venv/lib/python3.10/site-packages/pydantic/json_schema.py:2075: PydanticJsonSchemaWarning: Default value (FieldInfo(annotation=NoneType, required=True, json_schema_extra={'embed': False}),) is not JSON serializable; excluding default from JSON schema [non-serializable-default]\n",
      "  warnings.warn(message, PydanticJsonSchemaWarning)\n"
     ]
    },
    {
     "data": {
      "text/html": [
       "<pre style=\"white-space:pre;overflow-x:auto;line-height:normal;font-family:Menlo,'DejaVu Sans Mono',consolas,'Courier New',monospace\"></pre>\n"
      ],
      "text/plain": []
     },
     "metadata": {},
     "output_type": "display_data"
    },
    {
     "data": {
      "text/html": [
       "<div>\n",
       "<style scoped>\n",
       "    .dataframe tbody tr th:only-of-type {\n",
       "        vertical-align: middle;\n",
       "    }\n",
       "\n",
       "    .dataframe tbody tr th {\n",
       "        vertical-align: top;\n",
       "    }\n",
       "\n",
       "    .dataframe thead th {\n",
       "        text-align: right;\n",
       "    }\n",
       "</style>\n",
       "<table border=\"1\" class=\"dataframe\">\n",
       "  <thead>\n",
       "    <tr style=\"text-align: right;\">\n",
       "      <th></th>\n",
       "      <th>id</th>\n",
       "      <th>type</th>\n",
       "      <th>name</th>\n",
       "      <th>description</th>\n",
       "      <th>age</th>\n",
       "    </tr>\n",
       "  </thead>\n",
       "  <tbody>\n",
       "    <tr>\n",
       "      <th>0</th>\n",
       "      <td>8300036f-0902-4294-b91d-78d21e43f5ff</td>\n",
       "      <td>character</td>\n",
       "      <td>Batman</td>\n",
       "      <td>Batman is a superhero who is also known as Bru...</td>\n",
       "      <td>35</td>\n",
       "    </tr>\n",
       "    <tr>\n",
       "      <th>1</th>\n",
       "      <td>571338d9-1634-4532-be6c-000142ca4f8f</td>\n",
       "      <td>character</td>\n",
       "      <td>Joker</td>\n",
       "      <td>The Joker is a supervillain and the archenemy ...</td>\n",
       "      <td>42</td>\n",
       "    </tr>\n",
       "    <tr>\n",
       "      <th>2</th>\n",
       "      <td>1deddd8d-93f8-4d26-bf25-5b96ab01774c</td>\n",
       "      <td>character</td>\n",
       "      <td>Catwoman</td>\n",
       "      <td>Catwoman is a skilled criminal and anti-hero w...</td>\n",
       "      <td>30</td>\n",
       "    </tr>\n",
       "    <tr>\n",
       "      <th>3</th>\n",
       "      <td>400358e0-7249-4b69-932f-1b494b6aca13</td>\n",
       "      <td>character</td>\n",
       "      <td>Nightshade</td>\n",
       "      <td>Nightshade is a mysterious vigilante with the ...</td>\n",
       "      <td>30</td>\n",
       "    </tr>\n",
       "    <tr>\n",
       "      <th>4</th>\n",
       "      <td>29ad847d-d5a6-4929-93dd-691d56b3a69f</td>\n",
       "      <td>character</td>\n",
       "      <td>Crimson Mask</td>\n",
       "      <td>Crimson Mask is a former circus performer turn...</td>\n",
       "      <td>35</td>\n",
       "    </tr>\n",
       "    <tr>\n",
       "      <th>5</th>\n",
       "      <td>c15b289a-863a-4ee8-8c9a-04f1864a340a</td>\n",
       "      <td>character</td>\n",
       "      <td>Scarlet Raven</td>\n",
       "      <td>Scarlet Raven is a highly skilled hacker and i...</td>\n",
       "      <td>28</td>\n",
       "    </tr>\n",
       "    <tr>\n",
       "      <th>6</th>\n",
       "      <td>91040e55-6529-4b0b-bbcc-fa7894e9e623</td>\n",
       "      <td>character</td>\n",
       "      <td>Shadowstrike</td>\n",
       "      <td>Shadowstrike is a highly skilled assassin trai...</td>\n",
       "      <td>28</td>\n",
       "    </tr>\n",
       "    <tr>\n",
       "      <th>7</th>\n",
       "      <td>de3dad44-32cc-4938-bcdf-3927e2f33b04</td>\n",
       "      <td>character</td>\n",
       "      <td>Firefly</td>\n",
       "      <td>Firefly is a pyromaniac with a fascination for...</td>\n",
       "      <td>36</td>\n",
       "    </tr>\n",
       "    <tr>\n",
       "      <th>8</th>\n",
       "      <td>f644ef0a-b186-4be6-a615-cf3db68b74e6</td>\n",
       "      <td>character</td>\n",
       "      <td>Silverfang</td>\n",
       "      <td>Silverfang is a master martial artist with enh...</td>\n",
       "      <td>32</td>\n",
       "    </tr>\n",
       "    <tr>\n",
       "      <th>9</th>\n",
       "      <td>bf2a5b82-7431-4d5b-b656-fd077767227a</td>\n",
       "      <td>character</td>\n",
       "      <td>Ravenstrike</td>\n",
       "      <td>Ravenstrike is a mysterious and enigmatic figu...</td>\n",
       "      <td>28</td>\n",
       "    </tr>\n",
       "    <tr>\n",
       "      <th>10</th>\n",
       "      <td>1e779e73-7625-4385-8530-16fe796b6b1a</td>\n",
       "      <td>character</td>\n",
       "      <td>Blazing Fury</td>\n",
       "      <td>Blazing Fury is a fiery and volatile character...</td>\n",
       "      <td>33</td>\n",
       "    </tr>\n",
       "    <tr>\n",
       "      <th>11</th>\n",
       "      <td>8019ecca-3488-4542-87cd-a8692a9b3fc1</td>\n",
       "      <td>character</td>\n",
       "      <td>Spectra</td>\n",
       "      <td>Spectra is a skilled detective with the abilit...</td>\n",
       "      <td>40</td>\n",
       "    </tr>\n",
       "  </tbody>\n",
       "</table>\n",
       "</div>"
      ],
      "text/plain": [
       "\n",
       "                                      id       type           name  \\\n",
       "\u001b[1;36m0\u001b[0m   \u001b[93m8300036f-0902-4294-b91d-78d21e43f5ff\u001b[0m  character         Batman   \n",
       "\u001b[1;36m1\u001b[0m   \u001b[93m571338d9-1634-4532-be6c-000142ca4f8f\u001b[0m  character          Joker   \n",
       "\u001b[1;36m2\u001b[0m   \u001b[93m1deddd8d-93f8-4d26-bf25-5b96ab01774c\u001b[0m  character       Catwoman   \n",
       "\u001b[1;36m3\u001b[0m   \u001b[93m400358e0-7249-4b69-932f-1b494b6aca13\u001b[0m  character     Nightshade   \n",
       "\u001b[1;36m4\u001b[0m   \u001b[93m29ad847d-d5a6-4929-93dd-691d56b3a69f\u001b[0m  character   Crimson Mask   \n",
       "\u001b[1;36m5\u001b[0m   \u001b[93mc15b289a-863a-4ee8-8c9a-04f1864a340a\u001b[0m  character  Scarlet Raven   \n",
       "\u001b[1;36m6\u001b[0m   \u001b[93m91040e55-6529-4b0b-bbcc-fa7894e9e623\u001b[0m  character   Shadowstrike   \n",
       "\u001b[1;36m7\u001b[0m   \u001b[93mde3dad44-32cc-4938-bcdf-3927e2f33b04\u001b[0m  character        Firefly   \n",
       "\u001b[1;36m8\u001b[0m   \u001b[93mf644ef0a-b186-4be6-a615-cf3db68b74e6\u001b[0m  character     Silverfang   \n",
       "\u001b[1;36m9\u001b[0m   \u001b[93mbf2a5b82-7431-4d5b-b656-fd077767227a\u001b[0m  character    Ravenstrike   \n",
       "\u001b[1;36m10\u001b[0m  \u001b[93m1e779e73-7625-4385-8530-16fe796b6b1a\u001b[0m  character   Blazing Fury   \n",
       "\u001b[1;36m11\u001b[0m  \u001b[93m8019ecca-3488-4542-87cd-a8692a9b3fc1\u001b[0m  character        Spectra   \n",
       "\n",
       "                                          description  age  \n",
       "\u001b[1;36m0\u001b[0m   Batman is a superhero who is also known as Bru\u001b[33m...\u001b[0m   \u001b[1;36m35\u001b[0m  \n",
       "\u001b[1;36m1\u001b[0m   The Joker is a supervillain and the archenemy \u001b[33m...\u001b[0m   \u001b[1;36m42\u001b[0m  \n",
       "\u001b[1;36m2\u001b[0m   Catwoman is a skilled criminal and anti-hero w\u001b[33m...\u001b[0m   \u001b[1;36m30\u001b[0m  \n",
       "\u001b[1;36m3\u001b[0m   Nightshade is a mysterious vigilante with the \u001b[33m...\u001b[0m   \u001b[1;36m30\u001b[0m  \n",
       "\u001b[1;36m4\u001b[0m   Crimson Mask is a former circus performer turn\u001b[33m...\u001b[0m   \u001b[1;36m35\u001b[0m  \n",
       "\u001b[1;36m5\u001b[0m   Scarlet Raven is a highly skilled hacker and i\u001b[33m...\u001b[0m   \u001b[1;36m28\u001b[0m  \n",
       "\u001b[1;36m6\u001b[0m   Shadowstrike is a highly skilled assassin trai\u001b[33m...\u001b[0m   \u001b[1;36m28\u001b[0m  \n",
       "\u001b[1;36m7\u001b[0m   Firefly is a pyromaniac with a fascination for\u001b[33m...\u001b[0m   \u001b[1;36m36\u001b[0m  \n",
       "\u001b[1;36m8\u001b[0m   Silverfang is a master martial artist with enh\u001b[33m...\u001b[0m   \u001b[1;36m32\u001b[0m  \n",
       "\u001b[1;36m9\u001b[0m   Ravenstrike is a mysterious and enigmatic figu\u001b[33m...\u001b[0m   \u001b[1;36m28\u001b[0m  \n",
       "\u001b[1;36m10\u001b[0m  Blazing Fury is a fiery and volatile character\u001b[33m...\u001b[0m   \u001b[1;36m33\u001b[0m  \n",
       "\u001b[1;36m11\u001b[0m  Spectra is a skilled detective with the abilit\u001b[33m...\u001b[0m   \u001b[1;36m40\u001b[0m  "
      ]
     },
     "execution_count": 7,
     "metadata": {},
     "output_type": "execute_result"
    }
   ],
   "source": [
    "n = 3\n",
    "characters = query().objects\n",
    "\n",
    "for _ in range(n):\n",
    "    characters += prompt(\n",
    "        '''\n",
    "        Generate a list of new characters from the Batman universe.\n",
    "        Don't use any of the existing characters.\n",
    "        ''',\n",
    "        input = {\n",
    "            'existing_characters': [c.name for c in characters],\n",
    "        },\n",
    "        output=[Character],\n",
    "    ).objects\n",
    "\n",
    "store(*characters)\n",
    "query()"
   ]
  },
  {
   "cell_type": "markdown",
   "metadata": {},
   "source": [
    "Now that the characters are embedded, we can query the collection."
   ]
  },
  {
   "cell_type": "code",
   "execution_count": 8,
   "metadata": {},
   "outputs": [
    {
     "data": {
      "text/html": [
       "<pre style=\"white-space:pre;overflow-x:auto;line-height:normal;font-family:Menlo,'DejaVu Sans Mono',consolas,'Courier New',monospace\"></pre>\n"
      ],
      "text/plain": []
     },
     "metadata": {},
     "output_type": "display_data"
    },
    {
     "data": {
      "text/html": [
       "<div>\n",
       "<style scoped>\n",
       "    .dataframe tbody tr th:only-of-type {\n",
       "        vertical-align: middle;\n",
       "    }\n",
       "\n",
       "    .dataframe tbody tr th {\n",
       "        vertical-align: top;\n",
       "    }\n",
       "\n",
       "    .dataframe thead th {\n",
       "        text-align: right;\n",
       "    }\n",
       "</style>\n",
       "<table border=\"1\" class=\"dataframe\">\n",
       "  <thead>\n",
       "    <tr style=\"text-align: right;\">\n",
       "      <th></th>\n",
       "      <th>id</th>\n",
       "      <th>type</th>\n",
       "      <th>name</th>\n",
       "      <th>description</th>\n",
       "      <th>age</th>\n",
       "    </tr>\n",
       "  </thead>\n",
       "  <tbody>\n",
       "    <tr>\n",
       "      <th>0</th>\n",
       "      <td>bf2a5b82-7431-4d5b-b656-fd077767227a</td>\n",
       "      <td>character</td>\n",
       "      <td>Ravenstrike</td>\n",
       "      <td>Ravenstrike is a mysterious and enigmatic figu...</td>\n",
       "      <td>28</td>\n",
       "    </tr>\n",
       "    <tr>\n",
       "      <th>1</th>\n",
       "      <td>1e779e73-7625-4385-8530-16fe796b6b1a</td>\n",
       "      <td>character</td>\n",
       "      <td>Blazing Fury</td>\n",
       "      <td>Blazing Fury is a fiery and volatile character...</td>\n",
       "      <td>33</td>\n",
       "    </tr>\n",
       "    <tr>\n",
       "      <th>2</th>\n",
       "      <td>91040e55-6529-4b0b-bbcc-fa7894e9e623</td>\n",
       "      <td>character</td>\n",
       "      <td>Shadowstrike</td>\n",
       "      <td>Shadowstrike is a highly skilled assassin trai...</td>\n",
       "      <td>28</td>\n",
       "    </tr>\n",
       "    <tr>\n",
       "      <th>3</th>\n",
       "      <td>f644ef0a-b186-4be6-a615-cf3db68b74e6</td>\n",
       "      <td>character</td>\n",
       "      <td>Silverfang</td>\n",
       "      <td>Silverfang is a master martial artist with enh...</td>\n",
       "      <td>32</td>\n",
       "    </tr>\n",
       "    <tr>\n",
       "      <th>4</th>\n",
       "      <td>400358e0-7249-4b69-932f-1b494b6aca13</td>\n",
       "      <td>character</td>\n",
       "      <td>Nightshade</td>\n",
       "      <td>Nightshade is a mysterious vigilante with the ...</td>\n",
       "      <td>30</td>\n",
       "    </tr>\n",
       "    <tr>\n",
       "      <th>5</th>\n",
       "      <td>571338d9-1634-4532-be6c-000142ca4f8f</td>\n",
       "      <td>character</td>\n",
       "      <td>Joker</td>\n",
       "      <td>The Joker is a supervillain and the archenemy ...</td>\n",
       "      <td>42</td>\n",
       "    </tr>\n",
       "  </tbody>\n",
       "</table>\n",
       "</div>"
      ],
      "text/plain": [
       "\n",
       "                                     id       type          name  \\\n",
       "\u001b[1;36m0\u001b[0m  \u001b[93mbf2a5b82-7431-4d5b-b656-fd077767227a\u001b[0m  character   Ravenstrike   \n",
       "\u001b[1;36m1\u001b[0m  \u001b[93m1e779e73-7625-4385-8530-16fe796b6b1a\u001b[0m  character  Blazing Fury   \n",
       "\u001b[1;36m2\u001b[0m  \u001b[93m91040e55-6529-4b0b-bbcc-fa7894e9e623\u001b[0m  character  Shadowstrike   \n",
       "\u001b[1;36m3\u001b[0m  \u001b[93mf644ef0a-b186-4be6-a615-cf3db68b74e6\u001b[0m  character    Silverfang   \n",
       "\u001b[1;36m4\u001b[0m  \u001b[93m400358e0-7249-4b69-932f-1b494b6aca13\u001b[0m  character    Nightshade   \n",
       "\u001b[1;36m5\u001b[0m  \u001b[93m571338d9-1634-4532-be6c-000142ca4f8f\u001b[0m  character         Joker   \n",
       "\n",
       "                                         description  age  \n",
       "\u001b[1;36m0\u001b[0m  Ravenstrike is a mysterious and enigmatic figu\u001b[33m...\u001b[0m   \u001b[1;36m28\u001b[0m  \n",
       "\u001b[1;36m1\u001b[0m  Blazing Fury is a fiery and volatile character\u001b[33m...\u001b[0m   \u001b[1;36m33\u001b[0m  \n",
       "\u001b[1;36m2\u001b[0m  Shadowstrike is a highly skilled assassin trai\u001b[33m...\u001b[0m   \u001b[1;36m28\u001b[0m  \n",
       "\u001b[1;36m3\u001b[0m  Silverfang is a master martial artist with enh\u001b[33m...\u001b[0m   \u001b[1;36m32\u001b[0m  \n",
       "\u001b[1;36m4\u001b[0m  Nightshade is a mysterious vigilante with the \u001b[33m...\u001b[0m   \u001b[1;36m30\u001b[0m  \n",
       "\u001b[1;36m5\u001b[0m  The Joker is a supervillain and the archenemy \u001b[33m...\u001b[0m   \u001b[1;36m42\u001b[0m  "
      ]
     },
     "execution_count": 8,
     "metadata": {},
     "output_type": "execute_result"
    }
   ],
   "source": [
    "villains = query('they are a villain')\n",
    "villains"
   ]
  },
  {
   "cell_type": "markdown",
   "metadata": {},
   "source": [
    "This compares the query text with the stored objects, returning results that are closest in vector space.\n",
    "\n",
    "*Note: the effectiveness of embedding queries will depend on what data has been embedded. In this case, ChatGPT will know some details about the generated characters and so does a decent job on this data. For other data, you may find generating synthetic intermediary data to be helpful. E.g. generating `thoughts` and/or `quotes` about a set of documents.*"
   ]
  },
  {
   "cell_type": "markdown",
   "metadata": {},
   "source": [
    "Because `Collection` extends `pd.DataFrame`, we can use all the usual Pandas methods to filter and sort the results."
   ]
  },
  {
   "cell_type": "code",
   "execution_count": 9,
   "metadata": {},
   "outputs": [
    {
     "data": {
      "text/html": [
       "<pre style=\"white-space:pre;overflow-x:auto;line-height:normal;font-family:Menlo,'DejaVu Sans Mono',consolas,'Courier New',monospace\"></pre>\n"
      ],
      "text/plain": []
     },
     "metadata": {},
     "output_type": "display_data"
    },
    {
     "data": {
      "text/html": [
       "<div>\n",
       "<style scoped>\n",
       "    .dataframe tbody tr th:only-of-type {\n",
       "        vertical-align: middle;\n",
       "    }\n",
       "\n",
       "    .dataframe tbody tr th {\n",
       "        vertical-align: top;\n",
       "    }\n",
       "\n",
       "    .dataframe thead th {\n",
       "        text-align: right;\n",
       "    }\n",
       "</style>\n",
       "<table border=\"1\" class=\"dataframe\">\n",
       "  <thead>\n",
       "    <tr style=\"text-align: right;\">\n",
       "      <th></th>\n",
       "      <th>id</th>\n",
       "      <th>type</th>\n",
       "      <th>name</th>\n",
       "      <th>description</th>\n",
       "      <th>age</th>\n",
       "    </tr>\n",
       "  </thead>\n",
       "  <tbody>\n",
       "    <tr>\n",
       "      <th>0</th>\n",
       "      <td>bf2a5b82-7431-4d5b-b656-fd077767227a</td>\n",
       "      <td>character</td>\n",
       "      <td>Ravenstrike</td>\n",
       "      <td>Ravenstrike is a mysterious and enigmatic figu...</td>\n",
       "      <td>28</td>\n",
       "    </tr>\n",
       "    <tr>\n",
       "      <th>2</th>\n",
       "      <td>91040e55-6529-4b0b-bbcc-fa7894e9e623</td>\n",
       "      <td>character</td>\n",
       "      <td>Shadowstrike</td>\n",
       "      <td>Shadowstrike is a highly skilled assassin trai...</td>\n",
       "      <td>28</td>\n",
       "    </tr>\n",
       "  </tbody>\n",
       "</table>\n",
       "</div>"
      ],
      "text/plain": [
       "\n",
       "                                     id       type          name  \\\n",
       "\u001b[1;36m0\u001b[0m  \u001b[93mbf2a5b82-7431-4d5b-b656-fd077767227a\u001b[0m  character   Ravenstrike   \n",
       "\u001b[1;36m2\u001b[0m  \u001b[93m91040e55-6529-4b0b-bbcc-fa7894e9e623\u001b[0m  character  Shadowstrike   \n",
       "\n",
       "                                         description  age  \n",
       "\u001b[1;36m0\u001b[0m  Ravenstrike is a mysterious and enigmatic figu\u001b[33m...\u001b[0m   \u001b[1;36m28\u001b[0m  \n",
       "\u001b[1;36m2\u001b[0m  Shadowstrike is a highly skilled assassin trai\u001b[33m...\u001b[0m   \u001b[1;36m28\u001b[0m  "
      ]
     },
     "execution_count": 9,
     "metadata": {},
     "output_type": "execute_result"
    }
   ],
   "source": [
    "villains[villains.age < 30]"
   ]
  },
  {
   "cell_type": "markdown",
   "metadata": {},
   "source": [
    "Relationships can be defined by setting the field to a type which subclasses `Entity` (or a list of that type). Internally, this is stored as a query and then loaded when the field is accessed from the database."
   ]
  },
  {
   "cell_type": "code",
   "execution_count": 10,
   "metadata": {},
   "outputs": [
    {
     "name": "stderr",
     "output_type": "stream",
     "text": [
      "/home/rjl/promptx/venv/lib/python3.10/site-packages/pydantic/json_schema.py:2075: PydanticJsonSchemaWarning: Default value (FieldInfo(annotation=NoneType, required=True, json_schema_extra={'embed': False}),) is not JSON serializable; excluding default from JSON schema [non-serializable-default]\n",
      "  warnings.warn(message, PydanticJsonSchemaWarning)\n"
     ]
    },
    {
     "data": {
      "text/html": [
       "<pre style=\"white-space:pre;overflow-x:auto;line-height:normal;font-family:Menlo,'DejaVu Sans Mono',consolas,'Courier New',monospace\"></pre>\n"
      ],
      "text/plain": []
     },
     "metadata": {},
     "output_type": "display_data"
    },
    {
     "data": {
      "text/html": [
       "<div>\n",
       "<style scoped>\n",
       "    .dataframe tbody tr th:only-of-type {\n",
       "        vertical-align: middle;\n",
       "    }\n",
       "\n",
       "    .dataframe tbody tr th {\n",
       "        vertical-align: top;\n",
       "    }\n",
       "\n",
       "    .dataframe thead th {\n",
       "        text-align: right;\n",
       "    }\n",
       "</style>\n",
       "<table border=\"1\" class=\"dataframe\">\n",
       "  <thead>\n",
       "    <tr style=\"text-align: right;\">\n",
       "      <th></th>\n",
       "      <th>id</th>\n",
       "      <th>type</th>\n",
       "      <th>title</th>\n",
       "      <th>description</th>\n",
       "      <th>characters</th>\n",
       "    </tr>\n",
       "  </thead>\n",
       "  <tbody>\n",
       "    <tr>\n",
       "      <th>0</th>\n",
       "      <td>f141ac9e-52e0-4705-8eb1-114bbcbbfe2f</td>\n",
       "      <td>storyidea</td>\n",
       "      <td>Shadows of Justice</td>\n",
       "      <td>Nightshade, Ravenstrike, and Silverfang team u...</td>\n",
       "      <td>[{'id': '400358e0-7249-4b69-932f-1b494b6aca13'...</td>\n",
       "    </tr>\n",
       "    <tr>\n",
       "      <th>1</th>\n",
       "      <td>dae81a68-df1f-4484-a0bf-bd7827e09b1a</td>\n",
       "      <td>storyidea</td>\n",
       "      <td>City of Shadows</td>\n",
       "      <td>Gotham City is plagued by a string of unexplai...</td>\n",
       "      <td>[{'id': '400358e0-7249-4b69-932f-1b494b6aca13'...</td>\n",
       "    </tr>\n",
       "    <tr>\n",
       "      <th>2</th>\n",
       "      <td>80d4020b-b61f-44f7-81bf-fcd3c7fdf18a</td>\n",
       "      <td>storyidea</td>\n",
       "      <td>Shadows of Betrayal</td>\n",
       "      <td>Nightshade, Ravenstrike, and Silverfang find t...</td>\n",
       "      <td>[{'id': '400358e0-7249-4b69-932f-1b494b6aca13'...</td>\n",
       "    </tr>\n",
       "  </tbody>\n",
       "</table>\n",
       "</div>"
      ],
      "text/plain": [
       "\n",
       "                                     id       type                title  \\\n",
       "\u001b[1;36m0\u001b[0m  \u001b[93mf141ac9e-52e0-4705-8eb1-114bbcbbfe2f\u001b[0m  storyidea   Shadows of Justice   \n",
       "\u001b[1;36m1\u001b[0m  \u001b[93mdae81a68-df1f-4484-a0bf-bd7827e09b1a\u001b[0m  storyidea      City of Shadows   \n",
       "\u001b[1;36m2\u001b[0m  \u001b[93m80d4020b-b61f-44f7-81bf-fcd3c7fdf18a\u001b[0m  storyidea  Shadows of Betrayal   \n",
       "\n",
       "                                         description  \\\n",
       "\u001b[1;36m0\u001b[0m  Nightshade, Ravenstrike, and Silverfang team u\u001b[33m...\u001b[0m   \n",
       "\u001b[1;36m1\u001b[0m  Gotham City is plagued by a string of unexplai\u001b[33m...\u001b[0m   \n",
       "\u001b[1;36m2\u001b[0m  Nightshade, Ravenstrike, and Silverfang find t\u001b[33m...\u001b[0m   \n",
       "\n",
       "                                          characters  \n",
       "\u001b[1;36m0\u001b[0m  \u001b[1m[\u001b[0m\u001b[1m{\u001b[0m\u001b[32m'id'\u001b[0m: \u001b[32m'400358e0-7249-4b69-932f-1b494b6aca13'\u001b[0m\u001b[33m...\u001b[0m  \n",
       "\u001b[1;36m1\u001b[0m  \u001b[1m[\u001b[0m\u001b[1m{\u001b[0m\u001b[32m'id'\u001b[0m: \u001b[32m'400358e0-7249-4b69-932f-1b494b6aca13'\u001b[0m\u001b[33m...\u001b[0m  \n",
       "\u001b[1;36m2\u001b[0m  \u001b[1m[\u001b[0m\u001b[1m{\u001b[0m\u001b[32m'id'\u001b[0m: \u001b[32m'400358e0-7249-4b69-932f-1b494b6aca13'\u001b[0m\u001b[33m...\u001b[0m  "
      ]
     },
     "execution_count": 10,
     "metadata": {},
     "output_type": "execute_result"
    }
   ],
   "source": [
    "class StoryIdea(Entity):\n",
    "    title: str\n",
    "    description: str = None\n",
    "    characters: list[Character] = None\n",
    "\n",
    "characters = query('they are a villain').sample(3).objects\n",
    "\n",
    "ideas = prompt(\n",
    "    'Generate some story ideas',\n",
    "    input={\n",
    "        'characters': characters,\n",
    "    },\n",
    "    output=[StoryIdea],\n",
    ").objects\n",
    "\n",
    "for idea in ideas:\n",
    "    idea.characters = characters\n",
    "\n",
    "store(*ideas, collection='story-ideas')\n",
    "query(collection='story-ideas')"
   ]
  },
  {
   "cell_type": "markdown",
   "metadata": {},
   "source": [
    "Note that the output is being stored in a collection called `story-ideas`, which is created if it doesn't exist. Previously, all the data we've stored has been in the 'default' collection.\n",
    "\n",
    "*Collections are widely used internally to represent stored models, templates, prompt history, etc. This provides a consistent interface for accessing and manipulating data.*"
   ]
  },
  {
   "cell_type": "markdown",
   "metadata": {},
   "source": [
    "So far we've used the default model (GPT-3.5) when generating data, but you can specify a custom model using the `llm=` parameter."
   ]
  },
  {
   "cell_type": "code",
   "execution_count": 11,
   "metadata": {},
   "outputs": [
    {
     "name": "stderr",
     "output_type": "stream",
     "text": [
      "/home/rjl/promptx/venv/lib/python3.10/site-packages/pydantic/json_schema.py:2075: PydanticJsonSchemaWarning: Default value (FieldInfo(annotation=NoneType, required=True, json_schema_extra={'embed': False}),) is not JSON serializable; excluding default from JSON schema [non-serializable-default]\n",
      "  warnings.warn(message, PydanticJsonSchemaWarning)\n"
     ]
    }
   ],
   "source": [
    "from promptx.models.openai import ChatGPT\n",
    "\n",
    "gpt4 = ChatGPT(id='gpt4', model='gpt4')\n",
    "\n",
    "characters = prompt(\n",
    "    'Generate some characters from the Batman universe',\n",
    "    output=[Character],\n",
    "    llm=gpt4,\n",
    ")"
   ]
  },
  {
   "cell_type": "markdown",
   "metadata": {},
   "source": [
    "You can define any commonly used models, templates, etc, along with defining other settings, by creating a `config.py` file in the root of the project (i.e. adjacent to the `.px/` directory). This file is loaded when the project is initialized and a `setup` function is expected. Here's a simple example that defines a few custom models and a template.\n",
    "\n",
    "```\n",
    "# ./config.py\n",
    "\n",
    "from promptx.models.openai import ChatGPT\n",
    "\n",
    "gpt4 = ChatGPT(id='gpt4', model='gpt4')\n",
    "\n",
    "def setup(session):\n",
    "    session.store(gpt4, collection='models')\n",
    "```\n"
   ]
  }
 ],
 "metadata": {
  "kernelspec": {
   "display_name": "venv",
   "language": "python",
   "name": "python3"
  },
  "language_info": {
   "codemirror_mode": {
    "name": "ipython",
    "version": 3
   },
   "file_extension": ".py",
   "mimetype": "text/x-python",
   "name": "python",
   "nbconvert_exporter": "python",
   "pygments_lexer": "ipython3",
   "version": "3.10.12"
  }
 },
 "nbformat": 4,
 "nbformat_minor": 2
}
